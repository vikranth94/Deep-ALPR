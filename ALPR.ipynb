{
 "cells": [
  {
   "cell_type": "code",
   "execution_count": 1,
   "metadata": {},
   "outputs": [
    {
     "name": "stderr",
     "output_type": "stream",
     "text": [
      "Using TensorFlow backend.\n"
     ]
    }
   ],
   "source": [
    "import numpy as np\n",
    "import os\n",
    "from  natsort import natsorted\n",
    "import imageio\n",
    "import re\n",
    "import time\n",
    "import keras\n",
    "from keras.models import Sequential\n",
    "from keras.preprocessing.image import ImageDataGenerator\n",
    "from keras.layers import Dense, Activation, Flatten, Dropout, BatchNormalization, Input, GRU, Reshape\n",
    "from keras.layers import Conv2D, MaxPooling2D, Bidirectional, Permute, LSTM\n",
    "from keras.callbacks import ModelCheckpoint, TensorBoard\n",
    "from keras.layers.merge import add, concatenate\n",
    "from keras import backend as K\n",
    "from keras.models import load_model, Model\n",
    "from sklearn.metrics import confusion_matrix\n",
    "from sklearn.metrics import f1_score, accuracy_score\n",
    "import matplotlib.pyplot as plt\n",
    "import itertools"
   ]
  },
  {
   "cell_type": "code",
   "execution_count": 2,
   "metadata": {},
   "outputs": [],
   "source": [
    "NAME = 'ALPR_CNN'\n",
    "data_dir = 'Data'\n",
    "model_dir = 'Models'"
   ]
  },
  {
   "cell_type": "code",
   "execution_count": 5,
   "metadata": {},
   "outputs": [],
   "source": [
    "def prepare_dataset(data_dir, folder_name):\n",
    "    try:\n",
    "        print('Loading numpy')\n",
    "        X = np.load(os.path.join(data_dir,'X_{}.npy'.format(folder_name)))\n",
    "        y = np.load(os.path.join(data_dir,'y_{}.npy'.format(folder_name)))\n",
    "\n",
    "    except:\n",
    "        print('Loading images')\n",
    "        image_list = []\n",
    "        labels = []\n",
    "        pictures_dir = os.path.join(data_dir, folder_name)\n",
    "        names = [ d for d in os.listdir( pictures_dir ) if d.endswith( '.jpg') ]\n",
    "        names = natsorted(names)\n",
    "        for image in names:\n",
    "            image_list.append(imageio.imread(os.path.join(pictures_dir, image)))\n",
    "            label = re.split('[._]', image)\n",
    "            labels.append(label[0][2:])\n",
    "            print(label[0][2:])\n",
    "        X = np.stack(image_list, axis=0)\n",
    "        y = np.array(labels)\n",
    "        np.save(os.path.join(data_dir,'X_{}'.format(folder_name)),X)\n",
    "        np.save(os.path.join(data_dir,'y_{}'.format(folder_name)),y)\n",
    "    return X,y"
   ]
  },
  {
   "cell_type": "code",
   "execution_count": 6,
   "metadata": {},
   "outputs": [
    {
     "name": "stdout",
     "output_type": "stream",
     "text": [
      "Loading numpy\n"
     ]
    }
   ],
   "source": [
    "X,y = prepare_dataset(data_dir, 'resized')"
   ]
  },
  {
   "cell_type": "code",
   "execution_count": 7,
   "metadata": {},
   "outputs": [
    {
     "data": {
      "text/plain": [
       "(3921, 100, 160, 3)"
      ]
     },
     "execution_count": 7,
     "metadata": {},
     "output_type": "execute_result"
    }
   ],
   "source": [
    "X.shape"
   ]
  },
  {
   "cell_type": "code",
   "execution_count": 8,
   "metadata": {},
   "outputs": [],
   "source": [
    "np.random.seed(42)\n",
    "indices = np.arange(X.shape[0])\n",
    "np.random.shuffle(indices)\n",
    "\n",
    "X = X[indices]\n",
    "y = y[indices]"
   ]
  },
  {
   "cell_type": "code",
   "execution_count": 9,
   "metadata": {},
   "outputs": [],
   "source": [
    "z = 3500\n",
    "X_train = X[:z]\n",
    "X_test = X[z:]\n",
    "y_train = y[:z]\n",
    "y_test = y[z:]"
   ]
  },
  {
   "cell_type": "code",
   "execution_count": 10,
   "metadata": {},
   "outputs": [],
   "source": [
    "regex = r'^[A-Z0-9 ]+$'\n",
    "alphabet = u'ABCDEFGHIJKLMNOPQRSTUVWXYZ0123456789 '"
   ]
  },
  {
   "cell_type": "code",
   "execution_count": 11,
   "metadata": {},
   "outputs": [],
   "source": [
    "# Translation of characters to unique integer values\n",
    "def text_to_labels(text):\n",
    "    ret = []\n",
    "    for char in text:\n",
    "        ret.append(alphabet.find(char))\n",
    "    return ret\n",
    "\n",
    "\n",
    "# Reverse translation of numerical classes back to characters\n",
    "def labels_to_text(labels):\n",
    "    ret = []\n",
    "    for c in labels:\n",
    "        if c == len(alphabet):  # CTC Blank\n",
    "            ret.append(\"\")\n",
    "        else:\n",
    "            ret.append(alphabet[c])\n",
    "    return \"\".join(ret)\n",
    "\n",
    "\n",
    "# only a-z and space..probably not to difficult\n",
    "# to expand to uppercase and symbols\n",
    "\n",
    "def is_valid_str(in_str):\n",
    "    search = re.compile(regex, re.UNICODE).search\n",
    "    return bool(search(in_str))"
   ]
  },
  {
   "cell_type": "code",
   "execution_count": 12,
   "metadata": {},
   "outputs": [],
   "source": [
    "#Removing 7 label plates\n",
    "mylen = np.vectorize(len)\n",
    "\n",
    "count = mylen(y_train)\n",
    "X_train = np.delete(X_train, np.where(count>6)[0], axis=0 )\n",
    "y_train = np.delete(y_train, np.where(count>6)[0], axis=0 )\n",
    "\n",
    "count = mylen(y_test)\n",
    "X_test = np.delete(X_test, np.where(count>6)[0], axis=0 )\n",
    "y_test = np.delete(y_test, np.where(count>6)[0], axis=0 )"
   ]
  },
  {
   "cell_type": "code",
   "execution_count": 13,
   "metadata": {},
   "outputs": [],
   "source": [
    "def code_labels(labels):\n",
    "    y_coded = []\n",
    "    for l in labels:\n",
    "        y_coded.append(text_to_labels(l))\n",
    "    return np.array(y_coded)"
   ]
  },
  {
   "cell_type": "code",
   "execution_count": 14,
   "metadata": {},
   "outputs": [],
   "source": [
    "y_train_coded = code_labels(y_train)\n",
    "y_test_coded = code_labels(y_test)"
   ]
  },
  {
   "cell_type": "code",
   "execution_count": 15,
   "metadata": {},
   "outputs": [],
   "source": [
    "num_classes = 36\n",
    "#Labels to binary\n",
    "y_train_0 = keras.utils.to_categorical(y_train_coded[:,0],num_classes)\n",
    "y_train_1 = keras.utils.to_categorical(y_train_coded[:,1],num_classes)\n",
    "y_train_2 = keras.utils.to_categorical(y_train_coded[:,2],num_classes)\n",
    "y_train_3 = keras.utils.to_categorical(y_train_coded[:,3],num_classes)\n",
    "y_train_4 = keras.utils.to_categorical(y_train_coded[:,4],num_classes)\n",
    "y_train_5 = keras.utils.to_categorical(y_train_coded[:,5],num_classes)\n",
    "\n",
    "y_test_0 = keras.utils.to_categorical(y_test_coded[:,0],num_classes)\n",
    "y_test_1 = keras.utils.to_categorical(y_test_coded[:,1],num_classes)\n",
    "y_test_2 = keras.utils.to_categorical(y_test_coded[:,2],num_classes)\n",
    "y_test_3 = keras.utils.to_categorical(y_test_coded[:,3],num_classes)\n",
    "y_test_4 = keras.utils.to_categorical(y_test_coded[:,4],num_classes)\n",
    "y_test_5 = keras.utils.to_categorical(y_test_coded[:,5],num_classes)\n"
   ]
  },
  {
   "cell_type": "code",
   "execution_count": 110,
   "metadata": {},
   "outputs": [
    {
     "data": {
      "text/plain": [
       "Counter({6: 3495, 7: 5})"
      ]
     },
     "execution_count": 110,
     "metadata": {},
     "output_type": "execute_result"
    }
   ],
   "source": [
    "from collections import Counter\n",
    "Counter(count)"
   ]
  },
  {
   "cell_type": "markdown",
   "metadata": {},
   "source": [
    "## Keras Model"
   ]
  },
  {
   "cell_type": "code",
   "execution_count": 16,
   "metadata": {},
   "outputs": [],
   "source": [
    "img_w = 100\n",
    "# Input Parameters\n",
    "img_h = 160\n",
    "# Network parameters\n",
    "conv_filters = 64\n",
    "kernel_size = (3, 3)\n",
    "pool_size = 2\n",
    "time_dense_size = 32\n",
    "rnn_size = 64\n",
    "minibatch_size = 128\n",
    "unique_tokens = 37\n",
    "\n",
    "if K.image_data_format() == 'channels_first':\n",
    "    input_shape = (3, img_w, img_h)\n",
    "else:\n",
    "    input_shape = (img_w, img_h, 3)\n"
   ]
  },
  {
   "cell_type": "raw",
   "metadata": {},
   "source": [
    "act = 'relu'\n",
    "input_data = Input(name='the_input', shape=input_shape, dtype='float32')\n",
    "inner = Conv2D(conv_filters, kernel_size, padding='same',\n",
    "               activation=act, kernel_initializer='he_normal',\n",
    "               name='conv1')(input_data)\n",
    "inner = MaxPooling2D(pool_size=(pool_size, pool_size), name='max1')(inner)\n",
    "inner = Conv2D(conv_filters, kernel_size, padding='same',\n",
    "               activation=act, kernel_initializer='he_normal',\n",
    "               name='conv2')(inner)\n",
    "inner = MaxPooling2D(pool_size=(pool_size, pool_size), name='max2')(inner)\n",
    "\n",
    "conv_to_rnn_dims = (img_w // (pool_size ** 2), (img_h // (pool_size ** 2)) * conv_filters)\n",
    "inner = Reshape(target_shape=conv_to_rnn_dims, name='reshape')(inner)\n",
    "\n",
    "# cuts down input size going into RNN:\n",
    "inner = Dense(time_dense_size, activation=act, name='dense1')(inner)\n",
    "\n",
    "# Two layers of bidirectional GRUs\n",
    "# GRU seems to work as well, if not better than LSTM:\n",
    "gru_1 = GRU(rnn_size, return_sequences=True, kernel_initializer='he_normal', name='gru1')(inner)\n",
    "gru_1b = GRU(rnn_size, return_sequences=True, go_backwards=True, kernel_initializer='he_normal', name='gru1_b')(inner)\n",
    "gru1_merged = add([gru_1, gru_1b])\n",
    "gru_2 = GRU(rnn_size, return_sequences=True, kernel_initializer='he_normal', name='gru2')(gru1_merged)\n",
    "gru_2b = GRU(rnn_size, return_sequences=True, go_backwards=True, kernel_initializer='he_normal', name='gru2_b')(gru1_merged)\n",
    "\n",
    "# transforms RNN output to character activations:\n",
    "inner = Dense(unique_tokens, kernel_initializer='he_normal',\n",
    "              name='dense2')(concatenate([gru_2, gru_2b]))\n",
    "y_pred = Activation('softmax', name='softmax')(inner)\n",
    "Model(inputs=input_data, outputs=y_pred).summary()"
   ]
  },
  {
   "cell_type": "code",
   "execution_count": null,
   "metadata": {},
   "outputs": [],
   "source": []
  },
  {
   "cell_type": "code",
   "execution_count": null,
   "metadata": {},
   "outputs": [],
   "source": []
  },
  {
   "cell_type": "code",
   "execution_count": null,
   "metadata": {},
   "outputs": [],
   "source": []
  },
  {
   "cell_type": "code",
   "execution_count": 17,
   "metadata": {},
   "outputs": [],
   "source": [
    "num_feat_map = 64\n",
    "p = 0.2"
   ]
  },
  {
   "cell_type": "code",
   "execution_count": 18,
   "metadata": {
    "scrolled": true
   },
   "outputs": [
    {
     "name": "stdout",
     "output_type": "stream",
     "text": [
      "__________________________________________________________________________________________________\n",
      "Layer (type)                    Output Shape         Param #     Connected to                     \n",
      "==================================================================================================\n",
      "the_input (InputLayer)          (None, 100, 160, 3)  0                                            \n",
      "__________________________________________________________________________________________________\n",
      "Conv_1 (Conv2D)                 (None, 100, 160, 64) 1792        the_input[0][0]                  \n",
      "__________________________________________________________________________________________________\n",
      "Bn_1 (BatchNormalization)       (None, 100, 160, 64) 256         Conv_1[0][0]                     \n",
      "__________________________________________________________________________________________________\n",
      "Max_pool_1 (MaxPooling2D)       (None, 50, 80, 64)   0           Bn_1[0][0]                       \n",
      "__________________________________________________________________________________________________\n",
      "Drop_1 (Dropout)                (None, 50, 80, 64)   0           Max_pool_1[0][0]                 \n",
      "__________________________________________________________________________________________________\n",
      "Conv_2 (Conv2D)                 (None, 50, 80, 64)   36928       Drop_1[0][0]                     \n",
      "__________________________________________________________________________________________________\n",
      "Bn_2 (BatchNormalization)       (None, 50, 80, 64)   256         Conv_2[0][0]                     \n",
      "__________________________________________________________________________________________________\n",
      "Max_pool_2 (MaxPooling2D)       (None, 25, 40, 64)   0           Bn_2[0][0]                       \n",
      "__________________________________________________________________________________________________\n",
      "Drop_2 (Dropout)                (None, 25, 40, 64)   0           Max_pool_2[0][0]                 \n",
      "__________________________________________________________________________________________________\n",
      "Permute_1 (Permute)             (None, 40, 25, 64)   0           Drop_2[0][0]                     \n",
      "__________________________________________________________________________________________________\n",
      "Reshape_1 (Reshape)             (None, 40, 1600)     0           Permute_1[0][0]                  \n",
      "__________________________________________________________________________________________________\n",
      "dense1 (Dense)                  (None, 40, 32)       51232       Reshape_1[0][0]                  \n",
      "__________________________________________________________________________________________________\n",
      "bidirectional_1 (Bidirectional) (None, 40, 64)       16640       dense1[0][0]                     \n",
      "__________________________________________________________________________________________________\n",
      "Bn_4 (BatchNormalization)       (None, 40, 64)       256         bidirectional_1[0][0]            \n",
      "__________________________________________________________________________________________________\n",
      "bidirectional_2 (Bidirectional) (None, 40, 64)       24832       Bn_4[0][0]                       \n",
      "__________________________________________________________________________________________________\n",
      "Bn_5 (BatchNormalization)       (None, 40, 64)       256         bidirectional_2[0][0]            \n",
      "__________________________________________________________________________________________________\n",
      "Drop_4 (Dropout)                (None, 40, 64)       0           Bn_5[0][0]                       \n",
      "__________________________________________________________________________________________________\n",
      "flatten_1 (Flatten)             (None, 2560)         0           Drop_4[0][0]                     \n",
      "__________________________________________________________________________________________________\n",
      "dense_3 (Dense)                 (None, 128)          327808      flatten_1[0][0]                  \n",
      "__________________________________________________________________________________________________\n",
      "Bn_6 (BatchNormalization)       (None, 128)          512         dense_3[0][0]                    \n",
      "__________________________________________________________________________________________________\n",
      "Drop_5 (Dropout)                (None, 128)          0           Bn_6[0][0]                       \n",
      "__________________________________________________________________________________________________\n",
      "dense_out_1 (Dense)             (None, 36)           4644        Drop_5[0][0]                     \n",
      "__________________________________________________________________________________________________\n",
      "dense_out_2 (Dense)             (None, 36)           4644        Drop_5[0][0]                     \n",
      "__________________________________________________________________________________________________\n",
      "dense_out_3 (Dense)             (None, 36)           4644        Drop_5[0][0]                     \n",
      "__________________________________________________________________________________________________\n",
      "dense_out_4 (Dense)             (None, 36)           4644        Drop_5[0][0]                     \n",
      "__________________________________________________________________________________________________\n",
      "dense_out_5 (Dense)             (None, 36)           4644        Drop_5[0][0]                     \n",
      "__________________________________________________________________________________________________\n",
      "dense_out_6 (Dense)             (None, 36)           4644        Drop_5[0][0]                     \n",
      "==================================================================================================\n",
      "Total params: 488,632\n",
      "Trainable params: 487,864\n",
      "Non-trainable params: 768\n",
      "__________________________________________________________________________________________________\n"
     ]
    }
   ],
   "source": [
    "input_data = Input(name='the_input', shape=input_shape, dtype='float32')\n",
    "x = Conv2D(num_feat_map, kernel_size=(3, 3),\n",
    "               activation='relu',\n",
    "               input_shape=input_shape,\n",
    "               padding='same', name='Conv_1')(input_data)\n",
    "x = BatchNormalization(name='Bn_1')(x)\n",
    "x = MaxPooling2D(pool_size=(2, 2), name='Max_pool_1')(x)\n",
    "x = Dropout(p, name='Drop_1')(x)\n",
    "x = Conv2D(num_feat_map, kernel_size=(3, 3), activation='relu', padding='same', name='Conv_2')(x)\n",
    "x = BatchNormalization(name='Bn_2')(x)\n",
    "x = MaxPooling2D(pool_size=(2, 2), name='Max_pool_2')(x)\n",
    "x = Dropout(p, name='Drop_2')(x)\n",
    "# model.add(Conv2D(num_feat_map, kernel_size=(3, 3), activation='relu', padding='same', name='Conv_3'))\n",
    "# model.add(BatchNormalization(name='Bn_3'))\n",
    "# model.add(MaxPooling2D(pool_size=(2, 2), name='Max_pool_3'))\n",
    "# model.add(Dropout(p, name='Drop_3'))\n",
    "x = Permute((2, 1, 3), name='Permute_1')(x)  # for swap-dimension\n",
    "x = Reshape((-1, num_feat_map * (img_w // (pool_size ** 2))), name='Reshape_1')(x)\n",
    "x = Dense(time_dense_size, activation='relu', name='dense1')(x)\n",
    "x = Bidirectional(LSTM(32, return_sequences=True, stateful=False, name='Lstm_1'))(x)\n",
    "x = BatchNormalization(name='Bn_4')(x)\n",
    "x = Bidirectional(LSTM(32, return_sequences=True, stateful=False, name='Lstm_1'))(x)\n",
    "x = BatchNormalization(name='Bn_5')(x)\n",
    "x = Dropout(p, name='Drop_4')(x)\n",
    "#x = Dense(128, activation='relu', name='dense_2')(x)\n",
    "x = Flatten()(x)\n",
    "x = Dense(128, activation='relu', name='dense_3')(x)\n",
    "x = BatchNormalization(name='Bn_6')(x)\n",
    "x = Dropout(p, name='Drop_5')(x)\n",
    "\n",
    "#output\n",
    "d1 = Dense(num_classes, activation='softmax', name='dense_out_1')(x)\n",
    "d2 = Dense(num_classes, activation='softmax', name='dense_out_2' )(x)\n",
    "d3 = Dense(num_classes, activation='softmax', name='dense_out_3')(x)\n",
    "d4 = Dense(num_classes, activation='softmax', name='dense_out_4')(x)\n",
    "d5 = Dense(num_classes, activation='softmax', name='dense_out_5')(x)\n",
    "d6 = Dense(num_classes, activation='softmax', name='dense_out_6')(x)\n",
    "model = Model(input_data, [d1,d2,d3,d4,d5,d6])\n",
    "\n",
    "\n",
    "model.summary()"
   ]
  },
  {
   "cell_type": "code",
   "execution_count": 19,
   "metadata": {},
   "outputs": [],
   "source": [
    "if not os.path.exists(model_dir):\n",
    "    os.makedirs(model_dir)\n",
    "\n",
    "batch_size = 50\n",
    "epochs = 100\n"
   ]
  },
  {
   "cell_type": "code",
   "execution_count": 20,
   "metadata": {},
   "outputs": [
    {
     "name": "stdout",
     "output_type": "stream",
     "text": [
      "Train on 3495 samples, validate on 420 samples\n",
      "Epoch 1/100\n",
      "3495/3495 [==============================] - 33s 10ms/step - loss: 21.9424 - dense_out_1_loss: 3.8772 - dense_out_2_loss: 3.7652 - dense_out_3_loss: 3.6169 - dense_out_4_loss: 3.5399 - dense_out_5_loss: 3.5453 - dense_out_6_loss: 3.5979 - dense_out_1_acc: 0.0821 - dense_out_2_acc: 0.1090 - dense_out_3_acc: 0.1379 - dense_out_4_acc: 0.1662 - dense_out_5_acc: 0.1651 - dense_out_6_acc: 0.1585 - val_loss: 18.9082 - val_dense_out_1_loss: 3.4173 - val_dense_out_2_loss: 3.3931 - val_dense_out_3_loss: 3.1071 - val_dense_out_4_loss: 2.8294 - val_dense_out_5_loss: 3.0328 - val_dense_out_6_loss: 3.1286 - val_dense_out_1_acc: 0.1857 - val_dense_out_2_acc: 0.1690 - val_dense_out_3_acc: 0.2571 - val_dense_out_4_acc: 0.2929 - val_dense_out_5_acc: 0.3119 - val_dense_out_6_acc: 0.3119\n"
     ]
    },
    {
     "name": "stderr",
     "output_type": "stream",
     "text": [
      "c:\\programdata\\anaconda3\\envs\\tensorflow\\lib\\site-packages\\keras\\callbacks.py:432: RuntimeWarning: Can save best model only with val_acc available, skipping.\n",
      "  'skipping.' % (self.monitor), RuntimeWarning)\n"
     ]
    },
    {
     "name": "stdout",
     "output_type": "stream",
     "text": [
      "Epoch 2/100\n",
      "3495/3495 [==============================] - 26s 7ms/step - loss: 14.6540 - dense_out_1_loss: 2.7898 - dense_out_2_loss: 2.7984 - dense_out_3_loss: 2.4049 - dense_out_4_loss: 2.0668 - dense_out_5_loss: 2.1974 - dense_out_6_loss: 2.3967 - dense_out_1_acc: 0.3199 - dense_out_2_acc: 0.3050 - dense_out_3_acc: 0.3957 - dense_out_4_acc: 0.4701 - dense_out_5_acc: 0.4592 - dense_out_6_acc: 0.4206 - val_loss: 12.4871 - val_dense_out_1_loss: 2.2851 - val_dense_out_2_loss: 2.5402 - val_dense_out_3_loss: 2.0613 - val_dense_out_4_loss: 1.6777 - val_dense_out_5_loss: 1.7412 - val_dense_out_6_loss: 2.1816 - val_dense_out_1_acc: 0.4333 - val_dense_out_2_acc: 0.3810 - val_dense_out_3_acc: 0.4571 - val_dense_out_4_acc: 0.5619 - val_dense_out_5_acc: 0.5381 - val_dense_out_6_acc: 0.4595\n",
      "Epoch 3/100\n",
      "3495/3495 [==============================] - 25s 7ms/step - loss: 9.9673 - dense_out_1_loss: 1.9058 - dense_out_2_loss: 2.0905 - dense_out_3_loss: 1.6455 - dense_out_4_loss: 1.2085 - dense_out_5_loss: 1.4222 - dense_out_6_loss: 1.6948 - dense_out_1_acc: 0.5199 - dense_out_2_acc: 0.4698 - dense_out_3_acc: 0.5780 - dense_out_4_acc: 0.6884 - dense_out_5_acc: 0.6320 - dense_out_6_acc: 0.5685 - val_loss: 10.0934 - val_dense_out_1_loss: 1.8698 - val_dense_out_2_loss: 2.1190 - val_dense_out_3_loss: 1.7512 - val_dense_out_4_loss: 1.3991 - val_dense_out_5_loss: 1.3300 - val_dense_out_6_loss: 1.6243 - val_dense_out_1_acc: 0.5476 - val_dense_out_2_acc: 0.4500 - val_dense_out_3_acc: 0.5595 - val_dense_out_4_acc: 0.6405 - val_dense_out_5_acc: 0.6238 - val_dense_out_6_acc: 0.5571\n",
      "Epoch 4/100\n",
      "3495/3495 [==============================] - 26s 7ms/step - loss: 7.4207 - dense_out_1_loss: 1.4854 - dense_out_2_loss: 1.5719 - dense_out_3_loss: 1.2706 - dense_out_4_loss: 0.8536 - dense_out_5_loss: 1.0122 - dense_out_6_loss: 1.2270 - dense_out_1_acc: 0.6155 - dense_out_2_acc: 0.5989 - dense_out_3_acc: 0.6761 - dense_out_4_acc: 0.7817 - dense_out_5_acc: 0.7359 - dense_out_6_acc: 0.6858 - val_loss: 7.1463 - val_dense_out_1_loss: 1.3785 - val_dense_out_2_loss: 1.5403 - val_dense_out_3_loss: 1.2583 - val_dense_out_4_loss: 0.8812 - val_dense_out_5_loss: 0.9114 - val_dense_out_6_loss: 1.1765 - val_dense_out_1_acc: 0.6524 - val_dense_out_2_acc: 0.6095 - val_dense_out_3_acc: 0.6976 - val_dense_out_4_acc: 0.7714 - val_dense_out_5_acc: 0.7548 - val_dense_out_6_acc: 0.7119\n",
      "Epoch 5/100\n",
      "3495/3495 [==============================] - 25s 7ms/step - loss: 5.6776 - dense_out_1_loss: 1.1622 - dense_out_2_loss: 1.2130 - dense_out_3_loss: 0.9781 - dense_out_4_loss: 0.6222 - dense_out_5_loss: 0.7504 - dense_out_6_loss: 0.9517 - dense_out_1_acc: 0.6856 - dense_out_2_acc: 0.6876 - dense_out_3_acc: 0.7554 - dense_out_4_acc: 0.8392 - dense_out_5_acc: 0.8083 - dense_out_6_acc: 0.7528 - val_loss: 5.8985 - val_dense_out_1_loss: 1.1305 - val_dense_out_2_loss: 1.2944 - val_dense_out_3_loss: 1.0451 - val_dense_out_4_loss: 0.7465 - val_dense_out_5_loss: 0.7136 - val_dense_out_6_loss: 0.9683 - val_dense_out_1_acc: 0.7310 - val_dense_out_2_acc: 0.7024 - val_dense_out_3_acc: 0.7310 - val_dense_out_4_acc: 0.8286 - val_dense_out_5_acc: 0.8190 - val_dense_out_6_acc: 0.7714\n",
      "Epoch 6/100\n",
      "3495/3495 [==============================] - 25s 7ms/step - loss: 4.6022 - dense_out_1_loss: 0.9543 - dense_out_2_loss: 0.9762 - dense_out_3_loss: 0.7918 - dense_out_4_loss: 0.5030 - dense_out_5_loss: 0.6067 - dense_out_6_loss: 0.7701 - dense_out_1_acc: 0.7439 - dense_out_2_acc: 0.7565 - dense_out_3_acc: 0.7937 - dense_out_4_acc: 0.8793 - dense_out_5_acc: 0.8446 - dense_out_6_acc: 0.8029 - val_loss: 4.9918 - val_dense_out_1_loss: 0.9730 - val_dense_out_2_loss: 1.0804 - val_dense_out_3_loss: 0.9115 - val_dense_out_4_loss: 0.5934 - val_dense_out_5_loss: 0.5971 - val_dense_out_6_loss: 0.8364 - val_dense_out_1_acc: 0.7690 - val_dense_out_2_acc: 0.7310 - val_dense_out_3_acc: 0.7714 - val_dense_out_4_acc: 0.8714 - val_dense_out_5_acc: 0.8405 - val_dense_out_6_acc: 0.7905\n",
      "Epoch 7/100\n",
      "3495/3495 [==============================] - 25s 7ms/step - loss: 3.7751 - dense_out_1_loss: 0.7899 - dense_out_2_loss: 0.7836 - dense_out_3_loss: 0.6570 - dense_out_4_loss: 0.4067 - dense_out_5_loss: 0.5014 - dense_out_6_loss: 0.6365 - dense_out_1_acc: 0.7834 - dense_out_2_acc: 0.8040 - dense_out_3_acc: 0.8383 - dense_out_4_acc: 0.8981 - dense_out_5_acc: 0.8730 - dense_out_6_acc: 0.8338 - val_loss: 4.7053 - val_dense_out_1_loss: 0.8721 - val_dense_out_2_loss: 0.9969 - val_dense_out_3_loss: 0.8593 - val_dense_out_4_loss: 0.5743 - val_dense_out_5_loss: 0.5809 - val_dense_out_6_loss: 0.8217 - val_dense_out_1_acc: 0.7905 - val_dense_out_2_acc: 0.7595 - val_dense_out_3_acc: 0.7833 - val_dense_out_4_acc: 0.8595 - val_dense_out_5_acc: 0.8429 - val_dense_out_6_acc: 0.7976\n",
      "Epoch 8/100\n",
      "3495/3495 [==============================] - 25s 7ms/step - loss: 3.1738 - dense_out_1_loss: 0.6599 - dense_out_2_loss: 0.6603 - dense_out_3_loss: 0.5465 - dense_out_4_loss: 0.3448 - dense_out_5_loss: 0.4297 - dense_out_6_loss: 0.5326 - dense_out_1_acc: 0.8232 - dense_out_2_acc: 0.8335 - dense_out_3_acc: 0.8632 - dense_out_4_acc: 0.9159 - dense_out_5_acc: 0.8898 - dense_out_6_acc: 0.8584 - val_loss: 4.2767 - val_dense_out_1_loss: 0.8341 - val_dense_out_2_loss: 0.8633 - val_dense_out_3_loss: 0.7775 - val_dense_out_4_loss: 0.5281 - val_dense_out_5_loss: 0.5064 - val_dense_out_6_loss: 0.7674 - val_dense_out_1_acc: 0.7810 - val_dense_out_2_acc: 0.7929 - val_dense_out_3_acc: 0.8095 - val_dense_out_4_acc: 0.8762 - val_dense_out_5_acc: 0.8667 - val_dense_out_6_acc: 0.8167\n",
      "Epoch 9/100\n",
      "3495/3495 [==============================] - 25s 7ms/step - loss: 2.5831 - dense_out_1_loss: 0.5580 - dense_out_2_loss: 0.5265 - dense_out_3_loss: 0.4376 - dense_out_4_loss: 0.2748 - dense_out_5_loss: 0.3550 - dense_out_6_loss: 0.4312 - dense_out_1_acc: 0.8526 - dense_out_2_acc: 0.8738 - dense_out_3_acc: 0.8884 - dense_out_4_acc: 0.9353 - dense_out_5_acc: 0.9087 - dense_out_6_acc: 0.8887 - val_loss: 3.9061 - val_dense_out_1_loss: 0.7178 - val_dense_out_2_loss: 0.8209 - val_dense_out_3_loss: 0.7315 - val_dense_out_4_loss: 0.4515 - val_dense_out_5_loss: 0.4854 - val_dense_out_6_loss: 0.6989 - val_dense_out_1_acc: 0.8357 - val_dense_out_2_acc: 0.7952 - val_dense_out_3_acc: 0.8095 - val_dense_out_4_acc: 0.9095 - val_dense_out_5_acc: 0.8905 - val_dense_out_6_acc: 0.8310\n",
      "Epoch 10/100\n",
      "3495/3495 [==============================] - 25s 7ms/step - loss: 2.1873 - dense_out_1_loss: 0.4630 - dense_out_2_loss: 0.4414 - dense_out_3_loss: 0.3830 - dense_out_4_loss: 0.2324 - dense_out_5_loss: 0.2834 - dense_out_6_loss: 0.3840 - dense_out_1_acc: 0.8784 - dense_out_2_acc: 0.8961 - dense_out_3_acc: 0.9090 - dense_out_4_acc: 0.9419 - dense_out_5_acc: 0.9276 - dense_out_6_acc: 0.8947 - val_loss: 3.5856 - val_dense_out_1_loss: 0.6306 - val_dense_out_2_loss: 0.7181 - val_dense_out_3_loss: 0.6546 - val_dense_out_4_loss: 0.4942 - val_dense_out_5_loss: 0.4345 - val_dense_out_6_loss: 0.6535 - val_dense_out_1_acc: 0.8571 - val_dense_out_2_acc: 0.8167 - val_dense_out_3_acc: 0.8357 - val_dense_out_4_acc: 0.8952 - val_dense_out_5_acc: 0.8786 - val_dense_out_6_acc: 0.8262\n",
      "Epoch 11/100\n",
      "3495/3495 [==============================] - 25s 7ms/step - loss: 1.8221 - dense_out_1_loss: 0.3784 - dense_out_2_loss: 0.3727 - dense_out_3_loss: 0.3198 - dense_out_4_loss: 0.1999 - dense_out_5_loss: 0.2435 - dense_out_6_loss: 0.3078 - dense_out_1_acc: 0.9024 - dense_out_2_acc: 0.9104 - dense_out_3_acc: 0.9216 - dense_out_4_acc: 0.9525 - dense_out_5_acc: 0.9402 - dense_out_6_acc: 0.9270 - val_loss: 3.7192 - val_dense_out_1_loss: 0.6306 - val_dense_out_2_loss: 0.7247 - val_dense_out_3_loss: 0.6808 - val_dense_out_4_loss: 0.5008 - val_dense_out_5_loss: 0.4903 - val_dense_out_6_loss: 0.6920 - val_dense_out_1_acc: 0.8524 - val_dense_out_2_acc: 0.7976 - val_dense_out_3_acc: 0.8405 - val_dense_out_4_acc: 0.8881 - val_dense_out_5_acc: 0.8810 - val_dense_out_6_acc: 0.8310\n",
      "Epoch 12/100\n"
     ]
    },
    {
     "name": "stdout",
     "output_type": "stream",
     "text": [
      "3495/3495 [==============================] - 25s 7ms/step - loss: 1.5501 - dense_out_1_loss: 0.3234 - dense_out_2_loss: 0.3076 - dense_out_3_loss: 0.2607 - dense_out_4_loss: 0.1804 - dense_out_5_loss: 0.2099 - dense_out_6_loss: 0.2682 - dense_out_1_acc: 0.9193 - dense_out_2_acc: 0.9236 - dense_out_3_acc: 0.9391 - dense_out_4_acc: 0.9536 - dense_out_5_acc: 0.9488 - dense_out_6_acc: 0.9345 - val_loss: 3.3127 - val_dense_out_1_loss: 0.5717 - val_dense_out_2_loss: 0.6290 - val_dense_out_3_loss: 0.6364 - val_dense_out_4_loss: 0.4484 - val_dense_out_5_loss: 0.4023 - val_dense_out_6_loss: 0.6249 - val_dense_out_1_acc: 0.8571 - val_dense_out_2_acc: 0.8500 - val_dense_out_3_acc: 0.8357 - val_dense_out_4_acc: 0.8976 - val_dense_out_5_acc: 0.8833 - val_dense_out_6_acc: 0.8429\n",
      "Epoch 13/100\n",
      "3495/3495 [==============================] - 25s 7ms/step - loss: 1.3384 - dense_out_1_loss: 0.2723 - dense_out_2_loss: 0.2687 - dense_out_3_loss: 0.2309 - dense_out_4_loss: 0.1576 - dense_out_5_loss: 0.1827 - dense_out_6_loss: 0.2262 - dense_out_1_acc: 0.9333 - dense_out_2_acc: 0.9388 - dense_out_3_acc: 0.9448 - dense_out_4_acc: 0.9631 - dense_out_5_acc: 0.9536 - dense_out_6_acc: 0.9393 - val_loss: 3.3476 - val_dense_out_1_loss: 0.5920 - val_dense_out_2_loss: 0.6048 - val_dense_out_3_loss: 0.6025 - val_dense_out_4_loss: 0.4494 - val_dense_out_5_loss: 0.4206 - val_dense_out_6_loss: 0.6783 - val_dense_out_1_acc: 0.8500 - val_dense_out_2_acc: 0.8381 - val_dense_out_3_acc: 0.8333 - val_dense_out_4_acc: 0.8952 - val_dense_out_5_acc: 0.8690 - val_dense_out_6_acc: 0.8333\n",
      "Epoch 14/100\n",
      "3495/3495 [==============================] - 25s 7ms/step - loss: 1.1387 - dense_out_1_loss: 0.2374 - dense_out_2_loss: 0.2269 - dense_out_3_loss: 0.1840 - dense_out_4_loss: 0.1306 - dense_out_5_loss: 0.1560 - dense_out_6_loss: 0.2039 - dense_out_1_acc: 0.9419 - dense_out_2_acc: 0.9488 - dense_out_3_acc: 0.9582 - dense_out_4_acc: 0.9671 - dense_out_5_acc: 0.9662 - dense_out_6_acc: 0.9465 - val_loss: 3.1426 - val_dense_out_1_loss: 0.5274 - val_dense_out_2_loss: 0.5611 - val_dense_out_3_loss: 0.5855 - val_dense_out_4_loss: 0.4247 - val_dense_out_5_loss: 0.4304 - val_dense_out_6_loss: 0.6135 - val_dense_out_1_acc: 0.8714 - val_dense_out_2_acc: 0.8524 - val_dense_out_3_acc: 0.8500 - val_dense_out_4_acc: 0.9095 - val_dense_out_5_acc: 0.8976 - val_dense_out_6_acc: 0.8619\n",
      "Epoch 15/100\n",
      "3495/3495 [==============================] - 25s 7ms/step - loss: 0.9749 - dense_out_1_loss: 0.2035 - dense_out_2_loss: 0.2018 - dense_out_3_loss: 0.1633 - dense_out_4_loss: 0.1119 - dense_out_5_loss: 0.1322 - dense_out_6_loss: 0.1623 - dense_out_1_acc: 0.9462 - dense_out_2_acc: 0.9534 - dense_out_3_acc: 0.9639 - dense_out_4_acc: 0.9728 - dense_out_5_acc: 0.9708 - dense_out_6_acc: 0.9597 - val_loss: 3.1206 - val_dense_out_1_loss: 0.5447 - val_dense_out_2_loss: 0.5771 - val_dense_out_3_loss: 0.5725 - val_dense_out_4_loss: 0.4068 - val_dense_out_5_loss: 0.4024 - val_dense_out_6_loss: 0.6171 - val_dense_out_1_acc: 0.8690 - val_dense_out_2_acc: 0.8595 - val_dense_out_3_acc: 0.8548 - val_dense_out_4_acc: 0.9143 - val_dense_out_5_acc: 0.8833 - val_dense_out_6_acc: 0.8548\n",
      "Epoch 16/100\n",
      "3495/3495 [==============================] - 25s 7ms/step - loss: 0.8282 - dense_out_1_loss: 0.1699 - dense_out_2_loss: 0.1564 - dense_out_3_loss: 0.1432 - dense_out_4_loss: 0.0924 - dense_out_5_loss: 0.1238 - dense_out_6_loss: 0.1426 - dense_out_1_acc: 0.9585 - dense_out_2_acc: 0.9668 - dense_out_3_acc: 0.9682 - dense_out_4_acc: 0.9811 - dense_out_5_acc: 0.9671 - dense_out_6_acc: 0.9614 - val_loss: 3.0255 - val_dense_out_1_loss: 0.4994 - val_dense_out_2_loss: 0.5728 - val_dense_out_3_loss: 0.5700 - val_dense_out_4_loss: 0.4075 - val_dense_out_5_loss: 0.3609 - val_dense_out_6_loss: 0.6150 - val_dense_out_1_acc: 0.8667 - val_dense_out_2_acc: 0.8452 - val_dense_out_3_acc: 0.8667 - val_dense_out_4_acc: 0.9119 - val_dense_out_5_acc: 0.9000 - val_dense_out_6_acc: 0.8500\n",
      "Epoch 17/100\n",
      "3495/3495 [==============================] - 25s 7ms/step - loss: 0.7481 - dense_out_1_loss: 0.1611 - dense_out_2_loss: 0.1513 - dense_out_3_loss: 0.1300 - dense_out_4_loss: 0.0813 - dense_out_5_loss: 0.0949 - dense_out_6_loss: 0.1295 - dense_out_1_acc: 0.9599 - dense_out_2_acc: 0.9685 - dense_out_3_acc: 0.9731 - dense_out_4_acc: 0.9857 - dense_out_5_acc: 0.9788 - dense_out_6_acc: 0.9688 - val_loss: 2.9795 - val_dense_out_1_loss: 0.5356 - val_dense_out_2_loss: 0.5746 - val_dense_out_3_loss: 0.5468 - val_dense_out_4_loss: 0.3865 - val_dense_out_5_loss: 0.3400 - val_dense_out_6_loss: 0.5961 - val_dense_out_1_acc: 0.8571 - val_dense_out_2_acc: 0.8548 - val_dense_out_3_acc: 0.8548 - val_dense_out_4_acc: 0.9119 - val_dense_out_5_acc: 0.9095 - val_dense_out_6_acc: 0.8690\n",
      "Epoch 18/100\n",
      "3495/3495 [==============================] - 25s 7ms/step - loss: 0.6883 - dense_out_1_loss: 0.1435 - dense_out_2_loss: 0.1386 - dense_out_3_loss: 0.1133 - dense_out_4_loss: 0.0837 - dense_out_5_loss: 0.0869 - dense_out_6_loss: 0.1223 - dense_out_1_acc: 0.9642 - dense_out_2_acc: 0.9691 - dense_out_3_acc: 0.9768 - dense_out_4_acc: 0.9797 - dense_out_5_acc: 0.9800 - dense_out_6_acc: 0.9714 - val_loss: 2.9126 - val_dense_out_1_loss: 0.5053 - val_dense_out_2_loss: 0.5338 - val_dense_out_3_loss: 0.5246 - val_dense_out_4_loss: 0.3784 - val_dense_out_5_loss: 0.3579 - val_dense_out_6_loss: 0.6126 - val_dense_out_1_acc: 0.8786 - val_dense_out_2_acc: 0.8476 - val_dense_out_3_acc: 0.8667 - val_dense_out_4_acc: 0.9167 - val_dense_out_5_acc: 0.9095 - val_dense_out_6_acc: 0.8595\n",
      "Epoch 19/100\n",
      "3495/3495 [==============================] - 25s 7ms/step - loss: 0.5580 - dense_out_1_loss: 0.1088 - dense_out_2_loss: 0.1153 - dense_out_3_loss: 0.0916 - dense_out_4_loss: 0.0646 - dense_out_5_loss: 0.0829 - dense_out_6_loss: 0.0949 - dense_out_1_acc: 0.9800 - dense_out_2_acc: 0.9771 - dense_out_3_acc: 0.9834 - dense_out_4_acc: 0.9851 - dense_out_5_acc: 0.9805 - dense_out_6_acc: 0.9791 - val_loss: 2.8347 - val_dense_out_1_loss: 0.4838 - val_dense_out_2_loss: 0.4895 - val_dense_out_3_loss: 0.5329 - val_dense_out_4_loss: 0.3828 - val_dense_out_5_loss: 0.3468 - val_dense_out_6_loss: 0.5987 - val_dense_out_1_acc: 0.8810 - val_dense_out_2_acc: 0.8690 - val_dense_out_3_acc: 0.8548 - val_dense_out_4_acc: 0.9190 - val_dense_out_5_acc: 0.9143 - val_dense_out_6_acc: 0.8667\n",
      "Epoch 20/100\n",
      "3495/3495 [==============================] - 25s 7ms/step - loss: 0.5616 - dense_out_1_loss: 0.1169 - dense_out_2_loss: 0.1076 - dense_out_3_loss: 0.0943 - dense_out_4_loss: 0.0649 - dense_out_5_loss: 0.0805 - dense_out_6_loss: 0.0975 - dense_out_1_acc: 0.9711 - dense_out_2_acc: 0.9791 - dense_out_3_acc: 0.9794 - dense_out_4_acc: 0.9871 - dense_out_5_acc: 0.9803 - dense_out_6_acc: 0.9757 - val_loss: 2.9900 - val_dense_out_1_loss: 0.4835 - val_dense_out_2_loss: 0.5600 - val_dense_out_3_loss: 0.5366 - val_dense_out_4_loss: 0.3795 - val_dense_out_5_loss: 0.3640 - val_dense_out_6_loss: 0.6664 - val_dense_out_1_acc: 0.8690 - val_dense_out_2_acc: 0.8619 - val_dense_out_3_acc: 0.8595 - val_dense_out_4_acc: 0.9167 - val_dense_out_5_acc: 0.9095 - val_dense_out_6_acc: 0.8500\n",
      "Epoch 21/100\n",
      "3495/3495 [==============================] - 26s 7ms/step - loss: 0.5295 - dense_out_1_loss: 0.1112 - dense_out_2_loss: 0.0992 - dense_out_3_loss: 0.0831 - dense_out_4_loss: 0.0668 - dense_out_5_loss: 0.0685 - dense_out_6_loss: 0.1006 - dense_out_1_acc: 0.9691 - dense_out_2_acc: 0.9803 - dense_out_3_acc: 0.9837 - dense_out_4_acc: 0.9845 - dense_out_5_acc: 0.9848 - dense_out_6_acc: 0.9728 - val_loss: 2.8427 - val_dense_out_1_loss: 0.4662 - val_dense_out_2_loss: 0.5302 - val_dense_out_3_loss: 0.5116 - val_dense_out_4_loss: 0.3836 - val_dense_out_5_loss: 0.3508 - val_dense_out_6_loss: 0.6002 - val_dense_out_1_acc: 0.8738 - val_dense_out_2_acc: 0.8738 - val_dense_out_3_acc: 0.8786 - val_dense_out_4_acc: 0.9214 - val_dense_out_5_acc: 0.9143 - val_dense_out_6_acc: 0.8667\n",
      "Epoch 22/100\n"
     ]
    },
    {
     "name": "stdout",
     "output_type": "stream",
     "text": [
      "3495/3495 [==============================] - 26s 7ms/step - loss: 0.4828 - dense_out_1_loss: 0.1018 - dense_out_2_loss: 0.0936 - dense_out_3_loss: 0.0832 - dense_out_4_loss: 0.0575 - dense_out_5_loss: 0.0661 - dense_out_6_loss: 0.0808 - dense_out_1_acc: 0.9768 - dense_out_2_acc: 0.9783 - dense_out_3_acc: 0.9817 - dense_out_4_acc: 0.9871 - dense_out_5_acc: 0.9857 - dense_out_6_acc: 0.9800 - val_loss: 2.8966 - val_dense_out_1_loss: 0.4848 - val_dense_out_2_loss: 0.5213 - val_dense_out_3_loss: 0.5258 - val_dense_out_4_loss: 0.3956 - val_dense_out_5_loss: 0.3770 - val_dense_out_6_loss: 0.5922 - val_dense_out_1_acc: 0.8810 - val_dense_out_2_acc: 0.8667 - val_dense_out_3_acc: 0.8690 - val_dense_out_4_acc: 0.9143 - val_dense_out_5_acc: 0.9048 - val_dense_out_6_acc: 0.8690\n",
      "Epoch 23/100\n",
      "3495/3495 [==============================] - 25s 7ms/step - loss: 0.4437 - dense_out_1_loss: 0.0930 - dense_out_2_loss: 0.0853 - dense_out_3_loss: 0.0755 - dense_out_4_loss: 0.0493 - dense_out_5_loss: 0.0609 - dense_out_6_loss: 0.0798 - dense_out_1_acc: 0.9803 - dense_out_2_acc: 0.9831 - dense_out_3_acc: 0.9854 - dense_out_4_acc: 0.9891 - dense_out_5_acc: 0.9866 - dense_out_6_acc: 0.9823 - val_loss: 2.9738 - val_dense_out_1_loss: 0.5258 - val_dense_out_2_loss: 0.5162 - val_dense_out_3_loss: 0.5431 - val_dense_out_4_loss: 0.4034 - val_dense_out_5_loss: 0.3735 - val_dense_out_6_loss: 0.6117 - val_dense_out_1_acc: 0.8738 - val_dense_out_2_acc: 0.8738 - val_dense_out_3_acc: 0.8643 - val_dense_out_4_acc: 0.9119 - val_dense_out_5_acc: 0.9143 - val_dense_out_6_acc: 0.8595\n",
      "Epoch 24/100\n",
      "3495/3495 [==============================] - 25s 7ms/step - loss: 0.4380 - dense_out_1_loss: 0.0853 - dense_out_2_loss: 0.0827 - dense_out_3_loss: 0.0734 - dense_out_4_loss: 0.0499 - dense_out_5_loss: 0.0654 - dense_out_6_loss: 0.0813 - dense_out_1_acc: 0.9785 - dense_out_2_acc: 0.9814 - dense_out_3_acc: 0.9848 - dense_out_4_acc: 0.9880 - dense_out_5_acc: 0.9860 - dense_out_6_acc: 0.9780 - val_loss: 2.8829 - val_dense_out_1_loss: 0.5254 - val_dense_out_2_loss: 0.4828 - val_dense_out_3_loss: 0.5285 - val_dense_out_4_loss: 0.3971 - val_dense_out_5_loss: 0.3400 - val_dense_out_6_loss: 0.6091 - val_dense_out_1_acc: 0.8738 - val_dense_out_2_acc: 0.8905 - val_dense_out_3_acc: 0.8714 - val_dense_out_4_acc: 0.9119 - val_dense_out_5_acc: 0.9214 - val_dense_out_6_acc: 0.8762\n",
      "Epoch 25/100\n",
      "3495/3495 [==============================] - 25s 7ms/step - loss: 0.3856 - dense_out_1_loss: 0.0857 - dense_out_2_loss: 0.0656 - dense_out_3_loss: 0.0636 - dense_out_4_loss: 0.0470 - dense_out_5_loss: 0.0556 - dense_out_6_loss: 0.0681 - dense_out_1_acc: 0.9791 - dense_out_2_acc: 0.9908 - dense_out_3_acc: 0.9880 - dense_out_4_acc: 0.9888 - dense_out_5_acc: 0.9868 - dense_out_6_acc: 0.9854 - val_loss: 2.8522 - val_dense_out_1_loss: 0.4834 - val_dense_out_2_loss: 0.4985 - val_dense_out_3_loss: 0.5209 - val_dense_out_4_loss: 0.4089 - val_dense_out_5_loss: 0.3519 - val_dense_out_6_loss: 0.5886 - val_dense_out_1_acc: 0.8857 - val_dense_out_2_acc: 0.8929 - val_dense_out_3_acc: 0.8762 - val_dense_out_4_acc: 0.9167 - val_dense_out_5_acc: 0.9143 - val_dense_out_6_acc: 0.8762\n",
      "Epoch 26/100\n",
      "3495/3495 [==============================] - 25s 7ms/step - loss: 0.3850 - dense_out_1_loss: 0.0744 - dense_out_2_loss: 0.0795 - dense_out_3_loss: 0.0615 - dense_out_4_loss: 0.0437 - dense_out_5_loss: 0.0592 - dense_out_6_loss: 0.0667 - dense_out_1_acc: 0.9803 - dense_out_2_acc: 0.9828 - dense_out_3_acc: 0.9883 - dense_out_4_acc: 0.9894 - dense_out_5_acc: 0.9848 - dense_out_6_acc: 0.9845 - val_loss: 2.9348 - val_dense_out_1_loss: 0.5011 - val_dense_out_2_loss: 0.5161 - val_dense_out_3_loss: 0.5211 - val_dense_out_4_loss: 0.4235 - val_dense_out_5_loss: 0.3709 - val_dense_out_6_loss: 0.6021 - val_dense_out_1_acc: 0.8857 - val_dense_out_2_acc: 0.8833 - val_dense_out_3_acc: 0.8738 - val_dense_out_4_acc: 0.9214 - val_dense_out_5_acc: 0.9048 - val_dense_out_6_acc: 0.8667\n",
      "Epoch 27/100\n",
      "3495/3495 [==============================] - 25s 7ms/step - loss: 0.3569 - dense_out_1_loss: 0.0736 - dense_out_2_loss: 0.0643 - dense_out_3_loss: 0.0581 - dense_out_4_loss: 0.0387 - dense_out_5_loss: 0.0565 - dense_out_6_loss: 0.0657 - dense_out_1_acc: 0.9820 - dense_out_2_acc: 0.9874 - dense_out_3_acc: 0.9871 - dense_out_4_acc: 0.9923 - dense_out_5_acc: 0.9863 - dense_out_6_acc: 0.9843 - val_loss: 2.9233 - val_dense_out_1_loss: 0.4823 - val_dense_out_2_loss: 0.5028 - val_dense_out_3_loss: 0.5152 - val_dense_out_4_loss: 0.4367 - val_dense_out_5_loss: 0.3807 - val_dense_out_6_loss: 0.6056 - val_dense_out_1_acc: 0.8976 - val_dense_out_2_acc: 0.8976 - val_dense_out_3_acc: 0.8738 - val_dense_out_4_acc: 0.9190 - val_dense_out_5_acc: 0.9095 - val_dense_out_6_acc: 0.8738\n",
      "Epoch 28/100\n",
      "3495/3495 [==============================] - 25s 7ms/step - loss: 0.3351 - dense_out_1_loss: 0.0701 - dense_out_2_loss: 0.0617 - dense_out_3_loss: 0.0520 - dense_out_4_loss: 0.0377 - dense_out_5_loss: 0.0477 - dense_out_6_loss: 0.0659 - dense_out_1_acc: 0.9825 - dense_out_2_acc: 0.9880 - dense_out_3_acc: 0.9891 - dense_out_4_acc: 0.9917 - dense_out_5_acc: 0.9877 - dense_out_6_acc: 0.9854 - val_loss: 3.0572 - val_dense_out_1_loss: 0.4995 - val_dense_out_2_loss: 0.5041 - val_dense_out_3_loss: 0.5623 - val_dense_out_4_loss: 0.4678 - val_dense_out_5_loss: 0.3951 - val_dense_out_6_loss: 0.6284 - val_dense_out_1_acc: 0.8833 - val_dense_out_2_acc: 0.8786 - val_dense_out_3_acc: 0.8738 - val_dense_out_4_acc: 0.9119 - val_dense_out_5_acc: 0.9095 - val_dense_out_6_acc: 0.8571\n",
      "Epoch 29/100\n",
      "3495/3495 [==============================] - 24s 7ms/step - loss: 0.3218 - dense_out_1_loss: 0.0598 - dense_out_2_loss: 0.0603 - dense_out_3_loss: 0.0505 - dense_out_4_loss: 0.0409 - dense_out_5_loss: 0.0488 - dense_out_6_loss: 0.0615 - dense_out_1_acc: 0.9894 - dense_out_2_acc: 0.9868 - dense_out_3_acc: 0.9917 - dense_out_4_acc: 0.9908 - dense_out_5_acc: 0.9877 - dense_out_6_acc: 0.9823 - val_loss: 2.9116 - val_dense_out_1_loss: 0.5218 - val_dense_out_2_loss: 0.5305 - val_dense_out_3_loss: 0.5088 - val_dense_out_4_loss: 0.4357 - val_dense_out_5_loss: 0.3120 - val_dense_out_6_loss: 0.6029 - val_dense_out_1_acc: 0.8762 - val_dense_out_2_acc: 0.8714 - val_dense_out_3_acc: 0.8762 - val_dense_out_4_acc: 0.9214 - val_dense_out_5_acc: 0.9333 - val_dense_out_6_acc: 0.8762\n",
      "Epoch 30/100\n",
      "3495/3495 [==============================] - 25s 7ms/step - loss: 0.3124 - dense_out_1_loss: 0.0633 - dense_out_2_loss: 0.0674 - dense_out_3_loss: 0.0507 - dense_out_4_loss: 0.0387 - dense_out_5_loss: 0.0396 - dense_out_6_loss: 0.0527 - dense_out_1_acc: 0.9868 - dense_out_2_acc: 0.9843 - dense_out_3_acc: 0.9863 - dense_out_4_acc: 0.9903 - dense_out_5_acc: 0.9906 - dense_out_6_acc: 0.9860 - val_loss: 2.9793 - val_dense_out_1_loss: 0.5187 - val_dense_out_2_loss: 0.5049 - val_dense_out_3_loss: 0.5532 - val_dense_out_4_loss: 0.4298 - val_dense_out_5_loss: 0.3334 - val_dense_out_6_loss: 0.6393 - val_dense_out_1_acc: 0.8690 - val_dense_out_2_acc: 0.8857 - val_dense_out_3_acc: 0.8786 - val_dense_out_4_acc: 0.9190 - val_dense_out_5_acc: 0.9071 - val_dense_out_6_acc: 0.8738\n",
      "Epoch 31/100\n",
      "3495/3495 [==============================] - 25s 7ms/step - loss: 0.2974 - dense_out_1_loss: 0.0649 - dense_out_2_loss: 0.0541 - dense_out_3_loss: 0.0498 - dense_out_4_loss: 0.0381 - dense_out_5_loss: 0.0370 - dense_out_6_loss: 0.0536 - dense_out_1_acc: 0.9837 - dense_out_2_acc: 0.9868 - dense_out_3_acc: 0.9903 - dense_out_4_acc: 0.9897 - dense_out_5_acc: 0.9914 - dense_out_6_acc: 0.9854 - val_loss: 2.9091 - val_dense_out_1_loss: 0.4867 - val_dense_out_2_loss: 0.4747 - val_dense_out_3_loss: 0.5457 - val_dense_out_4_loss: 0.4386 - val_dense_out_5_loss: 0.3366 - val_dense_out_6_loss: 0.6268 - val_dense_out_1_acc: 0.8857 - val_dense_out_2_acc: 0.8786 - val_dense_out_3_acc: 0.8738 - val_dense_out_4_acc: 0.9190 - val_dense_out_5_acc: 0.9143 - val_dense_out_6_acc: 0.8714\n",
      "Epoch 32/100\n"
     ]
    },
    {
     "name": "stdout",
     "output_type": "stream",
     "text": [
      "3495/3495 [==============================] - 25s 7ms/step - loss: 0.2922 - dense_out_1_loss: 0.0639 - dense_out_2_loss: 0.0570 - dense_out_3_loss: 0.0505 - dense_out_4_loss: 0.0368 - dense_out_5_loss: 0.0383 - dense_out_6_loss: 0.0456 - dense_out_1_acc: 0.9828 - dense_out_2_acc: 0.9877 - dense_out_3_acc: 0.9874 - dense_out_4_acc: 0.9903 - dense_out_5_acc: 0.9900 - dense_out_6_acc: 0.9888 - val_loss: 2.9110 - val_dense_out_1_loss: 0.4905 - val_dense_out_2_loss: 0.5254 - val_dense_out_3_loss: 0.5119 - val_dense_out_4_loss: 0.4385 - val_dense_out_5_loss: 0.3135 - val_dense_out_6_loss: 0.6313 - val_dense_out_1_acc: 0.8952 - val_dense_out_2_acc: 0.8762 - val_dense_out_3_acc: 0.8857 - val_dense_out_4_acc: 0.9095 - val_dense_out_5_acc: 0.9190 - val_dense_out_6_acc: 0.8667\n",
      "Epoch 33/100\n",
      "3495/3495 [==============================] - 25s 7ms/step - loss: 0.2606 - dense_out_1_loss: 0.0535 - dense_out_2_loss: 0.0469 - dense_out_3_loss: 0.0399 - dense_out_4_loss: 0.0267 - dense_out_5_loss: 0.0396 - dense_out_6_loss: 0.0540 - dense_out_1_acc: 0.9877 - dense_out_2_acc: 0.9903 - dense_out_3_acc: 0.9914 - dense_out_4_acc: 0.9943 - dense_out_5_acc: 0.9923 - dense_out_6_acc: 0.9886 - val_loss: 2.8931 - val_dense_out_1_loss: 0.4988 - val_dense_out_2_loss: 0.4814 - val_dense_out_3_loss: 0.5395 - val_dense_out_4_loss: 0.4509 - val_dense_out_5_loss: 0.3064 - val_dense_out_6_loss: 0.6161 - val_dense_out_1_acc: 0.8762 - val_dense_out_2_acc: 0.8810 - val_dense_out_3_acc: 0.8643 - val_dense_out_4_acc: 0.9143 - val_dense_out_5_acc: 0.9214 - val_dense_out_6_acc: 0.8762\n",
      "Epoch 34/100\n",
      "3495/3495 [==============================] - 25s 7ms/step - loss: 0.2560 - dense_out_1_loss: 0.0548 - dense_out_2_loss: 0.0504 - dense_out_3_loss: 0.0433 - dense_out_4_loss: 0.0282 - dense_out_5_loss: 0.0368 - dense_out_6_loss: 0.0426 - dense_out_1_acc: 0.9871 - dense_out_2_acc: 0.9888 - dense_out_3_acc: 0.9903 - dense_out_4_acc: 0.9937 - dense_out_5_acc: 0.9920 - dense_out_6_acc: 0.9911 - val_loss: 3.0400 - val_dense_out_1_loss: 0.5199 - val_dense_out_2_loss: 0.5079 - val_dense_out_3_loss: 0.5456 - val_dense_out_4_loss: 0.4630 - val_dense_out_5_loss: 0.3770 - val_dense_out_6_loss: 0.6265 - val_dense_out_1_acc: 0.8810 - val_dense_out_2_acc: 0.8833 - val_dense_out_3_acc: 0.8643 - val_dense_out_4_acc: 0.9167 - val_dense_out_5_acc: 0.9119 - val_dense_out_6_acc: 0.8810\n",
      "Epoch 35/100\n",
      "3495/3495 [==============================] - 25s 7ms/step - loss: 0.2839 - dense_out_1_loss: 0.0615 - dense_out_2_loss: 0.0521 - dense_out_3_loss: 0.0501 - dense_out_4_loss: 0.0352 - dense_out_5_loss: 0.0391 - dense_out_6_loss: 0.0459 - dense_out_1_acc: 0.9848 - dense_out_2_acc: 0.9891 - dense_out_3_acc: 0.9880 - dense_out_4_acc: 0.9903 - dense_out_5_acc: 0.9888 - dense_out_6_acc: 0.9883 - val_loss: 3.0382 - val_dense_out_1_loss: 0.5471 - val_dense_out_2_loss: 0.4966 - val_dense_out_3_loss: 0.5178 - val_dense_out_4_loss: 0.4307 - val_dense_out_5_loss: 0.3835 - val_dense_out_6_loss: 0.6625 - val_dense_out_1_acc: 0.8810 - val_dense_out_2_acc: 0.8881 - val_dense_out_3_acc: 0.8810 - val_dense_out_4_acc: 0.9071 - val_dense_out_5_acc: 0.9119 - val_dense_out_6_acc: 0.8762\n",
      "Epoch 36/100\n",
      "3495/3495 [==============================] - 25s 7ms/step - loss: 0.2866 - dense_out_1_loss: 0.0547 - dense_out_2_loss: 0.0544 - dense_out_3_loss: 0.0474 - dense_out_4_loss: 0.0367 - dense_out_5_loss: 0.0426 - dense_out_6_loss: 0.0508 - dense_out_1_acc: 0.9857 - dense_out_2_acc: 0.9888 - dense_out_3_acc: 0.9886 - dense_out_4_acc: 0.9897 - dense_out_5_acc: 0.9900 - dense_out_6_acc: 0.9854 - val_loss: 3.2123 - val_dense_out_1_loss: 0.5704 - val_dense_out_2_loss: 0.5413 - val_dense_out_3_loss: 0.5700 - val_dense_out_4_loss: 0.4916 - val_dense_out_5_loss: 0.4057 - val_dense_out_6_loss: 0.6334 - val_dense_out_1_acc: 0.8714 - val_dense_out_2_acc: 0.8690 - val_dense_out_3_acc: 0.8833 - val_dense_out_4_acc: 0.9048 - val_dense_out_5_acc: 0.9190 - val_dense_out_6_acc: 0.8738\n",
      "Epoch 37/100\n",
      "3495/3495 [==============================] - 25s 7ms/step - loss: 0.2518 - dense_out_1_loss: 0.0504 - dense_out_2_loss: 0.0528 - dense_out_3_loss: 0.0371 - dense_out_4_loss: 0.0284 - dense_out_5_loss: 0.0389 - dense_out_6_loss: 0.0442 - dense_out_1_acc: 0.9880 - dense_out_2_acc: 0.9871 - dense_out_3_acc: 0.9920 - dense_out_4_acc: 0.9937 - dense_out_5_acc: 0.9903 - dense_out_6_acc: 0.9880 - val_loss: 3.0183 - val_dense_out_1_loss: 0.5293 - val_dense_out_2_loss: 0.5156 - val_dense_out_3_loss: 0.5200 - val_dense_out_4_loss: 0.4463 - val_dense_out_5_loss: 0.3736 - val_dense_out_6_loss: 0.6335 - val_dense_out_1_acc: 0.8857 - val_dense_out_2_acc: 0.8762 - val_dense_out_3_acc: 0.8762 - val_dense_out_4_acc: 0.9190 - val_dense_out_5_acc: 0.9190 - val_dense_out_6_acc: 0.8762\n",
      "Epoch 38/100\n",
      "3495/3495 [==============================] - 25s 7ms/step - loss: 0.2573 - dense_out_1_loss: 0.0581 - dense_out_2_loss: 0.0445 - dense_out_3_loss: 0.0404 - dense_out_4_loss: 0.0255 - dense_out_5_loss: 0.0431 - dense_out_6_loss: 0.0457 - dense_out_1_acc: 0.9843 - dense_out_2_acc: 0.9906 - dense_out_3_acc: 0.9908 - dense_out_4_acc: 0.9943 - dense_out_5_acc: 0.9906 - dense_out_6_acc: 0.9874 - val_loss: 2.9946 - val_dense_out_1_loss: 0.5343 - val_dense_out_2_loss: 0.4707 - val_dense_out_3_loss: 0.5235 - val_dense_out_4_loss: 0.4488 - val_dense_out_5_loss: 0.3216 - val_dense_out_6_loss: 0.6957 - val_dense_out_1_acc: 0.8762 - val_dense_out_2_acc: 0.8929 - val_dense_out_3_acc: 0.8667 - val_dense_out_4_acc: 0.9190 - val_dense_out_5_acc: 0.9167 - val_dense_out_6_acc: 0.8643\n",
      "Epoch 39/100\n",
      "3495/3495 [==============================] - 25s 7ms/step - loss: 0.2525 - dense_out_1_loss: 0.0567 - dense_out_2_loss: 0.0470 - dense_out_3_loss: 0.0343 - dense_out_4_loss: 0.0308 - dense_out_5_loss: 0.0411 - dense_out_6_loss: 0.0425 - dense_out_1_acc: 0.9854 - dense_out_2_acc: 0.9883 - dense_out_3_acc: 0.9926 - dense_out_4_acc: 0.9926 - dense_out_5_acc: 0.9900 - dense_out_6_acc: 0.9886 - val_loss: 3.2485 - val_dense_out_1_loss: 0.5199 - val_dense_out_2_loss: 0.5281 - val_dense_out_3_loss: 0.5895 - val_dense_out_4_loss: 0.5081 - val_dense_out_5_loss: 0.3948 - val_dense_out_6_loss: 0.7081 - val_dense_out_1_acc: 0.8857 - val_dense_out_2_acc: 0.8857 - val_dense_out_3_acc: 0.8714 - val_dense_out_4_acc: 0.9190 - val_dense_out_5_acc: 0.9119 - val_dense_out_6_acc: 0.8762\n",
      "Epoch 40/100\n",
      "3495/3495 [==============================] - 25s 7ms/step - loss: 0.2360 - dense_out_1_loss: 0.0463 - dense_out_2_loss: 0.0467 - dense_out_3_loss: 0.0379 - dense_out_4_loss: 0.0267 - dense_out_5_loss: 0.0324 - dense_out_6_loss: 0.0459 - dense_out_1_acc: 0.9891 - dense_out_2_acc: 0.9886 - dense_out_3_acc: 0.9894 - dense_out_4_acc: 0.9926 - dense_out_5_acc: 0.9914 - dense_out_6_acc: 0.9874 - val_loss: 3.0577 - val_dense_out_1_loss: 0.4909 - val_dense_out_2_loss: 0.4961 - val_dense_out_3_loss: 0.5118 - val_dense_out_4_loss: 0.4871 - val_dense_out_5_loss: 0.3888 - val_dense_out_6_loss: 0.6830 - val_dense_out_1_acc: 0.8857 - val_dense_out_2_acc: 0.8762 - val_dense_out_3_acc: 0.8833 - val_dense_out_4_acc: 0.9143 - val_dense_out_5_acc: 0.9190 - val_dense_out_6_acc: 0.8738\n",
      "Epoch 41/100\n",
      "3495/3495 [==============================] - 25s 7ms/step - loss: 0.2334 - dense_out_1_loss: 0.0530 - dense_out_2_loss: 0.0406 - dense_out_3_loss: 0.0367 - dense_out_4_loss: 0.0242 - dense_out_5_loss: 0.0355 - dense_out_6_loss: 0.0434 - dense_out_1_acc: 0.9840 - dense_out_2_acc: 0.9900 - dense_out_3_acc: 0.9923 - dense_out_4_acc: 0.9940 - dense_out_5_acc: 0.9914 - dense_out_6_acc: 0.9877 - val_loss: 3.0698 - val_dense_out_1_loss: 0.5023 - val_dense_out_2_loss: 0.4988 - val_dense_out_3_loss: 0.5629 - val_dense_out_4_loss: 0.4397 - val_dense_out_5_loss: 0.3674 - val_dense_out_6_loss: 0.6987 - val_dense_out_1_acc: 0.8881 - val_dense_out_2_acc: 0.8857 - val_dense_out_3_acc: 0.8667 - val_dense_out_4_acc: 0.9143 - val_dense_out_5_acc: 0.9095 - val_dense_out_6_acc: 0.8690\n",
      "Epoch 42/100\n"
     ]
    },
    {
     "name": "stdout",
     "output_type": "stream",
     "text": [
      "3495/3495 [==============================] - 25s 7ms/step - loss: 0.2274 - dense_out_1_loss: 0.0466 - dense_out_2_loss: 0.0404 - dense_out_3_loss: 0.0329 - dense_out_4_loss: 0.0353 - dense_out_5_loss: 0.0297 - dense_out_6_loss: 0.0426 - dense_out_1_acc: 0.9894 - dense_out_2_acc: 0.9911 - dense_out_3_acc: 0.9931 - dense_out_4_acc: 0.9886 - dense_out_5_acc: 0.9928 - dense_out_6_acc: 0.9863 - val_loss: 3.0038 - val_dense_out_1_loss: 0.4867 - val_dense_out_2_loss: 0.4692 - val_dense_out_3_loss: 0.5749 - val_dense_out_4_loss: 0.4190 - val_dense_out_5_loss: 0.3875 - val_dense_out_6_loss: 0.6665 - val_dense_out_1_acc: 0.8857 - val_dense_out_2_acc: 0.8905 - val_dense_out_3_acc: 0.8738 - val_dense_out_4_acc: 0.9238 - val_dense_out_5_acc: 0.9143 - val_dense_out_6_acc: 0.8738\n",
      "Epoch 43/100\n",
      "3495/3495 [==============================] - 25s 7ms/step - loss: 0.2208 - dense_out_1_loss: 0.0500 - dense_out_2_loss: 0.0360 - dense_out_3_loss: 0.0330 - dense_out_4_loss: 0.0272 - dense_out_5_loss: 0.0372 - dense_out_6_loss: 0.0373 - dense_out_1_acc: 0.9863 - dense_out_2_acc: 0.9914 - dense_out_3_acc: 0.9923 - dense_out_4_acc: 0.9920 - dense_out_5_acc: 0.9883 - dense_out_6_acc: 0.9886 - val_loss: 3.2566 - val_dense_out_1_loss: 0.5190 - val_dense_out_2_loss: 0.5199 - val_dense_out_3_loss: 0.6484 - val_dense_out_4_loss: 0.4625 - val_dense_out_5_loss: 0.3809 - val_dense_out_6_loss: 0.7260 - val_dense_out_1_acc: 0.8833 - val_dense_out_2_acc: 0.8881 - val_dense_out_3_acc: 0.8833 - val_dense_out_4_acc: 0.9143 - val_dense_out_5_acc: 0.9167 - val_dense_out_6_acc: 0.8714\n",
      "Epoch 44/100\n",
      "3495/3495 [==============================] - 25s 7ms/step - loss: 0.2256 - dense_out_1_loss: 0.0489 - dense_out_2_loss: 0.0444 - dense_out_3_loss: 0.0350 - dense_out_4_loss: 0.0275 - dense_out_5_loss: 0.0315 - dense_out_6_loss: 0.0383 - dense_out_1_acc: 0.9868 - dense_out_2_acc: 0.9871 - dense_out_3_acc: 0.9914 - dense_out_4_acc: 0.9923 - dense_out_5_acc: 0.9911 - dense_out_6_acc: 0.9908 - val_loss: 3.1639 - val_dense_out_1_loss: 0.4519 - val_dense_out_2_loss: 0.5290 - val_dense_out_3_loss: 0.6294 - val_dense_out_4_loss: 0.5038 - val_dense_out_5_loss: 0.4154 - val_dense_out_6_loss: 0.6345 - val_dense_out_1_acc: 0.8976 - val_dense_out_2_acc: 0.8738 - val_dense_out_3_acc: 0.8762 - val_dense_out_4_acc: 0.9024 - val_dense_out_5_acc: 0.9214 - val_dense_out_6_acc: 0.8714\n",
      "Epoch 45/100\n",
      "3495/3495 [==============================] - 25s 7ms/step - loss: 0.2350 - dense_out_1_loss: 0.0539 - dense_out_2_loss: 0.0415 - dense_out_3_loss: 0.0346 - dense_out_4_loss: 0.0279 - dense_out_5_loss: 0.0341 - dense_out_6_loss: 0.0430 - dense_out_1_acc: 0.9854 - dense_out_2_acc: 0.9903 - dense_out_3_acc: 0.9911 - dense_out_4_acc: 0.9917 - dense_out_5_acc: 0.9911 - dense_out_6_acc: 0.9891 - val_loss: 2.9184 - val_dense_out_1_loss: 0.4433 - val_dense_out_2_loss: 0.4638 - val_dense_out_3_loss: 0.5404 - val_dense_out_4_loss: 0.4654 - val_dense_out_5_loss: 0.3561 - val_dense_out_6_loss: 0.6493 - val_dense_out_1_acc: 0.8952 - val_dense_out_2_acc: 0.8905 - val_dense_out_3_acc: 0.8786 - val_dense_out_4_acc: 0.9119 - val_dense_out_5_acc: 0.9214 - val_dense_out_6_acc: 0.8833\n",
      "Epoch 46/100\n",
      "3495/3495 [==============================] - 25s 7ms/step - loss: 0.2384 - dense_out_1_loss: 0.0519 - dense_out_2_loss: 0.0471 - dense_out_3_loss: 0.0361 - dense_out_4_loss: 0.0270 - dense_out_5_loss: 0.0323 - dense_out_6_loss: 0.0440 - dense_out_1_acc: 0.9843 - dense_out_2_acc: 0.9883 - dense_out_3_acc: 0.9906 - dense_out_4_acc: 0.9920 - dense_out_5_acc: 0.9917 - dense_out_6_acc: 0.9883 - val_loss: 3.2049 - val_dense_out_1_loss: 0.5190 - val_dense_out_2_loss: 0.5307 - val_dense_out_3_loss: 0.5499 - val_dense_out_4_loss: 0.4977 - val_dense_out_5_loss: 0.4132 - val_dense_out_6_loss: 0.6943 - val_dense_out_1_acc: 0.8833 - val_dense_out_2_acc: 0.8762 - val_dense_out_3_acc: 0.8881 - val_dense_out_4_acc: 0.9095 - val_dense_out_5_acc: 0.9095 - val_dense_out_6_acc: 0.8714\n",
      "Epoch 47/100\n",
      "3495/3495 [==============================] - 25s 7ms/step - loss: 0.2260 - dense_out_1_loss: 0.0539 - dense_out_2_loss: 0.0355 - dense_out_3_loss: 0.0376 - dense_out_4_loss: 0.0272 - dense_out_5_loss: 0.0312 - dense_out_6_loss: 0.0405 - dense_out_1_acc: 0.9843 - dense_out_2_acc: 0.9934 - dense_out_3_acc: 0.9894 - dense_out_4_acc: 0.9937 - dense_out_5_acc: 0.9908 - dense_out_6_acc: 0.9888 - val_loss: 3.0631 - val_dense_out_1_loss: 0.5154 - val_dense_out_2_loss: 0.5142 - val_dense_out_3_loss: 0.5456 - val_dense_out_4_loss: 0.4372 - val_dense_out_5_loss: 0.3869 - val_dense_out_6_loss: 0.6639 - val_dense_out_1_acc: 0.8714 - val_dense_out_2_acc: 0.8762 - val_dense_out_3_acc: 0.8714 - val_dense_out_4_acc: 0.9143 - val_dense_out_5_acc: 0.9190 - val_dense_out_6_acc: 0.8738\n",
      "Epoch 48/100\n",
      "3495/3495 [==============================] - 25s 7ms/step - loss: 0.2510 - dense_out_1_loss: 0.0492 - dense_out_2_loss: 0.0461 - dense_out_3_loss: 0.0340 - dense_out_4_loss: 0.0379 - dense_out_5_loss: 0.0353 - dense_out_6_loss: 0.0486 - dense_out_1_acc: 0.9883 - dense_out_2_acc: 0.9883 - dense_out_3_acc: 0.9911 - dense_out_4_acc: 0.9914 - dense_out_5_acc: 0.9908 - dense_out_6_acc: 0.9854 - val_loss: 3.2536 - val_dense_out_1_loss: 0.4917 - val_dense_out_2_loss: 0.4720 - val_dense_out_3_loss: 0.6429 - val_dense_out_4_loss: 0.5202 - val_dense_out_5_loss: 0.4253 - val_dense_out_6_loss: 0.7015 - val_dense_out_1_acc: 0.8762 - val_dense_out_2_acc: 0.8905 - val_dense_out_3_acc: 0.8548 - val_dense_out_4_acc: 0.9190 - val_dense_out_5_acc: 0.9048 - val_dense_out_6_acc: 0.8762\n",
      "Epoch 49/100\n",
      "3495/3495 [==============================] - 25s 7ms/step - loss: 0.2855 - dense_out_1_loss: 0.0560 - dense_out_2_loss: 0.0454 - dense_out_3_loss: 0.0447 - dense_out_4_loss: 0.0319 - dense_out_5_loss: 0.0468 - dense_out_6_loss: 0.0607 - dense_out_1_acc: 0.9840 - dense_out_2_acc: 0.9868 - dense_out_3_acc: 0.9877 - dense_out_4_acc: 0.9920 - dense_out_5_acc: 0.9866 - dense_out_6_acc: 0.9820 - val_loss: 3.1648 - val_dense_out_1_loss: 0.5037 - val_dense_out_2_loss: 0.5133 - val_dense_out_3_loss: 0.5419 - val_dense_out_4_loss: 0.4770 - val_dense_out_5_loss: 0.4053 - val_dense_out_6_loss: 0.7236 - val_dense_out_1_acc: 0.8976 - val_dense_out_2_acc: 0.8833 - val_dense_out_3_acc: 0.8810 - val_dense_out_4_acc: 0.9095 - val_dense_out_5_acc: 0.9167 - val_dense_out_6_acc: 0.8762\n",
      "Epoch 50/100\n",
      "3495/3495 [==============================] - 25s 7ms/step - loss: 0.2411 - dense_out_1_loss: 0.0556 - dense_out_2_loss: 0.0440 - dense_out_3_loss: 0.0363 - dense_out_4_loss: 0.0241 - dense_out_5_loss: 0.0339 - dense_out_6_loss: 0.0471 - dense_out_1_acc: 0.9834 - dense_out_2_acc: 0.9900 - dense_out_3_acc: 0.9914 - dense_out_4_acc: 0.9943 - dense_out_5_acc: 0.9911 - dense_out_6_acc: 0.9868 - val_loss: 2.9971 - val_dense_out_1_loss: 0.4508 - val_dense_out_2_loss: 0.4839 - val_dense_out_3_loss: 0.5920 - val_dense_out_4_loss: 0.4215 - val_dense_out_5_loss: 0.3666 - val_dense_out_6_loss: 0.6824 - val_dense_out_1_acc: 0.8952 - val_dense_out_2_acc: 0.8929 - val_dense_out_3_acc: 0.8786 - val_dense_out_4_acc: 0.9190 - val_dense_out_5_acc: 0.9214 - val_dense_out_6_acc: 0.8714\n",
      "Epoch 51/100\n",
      "3495/3495 [==============================] - 25s 7ms/step - loss: 0.1928 - dense_out_1_loss: 0.0354 - dense_out_2_loss: 0.0377 - dense_out_3_loss: 0.0298 - dense_out_4_loss: 0.0282 - dense_out_5_loss: 0.0292 - dense_out_6_loss: 0.0325 - dense_out_1_acc: 0.9903 - dense_out_2_acc: 0.9906 - dense_out_3_acc: 0.9900 - dense_out_4_acc: 0.9917 - dense_out_5_acc: 0.9911 - dense_out_6_acc: 0.9894 - val_loss: 3.0408 - val_dense_out_1_loss: 0.4522 - val_dense_out_2_loss: 0.5858 - val_dense_out_3_loss: 0.5692 - val_dense_out_4_loss: 0.4337 - val_dense_out_5_loss: 0.3835 - val_dense_out_6_loss: 0.6165 - val_dense_out_1_acc: 0.8929 - val_dense_out_2_acc: 0.8857 - val_dense_out_3_acc: 0.8833 - val_dense_out_4_acc: 0.9238 - val_dense_out_5_acc: 0.9262 - val_dense_out_6_acc: 0.8905\n",
      "Epoch 52/100\n"
     ]
    },
    {
     "name": "stdout",
     "output_type": "stream",
     "text": [
      "3495/3495 [==============================] - 25s 7ms/step - loss: 0.1918 - dense_out_1_loss: 0.0386 - dense_out_2_loss: 0.0374 - dense_out_3_loss: 0.0267 - dense_out_4_loss: 0.0231 - dense_out_5_loss: 0.0283 - dense_out_6_loss: 0.0378 - dense_out_1_acc: 0.9900 - dense_out_2_acc: 0.9903 - dense_out_3_acc: 0.9928 - dense_out_4_acc: 0.9931 - dense_out_5_acc: 0.9908 - dense_out_6_acc: 0.9903 - val_loss: 3.0629 - val_dense_out_1_loss: 0.4252 - val_dense_out_2_loss: 0.5244 - val_dense_out_3_loss: 0.5735 - val_dense_out_4_loss: 0.4135 - val_dense_out_5_loss: 0.3860 - val_dense_out_6_loss: 0.7403 - val_dense_out_1_acc: 0.8976 - val_dense_out_2_acc: 0.8929 - val_dense_out_3_acc: 0.8881 - val_dense_out_4_acc: 0.9190 - val_dense_out_5_acc: 0.9262 - val_dense_out_6_acc: 0.8786\n",
      "Epoch 53/100\n",
      "3495/3495 [==============================] - 25s 7ms/step - loss: 0.1990 - dense_out_1_loss: 0.0447 - dense_out_2_loss: 0.0403 - dense_out_3_loss: 0.0277 - dense_out_4_loss: 0.0215 - dense_out_5_loss: 0.0336 - dense_out_6_loss: 0.0311 - dense_out_1_acc: 0.9888 - dense_out_2_acc: 0.9891 - dense_out_3_acc: 0.9926 - dense_out_4_acc: 0.9948 - dense_out_5_acc: 0.9900 - dense_out_6_acc: 0.9900 - val_loss: 3.0812 - val_dense_out_1_loss: 0.4764 - val_dense_out_2_loss: 0.5096 - val_dense_out_3_loss: 0.5619 - val_dense_out_4_loss: 0.4486 - val_dense_out_5_loss: 0.3563 - val_dense_out_6_loss: 0.7283 - val_dense_out_1_acc: 0.8905 - val_dense_out_2_acc: 0.8810 - val_dense_out_3_acc: 0.8905 - val_dense_out_4_acc: 0.9024 - val_dense_out_5_acc: 0.9262 - val_dense_out_6_acc: 0.8810\n",
      "Epoch 54/100\n",
      "3495/3495 [==============================] - 25s 7ms/step - loss: 0.1867 - dense_out_1_loss: 0.0373 - dense_out_2_loss: 0.0310 - dense_out_3_loss: 0.0337 - dense_out_4_loss: 0.0204 - dense_out_5_loss: 0.0316 - dense_out_6_loss: 0.0328 - dense_out_1_acc: 0.9906 - dense_out_2_acc: 0.9917 - dense_out_3_acc: 0.9891 - dense_out_4_acc: 0.9948 - dense_out_5_acc: 0.9894 - dense_out_6_acc: 0.9911 - val_loss: 2.9861 - val_dense_out_1_loss: 0.4759 - val_dense_out_2_loss: 0.4961 - val_dense_out_3_loss: 0.5165 - val_dense_out_4_loss: 0.4826 - val_dense_out_5_loss: 0.3506 - val_dense_out_6_loss: 0.6643 - val_dense_out_1_acc: 0.8881 - val_dense_out_2_acc: 0.8929 - val_dense_out_3_acc: 0.8905 - val_dense_out_4_acc: 0.9190 - val_dense_out_5_acc: 0.9262 - val_dense_out_6_acc: 0.8786\n",
      "Epoch 55/100\n",
      "3495/3495 [==============================] - 25s 7ms/step - loss: 0.1672 - dense_out_1_loss: 0.0329 - dense_out_2_loss: 0.0321 - dense_out_3_loss: 0.0206 - dense_out_4_loss: 0.0219 - dense_out_5_loss: 0.0298 - dense_out_6_loss: 0.0299 - dense_out_1_acc: 0.9891 - dense_out_2_acc: 0.9934 - dense_out_3_acc: 0.9957 - dense_out_4_acc: 0.9928 - dense_out_5_acc: 0.9928 - dense_out_6_acc: 0.9923 - val_loss: 2.9960 - val_dense_out_1_loss: 0.5337 - val_dense_out_2_loss: 0.4851 - val_dense_out_3_loss: 0.5310 - val_dense_out_4_loss: 0.4688 - val_dense_out_5_loss: 0.3777 - val_dense_out_6_loss: 0.5996 - val_dense_out_1_acc: 0.8976 - val_dense_out_2_acc: 0.8952 - val_dense_out_3_acc: 0.8881 - val_dense_out_4_acc: 0.9214 - val_dense_out_5_acc: 0.9190 - val_dense_out_6_acc: 0.8952\n",
      "Epoch 56/100\n",
      "3495/3495 [==============================] - 25s 7ms/step - loss: 0.1789 - dense_out_1_loss: 0.0386 - dense_out_2_loss: 0.0281 - dense_out_3_loss: 0.0289 - dense_out_4_loss: 0.0212 - dense_out_5_loss: 0.0286 - dense_out_6_loss: 0.0334 - dense_out_1_acc: 0.9900 - dense_out_2_acc: 0.9934 - dense_out_3_acc: 0.9920 - dense_out_4_acc: 0.9926 - dense_out_5_acc: 0.9926 - dense_out_6_acc: 0.9908 - val_loss: 2.8881 - val_dense_out_1_loss: 0.4004 - val_dense_out_2_loss: 0.4924 - val_dense_out_3_loss: 0.4830 - val_dense_out_4_loss: 0.5260 - val_dense_out_5_loss: 0.3441 - val_dense_out_6_loss: 0.6422 - val_dense_out_1_acc: 0.8976 - val_dense_out_2_acc: 0.8905 - val_dense_out_3_acc: 0.9024 - val_dense_out_4_acc: 0.9143 - val_dense_out_5_acc: 0.9143 - val_dense_out_6_acc: 0.8738\n",
      "Epoch 57/100\n",
      "3495/3495 [==============================] - 25s 7ms/step - loss: 0.1835 - dense_out_1_loss: 0.0295 - dense_out_2_loss: 0.0344 - dense_out_3_loss: 0.0318 - dense_out_4_loss: 0.0209 - dense_out_5_loss: 0.0280 - dense_out_6_loss: 0.0389 - dense_out_1_acc: 0.9920 - dense_out_2_acc: 0.9914 - dense_out_3_acc: 0.9914 - dense_out_4_acc: 0.9951 - dense_out_5_acc: 0.9911 - dense_out_6_acc: 0.9903 - val_loss: 2.9660 - val_dense_out_1_loss: 0.5007 - val_dense_out_2_loss: 0.4936 - val_dense_out_3_loss: 0.5033 - val_dense_out_4_loss: 0.4805 - val_dense_out_5_loss: 0.3525 - val_dense_out_6_loss: 0.6354 - val_dense_out_1_acc: 0.8952 - val_dense_out_2_acc: 0.8905 - val_dense_out_3_acc: 0.8881 - val_dense_out_4_acc: 0.9214 - val_dense_out_5_acc: 0.9190 - val_dense_out_6_acc: 0.8738\n",
      "Epoch 58/100\n",
      "3495/3495 [==============================] - 25s 7ms/step - loss: 0.1651 - dense_out_1_loss: 0.0319 - dense_out_2_loss: 0.0323 - dense_out_3_loss: 0.0276 - dense_out_4_loss: 0.0190 - dense_out_5_loss: 0.0250 - dense_out_6_loss: 0.0293 - dense_out_1_acc: 0.9914 - dense_out_2_acc: 0.9900 - dense_out_3_acc: 0.9920 - dense_out_4_acc: 0.9946 - dense_out_5_acc: 0.9940 - dense_out_6_acc: 0.9923 - val_loss: 2.8157 - val_dense_out_1_loss: 0.4679 - val_dense_out_2_loss: 0.4728 - val_dense_out_3_loss: 0.5149 - val_dense_out_4_loss: 0.4840 - val_dense_out_5_loss: 0.3021 - val_dense_out_6_loss: 0.5740 - val_dense_out_1_acc: 0.8881 - val_dense_out_2_acc: 0.8976 - val_dense_out_3_acc: 0.8857 - val_dense_out_4_acc: 0.9167 - val_dense_out_5_acc: 0.9333 - val_dense_out_6_acc: 0.8833\n",
      "Epoch 59/100\n",
      "3495/3495 [==============================] - 24s 7ms/step - loss: 0.1477 - dense_out_1_loss: 0.0255 - dense_out_2_loss: 0.0306 - dense_out_3_loss: 0.0237 - dense_out_4_loss: 0.0150 - dense_out_5_loss: 0.0231 - dense_out_6_loss: 0.0297 - dense_out_1_acc: 0.9934 - dense_out_2_acc: 0.9917 - dense_out_3_acc: 0.9948 - dense_out_4_acc: 0.9963 - dense_out_5_acc: 0.9951 - dense_out_6_acc: 0.9894 - val_loss: 2.8735 - val_dense_out_1_loss: 0.4507 - val_dense_out_2_loss: 0.4992 - val_dense_out_3_loss: 0.5177 - val_dense_out_4_loss: 0.4711 - val_dense_out_5_loss: 0.3304 - val_dense_out_6_loss: 0.6044 - val_dense_out_1_acc: 0.9024 - val_dense_out_2_acc: 0.8952 - val_dense_out_3_acc: 0.8857 - val_dense_out_4_acc: 0.9262 - val_dense_out_5_acc: 0.9310 - val_dense_out_6_acc: 0.8857\n",
      "Epoch 60/100\n",
      "3495/3495 [==============================] - 26s 7ms/step - loss: 0.1780 - dense_out_1_loss: 0.0394 - dense_out_2_loss: 0.0329 - dense_out_3_loss: 0.0227 - dense_out_4_loss: 0.0233 - dense_out_5_loss: 0.0289 - dense_out_6_loss: 0.0308 - dense_out_1_acc: 0.9866 - dense_out_2_acc: 0.9903 - dense_out_3_acc: 0.9960 - dense_out_4_acc: 0.9943 - dense_out_5_acc: 0.9917 - dense_out_6_acc: 0.9897 - val_loss: 2.9942 - val_dense_out_1_loss: 0.5000 - val_dense_out_2_loss: 0.4992 - val_dense_out_3_loss: 0.5255 - val_dense_out_4_loss: 0.4784 - val_dense_out_5_loss: 0.3311 - val_dense_out_6_loss: 0.6599 - val_dense_out_1_acc: 0.8929 - val_dense_out_2_acc: 0.8976 - val_dense_out_3_acc: 0.8833 - val_dense_out_4_acc: 0.9238 - val_dense_out_5_acc: 0.9190 - val_dense_out_6_acc: 0.8595\n",
      "Epoch 61/100\n",
      "3495/3495 [==============================] - 25s 7ms/step - loss: 0.2046 - dense_out_1_loss: 0.0451 - dense_out_2_loss: 0.0373 - dense_out_3_loss: 0.0343 - dense_out_4_loss: 0.0259 - dense_out_5_loss: 0.0263 - dense_out_6_loss: 0.0357 - dense_out_1_acc: 0.9880 - dense_out_2_acc: 0.9888 - dense_out_3_acc: 0.9897 - dense_out_4_acc: 0.9928 - dense_out_5_acc: 0.9911 - dense_out_6_acc: 0.9894 - val_loss: 3.0064 - val_dense_out_1_loss: 0.5186 - val_dense_out_2_loss: 0.4439 - val_dense_out_3_loss: 0.5389 - val_dense_out_4_loss: 0.4507 - val_dense_out_5_loss: 0.3560 - val_dense_out_6_loss: 0.6984 - val_dense_out_1_acc: 0.8929 - val_dense_out_2_acc: 0.8929 - val_dense_out_3_acc: 0.8929 - val_dense_out_4_acc: 0.9238 - val_dense_out_5_acc: 0.9071 - val_dense_out_6_acc: 0.8738\n",
      "Epoch 62/100\n"
     ]
    },
    {
     "name": "stdout",
     "output_type": "stream",
     "text": [
      "3495/3495 [==============================] - 25s 7ms/step - loss: 0.1748 - dense_out_1_loss: 0.0294 - dense_out_2_loss: 0.0371 - dense_out_3_loss: 0.0323 - dense_out_4_loss: 0.0215 - dense_out_5_loss: 0.0251 - dense_out_6_loss: 0.0293 - dense_out_1_acc: 0.9926 - dense_out_2_acc: 0.9920 - dense_out_3_acc: 0.9894 - dense_out_4_acc: 0.9940 - dense_out_5_acc: 0.9926 - dense_out_6_acc: 0.9917 - val_loss: 3.1399 - val_dense_out_1_loss: 0.5394 - val_dense_out_2_loss: 0.4692 - val_dense_out_3_loss: 0.5227 - val_dense_out_4_loss: 0.4662 - val_dense_out_5_loss: 0.3733 - val_dense_out_6_loss: 0.7692 - val_dense_out_1_acc: 0.8976 - val_dense_out_2_acc: 0.8976 - val_dense_out_3_acc: 0.8905 - val_dense_out_4_acc: 0.9190 - val_dense_out_5_acc: 0.9143 - val_dense_out_6_acc: 0.8738\n",
      "Epoch 63/100\n",
      "3495/3495 [==============================] - 26s 7ms/step - loss: 0.1693 - dense_out_1_loss: 0.0324 - dense_out_2_loss: 0.0288 - dense_out_3_loss: 0.0330 - dense_out_4_loss: 0.0188 - dense_out_5_loss: 0.0245 - dense_out_6_loss: 0.0318 - dense_out_1_acc: 0.9923 - dense_out_2_acc: 0.9917 - dense_out_3_acc: 0.9888 - dense_out_4_acc: 0.9948 - dense_out_5_acc: 0.9948 - dense_out_6_acc: 0.9914 - val_loss: 3.1340 - val_dense_out_1_loss: 0.5273 - val_dense_out_2_loss: 0.4640 - val_dense_out_3_loss: 0.5667 - val_dense_out_4_loss: 0.4919 - val_dense_out_5_loss: 0.4099 - val_dense_out_6_loss: 0.6742 - val_dense_out_1_acc: 0.8976 - val_dense_out_2_acc: 0.9071 - val_dense_out_3_acc: 0.8905 - val_dense_out_4_acc: 0.9190 - val_dense_out_5_acc: 0.9143 - val_dense_out_6_acc: 0.8810\n",
      "Epoch 64/100\n",
      "3495/3495 [==============================] - 25s 7ms/step - loss: 0.1663 - dense_out_1_loss: 0.0399 - dense_out_2_loss: 0.0294 - dense_out_3_loss: 0.0306 - dense_out_4_loss: 0.0157 - dense_out_5_loss: 0.0186 - dense_out_6_loss: 0.0320 - dense_out_1_acc: 0.9880 - dense_out_2_acc: 0.9940 - dense_out_3_acc: 0.9931 - dense_out_4_acc: 0.9954 - dense_out_5_acc: 0.9957 - dense_out_6_acc: 0.9906 - val_loss: 3.0085 - val_dense_out_1_loss: 0.5002 - val_dense_out_2_loss: 0.4657 - val_dense_out_3_loss: 0.5443 - val_dense_out_4_loss: 0.4587 - val_dense_out_5_loss: 0.3707 - val_dense_out_6_loss: 0.6690 - val_dense_out_1_acc: 0.9048 - val_dense_out_2_acc: 0.8952 - val_dense_out_3_acc: 0.8929 - val_dense_out_4_acc: 0.9286 - val_dense_out_5_acc: 0.9190 - val_dense_out_6_acc: 0.8786\n",
      "Epoch 65/100\n",
      "3495/3495 [==============================] - 25s 7ms/step - loss: 0.1503 - dense_out_1_loss: 0.0330 - dense_out_2_loss: 0.0245 - dense_out_3_loss: 0.0247 - dense_out_4_loss: 0.0171 - dense_out_5_loss: 0.0255 - dense_out_6_loss: 0.0254 - dense_out_1_acc: 0.9923 - dense_out_2_acc: 0.9943 - dense_out_3_acc: 0.9931 - dense_out_4_acc: 0.9966 - dense_out_5_acc: 0.9931 - dense_out_6_acc: 0.9920 - val_loss: 2.9653 - val_dense_out_1_loss: 0.5172 - val_dense_out_2_loss: 0.4713 - val_dense_out_3_loss: 0.5011 - val_dense_out_4_loss: 0.4490 - val_dense_out_5_loss: 0.3634 - val_dense_out_6_loss: 0.6633 - val_dense_out_1_acc: 0.8976 - val_dense_out_2_acc: 0.8929 - val_dense_out_3_acc: 0.9000 - val_dense_out_4_acc: 0.9310 - val_dense_out_5_acc: 0.9286 - val_dense_out_6_acc: 0.8690\n",
      "Epoch 66/100\n",
      "3495/3495 [==============================] - 25s 7ms/step - loss: 0.1676 - dense_out_1_loss: 0.0365 - dense_out_2_loss: 0.0315 - dense_out_3_loss: 0.0244 - dense_out_4_loss: 0.0247 - dense_out_5_loss: 0.0251 - dense_out_6_loss: 0.0254 - dense_out_1_acc: 0.9906 - dense_out_2_acc: 0.9906 - dense_out_3_acc: 0.9948 - dense_out_4_acc: 0.9917 - dense_out_5_acc: 0.9940 - dense_out_6_acc: 0.9931 - val_loss: 2.9367 - val_dense_out_1_loss: 0.4985 - val_dense_out_2_loss: 0.4678 - val_dense_out_3_loss: 0.5428 - val_dense_out_4_loss: 0.4096 - val_dense_out_5_loss: 0.3467 - val_dense_out_6_loss: 0.6713 - val_dense_out_1_acc: 0.8929 - val_dense_out_2_acc: 0.8881 - val_dense_out_3_acc: 0.9048 - val_dense_out_4_acc: 0.9333 - val_dense_out_5_acc: 0.9238 - val_dense_out_6_acc: 0.8667\n",
      "Epoch 67/100\n",
      "3495/3495 [==============================] - 25s 7ms/step - loss: 0.1836 - dense_out_1_loss: 0.0484 - dense_out_2_loss: 0.0251 - dense_out_3_loss: 0.0291 - dense_out_4_loss: 0.0171 - dense_out_5_loss: 0.0387 - dense_out_6_loss: 0.0251 - dense_out_1_acc: 0.9868 - dense_out_2_acc: 0.9946 - dense_out_3_acc: 0.9914 - dense_out_4_acc: 0.9946 - dense_out_5_acc: 0.9897 - dense_out_6_acc: 0.9937 - val_loss: 3.1747 - val_dense_out_1_loss: 0.4965 - val_dense_out_2_loss: 0.5187 - val_dense_out_3_loss: 0.5942 - val_dense_out_4_loss: 0.4803 - val_dense_out_5_loss: 0.3598 - val_dense_out_6_loss: 0.7254 - val_dense_out_1_acc: 0.8881 - val_dense_out_2_acc: 0.8929 - val_dense_out_3_acc: 0.8952 - val_dense_out_4_acc: 0.9167 - val_dense_out_5_acc: 0.9214 - val_dense_out_6_acc: 0.8738\n",
      "Epoch 68/100\n",
      "3495/3495 [==============================] - 25s 7ms/step - loss: 0.1695 - dense_out_1_loss: 0.0427 - dense_out_2_loss: 0.0324 - dense_out_3_loss: 0.0183 - dense_out_4_loss: 0.0173 - dense_out_5_loss: 0.0251 - dense_out_6_loss: 0.0338 - dense_out_1_acc: 0.9854 - dense_out_2_acc: 0.9911 - dense_out_3_acc: 0.9966 - dense_out_4_acc: 0.9951 - dense_out_5_acc: 0.9917 - dense_out_6_acc: 0.9894 - val_loss: 3.5150 - val_dense_out_1_loss: 0.5845 - val_dense_out_2_loss: 0.5590 - val_dense_out_3_loss: 0.6265 - val_dense_out_4_loss: 0.5129 - val_dense_out_5_loss: 0.4379 - val_dense_out_6_loss: 0.7943 - val_dense_out_1_acc: 0.8833 - val_dense_out_2_acc: 0.8929 - val_dense_out_3_acc: 0.8833 - val_dense_out_4_acc: 0.9167 - val_dense_out_5_acc: 0.9095 - val_dense_out_6_acc: 0.8595\n",
      "Epoch 69/100\n",
      "3495/3495 [==============================] - 25s 7ms/step - loss: 0.1705 - dense_out_1_loss: 0.0382 - dense_out_2_loss: 0.0284 - dense_out_3_loss: 0.0230 - dense_out_4_loss: 0.0193 - dense_out_5_loss: 0.0271 - dense_out_6_loss: 0.0345 - dense_out_1_acc: 0.9906 - dense_out_2_acc: 0.9926 - dense_out_3_acc: 0.9943 - dense_out_4_acc: 0.9940 - dense_out_5_acc: 0.9928 - dense_out_6_acc: 0.9900 - val_loss: 3.1048 - val_dense_out_1_loss: 0.5321 - val_dense_out_2_loss: 0.4902 - val_dense_out_3_loss: 0.5431 - val_dense_out_4_loss: 0.5038 - val_dense_out_5_loss: 0.3748 - val_dense_out_6_loss: 0.6608 - val_dense_out_1_acc: 0.8857 - val_dense_out_2_acc: 0.9024 - val_dense_out_3_acc: 0.9071 - val_dense_out_4_acc: 0.9214 - val_dense_out_5_acc: 0.9238 - val_dense_out_6_acc: 0.8738\n",
      "Epoch 70/100\n",
      "3495/3495 [==============================] - 25s 7ms/step - loss: 0.1726 - dense_out_1_loss: 0.0415 - dense_out_2_loss: 0.0267 - dense_out_3_loss: 0.0211 - dense_out_4_loss: 0.0191 - dense_out_5_loss: 0.0285 - dense_out_6_loss: 0.0357 - dense_out_1_acc: 0.9894 - dense_out_2_acc: 0.9923 - dense_out_3_acc: 0.9951 - dense_out_4_acc: 0.9937 - dense_out_5_acc: 0.9914 - dense_out_6_acc: 0.9880 - val_loss: 3.1798 - val_dense_out_1_loss: 0.5351 - val_dense_out_2_loss: 0.4907 - val_dense_out_3_loss: 0.5380 - val_dense_out_4_loss: 0.5157 - val_dense_out_5_loss: 0.3457 - val_dense_out_6_loss: 0.7544 - val_dense_out_1_acc: 0.8786 - val_dense_out_2_acc: 0.9095 - val_dense_out_3_acc: 0.8905 - val_dense_out_4_acc: 0.9143 - val_dense_out_5_acc: 0.9333 - val_dense_out_6_acc: 0.8714\n",
      "Epoch 71/100\n",
      "3495/3495 [==============================] - 25s 7ms/step - loss: 0.1627 - dense_out_1_loss: 0.0341 - dense_out_2_loss: 0.0293 - dense_out_3_loss: 0.0231 - dense_out_4_loss: 0.0187 - dense_out_5_loss: 0.0309 - dense_out_6_loss: 0.0266 - dense_out_1_acc: 0.9908 - dense_out_2_acc: 0.9917 - dense_out_3_acc: 0.9937 - dense_out_4_acc: 0.9940 - dense_out_5_acc: 0.9917 - dense_out_6_acc: 0.9920 - val_loss: 3.1646 - val_dense_out_1_loss: 0.5428 - val_dense_out_2_loss: 0.4606 - val_dense_out_3_loss: 0.5656 - val_dense_out_4_loss: 0.5648 - val_dense_out_5_loss: 0.3215 - val_dense_out_6_loss: 0.7093 - val_dense_out_1_acc: 0.8905 - val_dense_out_2_acc: 0.9214 - val_dense_out_3_acc: 0.8857 - val_dense_out_4_acc: 0.9238 - val_dense_out_5_acc: 0.9286 - val_dense_out_6_acc: 0.8762\n",
      "Epoch 72/100\n"
     ]
    },
    {
     "name": "stdout",
     "output_type": "stream",
     "text": [
      "3495/3495 [==============================] - 25s 7ms/step - loss: 0.1584 - dense_out_1_loss: 0.0303 - dense_out_2_loss: 0.0328 - dense_out_3_loss: 0.0217 - dense_out_4_loss: 0.0220 - dense_out_5_loss: 0.0208 - dense_out_6_loss: 0.0307 - dense_out_1_acc: 0.9911 - dense_out_2_acc: 0.9911 - dense_out_3_acc: 0.9954 - dense_out_4_acc: 0.9937 - dense_out_5_acc: 0.9940 - dense_out_6_acc: 0.9903 - val_loss: 3.0344 - val_dense_out_1_loss: 0.5259 - val_dense_out_2_loss: 0.4709 - val_dense_out_3_loss: 0.5530 - val_dense_out_4_loss: 0.4922 - val_dense_out_5_loss: 0.3228 - val_dense_out_6_loss: 0.6697 - val_dense_out_1_acc: 0.8905 - val_dense_out_2_acc: 0.9000 - val_dense_out_3_acc: 0.8952 - val_dense_out_4_acc: 0.9262 - val_dense_out_5_acc: 0.9238 - val_dense_out_6_acc: 0.8738\n",
      "Epoch 73/100\n",
      "3495/3495 [==============================] - 25s 7ms/step - loss: 0.1386 - dense_out_1_loss: 0.0263 - dense_out_2_loss: 0.0282 - dense_out_3_loss: 0.0242 - dense_out_4_loss: 0.0143 - dense_out_5_loss: 0.0205 - dense_out_6_loss: 0.0252 - dense_out_1_acc: 0.9931 - dense_out_2_acc: 0.9923 - dense_out_3_acc: 0.9951 - dense_out_4_acc: 0.9946 - dense_out_5_acc: 0.9937 - dense_out_6_acc: 0.9926 - val_loss: 3.0203 - val_dense_out_1_loss: 0.5298 - val_dense_out_2_loss: 0.4751 - val_dense_out_3_loss: 0.5029 - val_dense_out_4_loss: 0.4982 - val_dense_out_5_loss: 0.3097 - val_dense_out_6_loss: 0.7046 - val_dense_out_1_acc: 0.8857 - val_dense_out_2_acc: 0.9048 - val_dense_out_3_acc: 0.9000 - val_dense_out_4_acc: 0.9190 - val_dense_out_5_acc: 0.9286 - val_dense_out_6_acc: 0.8690\n",
      "Epoch 74/100\n",
      "3495/3495 [==============================] - 25s 7ms/step - loss: 0.1548 - dense_out_1_loss: 0.0328 - dense_out_2_loss: 0.0271 - dense_out_3_loss: 0.0238 - dense_out_4_loss: 0.0167 - dense_out_5_loss: 0.0259 - dense_out_6_loss: 0.0285 - dense_out_1_acc: 0.9943 - dense_out_2_acc: 0.9914 - dense_out_3_acc: 0.9931 - dense_out_4_acc: 0.9940 - dense_out_5_acc: 0.9928 - dense_out_6_acc: 0.9908 - val_loss: 3.1044 - val_dense_out_1_loss: 0.5263 - val_dense_out_2_loss: 0.5412 - val_dense_out_3_loss: 0.5400 - val_dense_out_4_loss: 0.4909 - val_dense_out_5_loss: 0.3179 - val_dense_out_6_loss: 0.6881 - val_dense_out_1_acc: 0.8810 - val_dense_out_2_acc: 0.8833 - val_dense_out_3_acc: 0.8857 - val_dense_out_4_acc: 0.9190 - val_dense_out_5_acc: 0.9286 - val_dense_out_6_acc: 0.8738\n",
      "Epoch 75/100\n",
      "3495/3495 [==============================] - 25s 7ms/step - loss: 0.1464 - dense_out_1_loss: 0.0295 - dense_out_2_loss: 0.0295 - dense_out_3_loss: 0.0224 - dense_out_4_loss: 0.0137 - dense_out_5_loss: 0.0226 - dense_out_6_loss: 0.0287 - dense_out_1_acc: 0.9894 - dense_out_2_acc: 0.9917 - dense_out_3_acc: 0.9931 - dense_out_4_acc: 0.9969 - dense_out_5_acc: 0.9926 - dense_out_6_acc: 0.9908 - val_loss: 2.9824 - val_dense_out_1_loss: 0.5128 - val_dense_out_2_loss: 0.4492 - val_dense_out_3_loss: 0.5423 - val_dense_out_4_loss: 0.4808 - val_dense_out_5_loss: 0.3333 - val_dense_out_6_loss: 0.6640 - val_dense_out_1_acc: 0.8881 - val_dense_out_2_acc: 0.9048 - val_dense_out_3_acc: 0.8905 - val_dense_out_4_acc: 0.9262 - val_dense_out_5_acc: 0.9286 - val_dense_out_6_acc: 0.8762\n",
      "Epoch 76/100\n",
      "3495/3495 [==============================] - 25s 7ms/step - loss: 0.1307 - dense_out_1_loss: 0.0237 - dense_out_2_loss: 0.0233 - dense_out_3_loss: 0.0200 - dense_out_4_loss: 0.0170 - dense_out_5_loss: 0.0183 - dense_out_6_loss: 0.0283 - dense_out_1_acc: 0.9931 - dense_out_2_acc: 0.9926 - dense_out_3_acc: 0.9940 - dense_out_4_acc: 0.9934 - dense_out_5_acc: 0.9946 - dense_out_6_acc: 0.9911 - val_loss: 3.0253 - val_dense_out_1_loss: 0.5361 - val_dense_out_2_loss: 0.4457 - val_dense_out_3_loss: 0.6021 - val_dense_out_4_loss: 0.4540 - val_dense_out_5_loss: 0.3598 - val_dense_out_6_loss: 0.6276 - val_dense_out_1_acc: 0.8905 - val_dense_out_2_acc: 0.9071 - val_dense_out_3_acc: 0.9000 - val_dense_out_4_acc: 0.9262 - val_dense_out_5_acc: 0.9214 - val_dense_out_6_acc: 0.8833\n",
      "Epoch 77/100\n",
      "3495/3495 [==============================] - 25s 7ms/step - loss: 0.1290 - dense_out_1_loss: 0.0279 - dense_out_2_loss: 0.0212 - dense_out_3_loss: 0.0219 - dense_out_4_loss: 0.0156 - dense_out_5_loss: 0.0208 - dense_out_6_loss: 0.0216 - dense_out_1_acc: 0.9928 - dense_out_2_acc: 0.9951 - dense_out_3_acc: 0.9931 - dense_out_4_acc: 0.9960 - dense_out_5_acc: 0.9934 - dense_out_6_acc: 0.9934 - val_loss: 2.9987 - val_dense_out_1_loss: 0.5414 - val_dense_out_2_loss: 0.4580 - val_dense_out_3_loss: 0.5480 - val_dense_out_4_loss: 0.4585 - val_dense_out_5_loss: 0.3024 - val_dense_out_6_loss: 0.6903 - val_dense_out_1_acc: 0.8976 - val_dense_out_2_acc: 0.9071 - val_dense_out_3_acc: 0.8952 - val_dense_out_4_acc: 0.9310 - val_dense_out_5_acc: 0.9286 - val_dense_out_6_acc: 0.8786\n",
      "Epoch 78/100\n",
      "3495/3495 [==============================] - 25s 7ms/step - loss: 0.1335 - dense_out_1_loss: 0.0221 - dense_out_2_loss: 0.0268 - dense_out_3_loss: 0.0199 - dense_out_4_loss: 0.0174 - dense_out_5_loss: 0.0220 - dense_out_6_loss: 0.0253 - dense_out_1_acc: 0.9931 - dense_out_2_acc: 0.9937 - dense_out_3_acc: 0.9943 - dense_out_4_acc: 0.9966 - dense_out_5_acc: 0.9940 - dense_out_6_acc: 0.9931 - val_loss: 3.1029 - val_dense_out_1_loss: 0.5281 - val_dense_out_2_loss: 0.4851 - val_dense_out_3_loss: 0.6404 - val_dense_out_4_loss: 0.4603 - val_dense_out_5_loss: 0.3053 - val_dense_out_6_loss: 0.6837 - val_dense_out_1_acc: 0.8881 - val_dense_out_2_acc: 0.9000 - val_dense_out_3_acc: 0.8833 - val_dense_out_4_acc: 0.9310 - val_dense_out_5_acc: 0.9262 - val_dense_out_6_acc: 0.8738\n",
      "Epoch 79/100\n",
      "3495/3495 [==============================] - 25s 7ms/step - loss: 0.1470 - dense_out_1_loss: 0.0330 - dense_out_2_loss: 0.0278 - dense_out_3_loss: 0.0185 - dense_out_4_loss: 0.0189 - dense_out_5_loss: 0.0226 - dense_out_6_loss: 0.0261 - dense_out_1_acc: 0.9906 - dense_out_2_acc: 0.9917 - dense_out_3_acc: 0.9960 - dense_out_4_acc: 0.9948 - dense_out_5_acc: 0.9943 - dense_out_6_acc: 0.9923 - val_loss: 3.0932 - val_dense_out_1_loss: 0.5832 - val_dense_out_2_loss: 0.4706 - val_dense_out_3_loss: 0.5882 - val_dense_out_4_loss: 0.4598 - val_dense_out_5_loss: 0.3423 - val_dense_out_6_loss: 0.6492 - val_dense_out_1_acc: 0.8929 - val_dense_out_2_acc: 0.9000 - val_dense_out_3_acc: 0.8929 - val_dense_out_4_acc: 0.9310 - val_dense_out_5_acc: 0.9214 - val_dense_out_6_acc: 0.8595\n",
      "Epoch 80/100\n",
      "3495/3495 [==============================] - 25s 7ms/step - loss: 0.1415 - dense_out_1_loss: 0.0321 - dense_out_2_loss: 0.0259 - dense_out_3_loss: 0.0198 - dense_out_4_loss: 0.0168 - dense_out_5_loss: 0.0202 - dense_out_6_loss: 0.0268 - dense_out_1_acc: 0.9888 - dense_out_2_acc: 0.9928 - dense_out_3_acc: 0.9943 - dense_out_4_acc: 0.9954 - dense_out_5_acc: 0.9943 - dense_out_6_acc: 0.9928 - val_loss: 2.9472 - val_dense_out_1_loss: 0.5849 - val_dense_out_2_loss: 0.4128 - val_dense_out_3_loss: 0.5606 - val_dense_out_4_loss: 0.5031 - val_dense_out_5_loss: 0.2848 - val_dense_out_6_loss: 0.6010 - val_dense_out_1_acc: 0.8952 - val_dense_out_2_acc: 0.9071 - val_dense_out_3_acc: 0.8952 - val_dense_out_4_acc: 0.9262 - val_dense_out_5_acc: 0.9381 - val_dense_out_6_acc: 0.8810\n",
      "Epoch 81/100\n",
      "3495/3495 [==============================] - 25s 7ms/step - loss: 0.1672 - dense_out_1_loss: 0.0295 - dense_out_2_loss: 0.0309 - dense_out_3_loss: 0.0224 - dense_out_4_loss: 0.0217 - dense_out_5_loss: 0.0226 - dense_out_6_loss: 0.0401 - dense_out_1_acc: 0.9920 - dense_out_2_acc: 0.9888 - dense_out_3_acc: 0.9931 - dense_out_4_acc: 0.9926 - dense_out_5_acc: 0.9940 - dense_out_6_acc: 0.9868 - val_loss: 2.9903 - val_dense_out_1_loss: 0.5457 - val_dense_out_2_loss: 0.4323 - val_dense_out_3_loss: 0.6033 - val_dense_out_4_loss: 0.4384 - val_dense_out_5_loss: 0.3473 - val_dense_out_6_loss: 0.6232 - val_dense_out_1_acc: 0.8952 - val_dense_out_2_acc: 0.9095 - val_dense_out_3_acc: 0.8905 - val_dense_out_4_acc: 0.9310 - val_dense_out_5_acc: 0.9333 - val_dense_out_6_acc: 0.8905\n",
      "Epoch 82/100\n"
     ]
    },
    {
     "name": "stdout",
     "output_type": "stream",
     "text": [
      "3495/3495 [==============================] - 25s 7ms/step - loss: 0.1580 - dense_out_1_loss: 0.0353 - dense_out_2_loss: 0.0304 - dense_out_3_loss: 0.0266 - dense_out_4_loss: 0.0169 - dense_out_5_loss: 0.0211 - dense_out_6_loss: 0.0276 - dense_out_1_acc: 0.9908 - dense_out_2_acc: 0.9894 - dense_out_3_acc: 0.9908 - dense_out_4_acc: 0.9951 - dense_out_5_acc: 0.9934 - dense_out_6_acc: 0.9920 - val_loss: 3.1957 - val_dense_out_1_loss: 0.5899 - val_dense_out_2_loss: 0.4691 - val_dense_out_3_loss: 0.6197 - val_dense_out_4_loss: 0.4596 - val_dense_out_5_loss: 0.3473 - val_dense_out_6_loss: 0.7102 - val_dense_out_1_acc: 0.8881 - val_dense_out_2_acc: 0.9071 - val_dense_out_3_acc: 0.8905 - val_dense_out_4_acc: 0.9333 - val_dense_out_5_acc: 0.9357 - val_dense_out_6_acc: 0.8786\n",
      "Epoch 83/100\n",
      "3495/3495 [==============================] - 25s 7ms/step - loss: 0.1439 - dense_out_1_loss: 0.0312 - dense_out_2_loss: 0.0305 - dense_out_3_loss: 0.0195 - dense_out_4_loss: 0.0166 - dense_out_5_loss: 0.0221 - dense_out_6_loss: 0.0241 - dense_out_1_acc: 0.9900 - dense_out_2_acc: 0.9914 - dense_out_3_acc: 0.9940 - dense_out_4_acc: 0.9946 - dense_out_5_acc: 0.9931 - dense_out_6_acc: 0.9914 - val_loss: 3.0194 - val_dense_out_1_loss: 0.5095 - val_dense_out_2_loss: 0.4932 - val_dense_out_3_loss: 0.5675 - val_dense_out_4_loss: 0.4831 - val_dense_out_5_loss: 0.2810 - val_dense_out_6_loss: 0.6851 - val_dense_out_1_acc: 0.8905 - val_dense_out_2_acc: 0.8905 - val_dense_out_3_acc: 0.9024 - val_dense_out_4_acc: 0.9214 - val_dense_out_5_acc: 0.9333 - val_dense_out_6_acc: 0.8714\n",
      "Epoch 84/100\n",
      "3495/3495 [==============================] - 25s 7ms/step - loss: 0.1292 - dense_out_1_loss: 0.0401 - dense_out_2_loss: 0.0207 - dense_out_3_loss: 0.0196 - dense_out_4_loss: 0.0101 - dense_out_5_loss: 0.0235 - dense_out_6_loss: 0.0151 - dense_out_1_acc: 0.9891 - dense_out_2_acc: 0.9937 - dense_out_3_acc: 0.9951 - dense_out_4_acc: 0.9969 - dense_out_5_acc: 0.9931 - dense_out_6_acc: 0.9966 - val_loss: 3.0172 - val_dense_out_1_loss: 0.5261 - val_dense_out_2_loss: 0.4336 - val_dense_out_3_loss: 0.5903 - val_dense_out_4_loss: 0.4279 - val_dense_out_5_loss: 0.3494 - val_dense_out_6_loss: 0.6898 - val_dense_out_1_acc: 0.8976 - val_dense_out_2_acc: 0.9071 - val_dense_out_3_acc: 0.8976 - val_dense_out_4_acc: 0.9310 - val_dense_out_5_acc: 0.9286 - val_dense_out_6_acc: 0.8786\n",
      "Epoch 85/100\n",
      "3495/3495 [==============================] - 25s 7ms/step - loss: 0.1359 - dense_out_1_loss: 0.0276 - dense_out_2_loss: 0.0208 - dense_out_3_loss: 0.0229 - dense_out_4_loss: 0.0193 - dense_out_5_loss: 0.0220 - dense_out_6_loss: 0.0234 - dense_out_1_acc: 0.9920 - dense_out_2_acc: 0.9946 - dense_out_3_acc: 0.9923 - dense_out_4_acc: 0.9923 - dense_out_5_acc: 0.9940 - dense_out_6_acc: 0.9937 - val_loss: 2.9980 - val_dense_out_1_loss: 0.4916 - val_dense_out_2_loss: 0.4232 - val_dense_out_3_loss: 0.5887 - val_dense_out_4_loss: 0.4275 - val_dense_out_5_loss: 0.3596 - val_dense_out_6_loss: 0.7074 - val_dense_out_1_acc: 0.9048 - val_dense_out_2_acc: 0.9119 - val_dense_out_3_acc: 0.8857 - val_dense_out_4_acc: 0.9286 - val_dense_out_5_acc: 0.9310 - val_dense_out_6_acc: 0.8810\n",
      "Epoch 86/100\n",
      "3495/3495 [==============================] - 25s 7ms/step - loss: 0.1338 - dense_out_1_loss: 0.0317 - dense_out_2_loss: 0.0245 - dense_out_3_loss: 0.0214 - dense_out_4_loss: 0.0159 - dense_out_5_loss: 0.0198 - dense_out_6_loss: 0.0205 - dense_out_1_acc: 0.9903 - dense_out_2_acc: 0.9934 - dense_out_3_acc: 0.9934 - dense_out_4_acc: 0.9951 - dense_out_5_acc: 0.9931 - dense_out_6_acc: 0.9931 - val_loss: 3.0527 - val_dense_out_1_loss: 0.5332 - val_dense_out_2_loss: 0.4638 - val_dense_out_3_loss: 0.5454 - val_dense_out_4_loss: 0.4684 - val_dense_out_5_loss: 0.3108 - val_dense_out_6_loss: 0.7311 - val_dense_out_1_acc: 0.8952 - val_dense_out_2_acc: 0.9000 - val_dense_out_3_acc: 0.8952 - val_dense_out_4_acc: 0.9190 - val_dense_out_5_acc: 0.9262 - val_dense_out_6_acc: 0.8738\n",
      "Epoch 87/100\n",
      "3495/3495 [==============================] - 25s 7ms/step - loss: 0.1307 - dense_out_1_loss: 0.0316 - dense_out_2_loss: 0.0191 - dense_out_3_loss: 0.0163 - dense_out_4_loss: 0.0139 - dense_out_5_loss: 0.0241 - dense_out_6_loss: 0.0257 - dense_out_1_acc: 0.9920 - dense_out_2_acc: 0.9948 - dense_out_3_acc: 0.9954 - dense_out_4_acc: 0.9951 - dense_out_5_acc: 0.9937 - dense_out_6_acc: 0.9923 - val_loss: 3.0127 - val_dense_out_1_loss: 0.4935 - val_dense_out_2_loss: 0.4625 - val_dense_out_3_loss: 0.5982 - val_dense_out_4_loss: 0.4663 - val_dense_out_5_loss: 0.3298 - val_dense_out_6_loss: 0.6625 - val_dense_out_1_acc: 0.9024 - val_dense_out_2_acc: 0.9048 - val_dense_out_3_acc: 0.8810 - val_dense_out_4_acc: 0.9262 - val_dense_out_5_acc: 0.9310 - val_dense_out_6_acc: 0.8905\n",
      "Epoch 88/100\n",
      "3495/3495 [==============================] - 25s 7ms/step - loss: 0.1413 - dense_out_1_loss: 0.0346 - dense_out_2_loss: 0.0268 - dense_out_3_loss: 0.0207 - dense_out_4_loss: 0.0172 - dense_out_5_loss: 0.0175 - dense_out_6_loss: 0.0245 - dense_out_1_acc: 0.9883 - dense_out_2_acc: 0.9908 - dense_out_3_acc: 0.9937 - dense_out_4_acc: 0.9954 - dense_out_5_acc: 0.9940 - dense_out_6_acc: 0.9928 - val_loss: 3.3063 - val_dense_out_1_loss: 0.5671 - val_dense_out_2_loss: 0.6001 - val_dense_out_3_loss: 0.5823 - val_dense_out_4_loss: 0.4634 - val_dense_out_5_loss: 0.3528 - val_dense_out_6_loss: 0.7407 - val_dense_out_1_acc: 0.8905 - val_dense_out_2_acc: 0.8786 - val_dense_out_3_acc: 0.8929 - val_dense_out_4_acc: 0.9333 - val_dense_out_5_acc: 0.9357 - val_dense_out_6_acc: 0.8738\n",
      "Epoch 89/100\n",
      "3495/3495 [==============================] - 25s 7ms/step - loss: 0.1186 - dense_out_1_loss: 0.0241 - dense_out_2_loss: 0.0226 - dense_out_3_loss: 0.0189 - dense_out_4_loss: 0.0140 - dense_out_5_loss: 0.0193 - dense_out_6_loss: 0.0196 - dense_out_1_acc: 0.9923 - dense_out_2_acc: 0.9928 - dense_out_3_acc: 0.9946 - dense_out_4_acc: 0.9951 - dense_out_5_acc: 0.9946 - dense_out_6_acc: 0.9934 - val_loss: 2.9951 - val_dense_out_1_loss: 0.5325 - val_dense_out_2_loss: 0.4694 - val_dense_out_3_loss: 0.5537 - val_dense_out_4_loss: 0.4764 - val_dense_out_5_loss: 0.3225 - val_dense_out_6_loss: 0.6407 - val_dense_out_1_acc: 0.9000 - val_dense_out_2_acc: 0.9071 - val_dense_out_3_acc: 0.8952 - val_dense_out_4_acc: 0.9286 - val_dense_out_5_acc: 0.9405 - val_dense_out_6_acc: 0.8881\n",
      "Epoch 90/100\n",
      "3495/3495 [==============================] - 25s 7ms/step - loss: 0.1113 - dense_out_1_loss: 0.0260 - dense_out_2_loss: 0.0163 - dense_out_3_loss: 0.0190 - dense_out_4_loss: 0.0155 - dense_out_5_loss: 0.0197 - dense_out_6_loss: 0.0149 - dense_out_1_acc: 0.9917 - dense_out_2_acc: 0.9954 - dense_out_3_acc: 0.9946 - dense_out_4_acc: 0.9966 - dense_out_5_acc: 0.9931 - dense_out_6_acc: 0.9969 - val_loss: 2.9442 - val_dense_out_1_loss: 0.5007 - val_dense_out_2_loss: 0.4844 - val_dense_out_3_loss: 0.5115 - val_dense_out_4_loss: 0.4336 - val_dense_out_5_loss: 0.3325 - val_dense_out_6_loss: 0.6814 - val_dense_out_1_acc: 0.8833 - val_dense_out_2_acc: 0.9024 - val_dense_out_3_acc: 0.9071 - val_dense_out_4_acc: 0.9238 - val_dense_out_5_acc: 0.9262 - val_dense_out_6_acc: 0.8833\n",
      "Epoch 91/100\n",
      "3495/3495 [==============================] - 25s 7ms/step - loss: 0.1492 - dense_out_1_loss: 0.0314 - dense_out_2_loss: 0.0228 - dense_out_3_loss: 0.0276 - dense_out_4_loss: 0.0129 - dense_out_5_loss: 0.0248 - dense_out_6_loss: 0.0297 - dense_out_1_acc: 0.9897 - dense_out_2_acc: 0.9931 - dense_out_3_acc: 0.9928 - dense_out_4_acc: 0.9957 - dense_out_5_acc: 0.9920 - dense_out_6_acc: 0.9926 - val_loss: 2.9388 - val_dense_out_1_loss: 0.5506 - val_dense_out_2_loss: 0.4465 - val_dense_out_3_loss: 0.5526 - val_dense_out_4_loss: 0.4338 - val_dense_out_5_loss: 0.3119 - val_dense_out_6_loss: 0.6434 - val_dense_out_1_acc: 0.8905 - val_dense_out_2_acc: 0.9119 - val_dense_out_3_acc: 0.8952 - val_dense_out_4_acc: 0.9333 - val_dense_out_5_acc: 0.9381 - val_dense_out_6_acc: 0.8952\n",
      "Epoch 92/100\n"
     ]
    },
    {
     "name": "stdout",
     "output_type": "stream",
     "text": [
      "3495/3495 [==============================] - 25s 7ms/step - loss: 0.1386 - dense_out_1_loss: 0.0216 - dense_out_2_loss: 0.0282 - dense_out_3_loss: 0.0288 - dense_out_4_loss: 0.0200 - dense_out_5_loss: 0.0163 - dense_out_6_loss: 0.0235 - dense_out_1_acc: 0.9951 - dense_out_2_acc: 0.9917 - dense_out_3_acc: 0.9940 - dense_out_4_acc: 0.9926 - dense_out_5_acc: 0.9957 - dense_out_6_acc: 0.9923 - val_loss: 3.5927 - val_dense_out_1_loss: 0.5228 - val_dense_out_2_loss: 0.5495 - val_dense_out_3_loss: 0.7053 - val_dense_out_4_loss: 0.5945 - val_dense_out_5_loss: 0.4092 - val_dense_out_6_loss: 0.8115 - val_dense_out_1_acc: 0.9000 - val_dense_out_2_acc: 0.9000 - val_dense_out_3_acc: 0.8738 - val_dense_out_4_acc: 0.9143 - val_dense_out_5_acc: 0.9238 - val_dense_out_6_acc: 0.8690\n",
      "Epoch 93/100\n",
      "3495/3495 [==============================] - 25s 7ms/step - loss: 0.1804 - dense_out_1_loss: 0.0338 - dense_out_2_loss: 0.0303 - dense_out_3_loss: 0.0339 - dense_out_4_loss: 0.0157 - dense_out_5_loss: 0.0299 - dense_out_6_loss: 0.0369 - dense_out_1_acc: 0.9897 - dense_out_2_acc: 0.9914 - dense_out_3_acc: 0.9888 - dense_out_4_acc: 0.9957 - dense_out_5_acc: 0.9894 - dense_out_6_acc: 0.9891 - val_loss: 3.1551 - val_dense_out_1_loss: 0.5493 - val_dense_out_2_loss: 0.4963 - val_dense_out_3_loss: 0.5231 - val_dense_out_4_loss: 0.4610 - val_dense_out_5_loss: 0.3554 - val_dense_out_6_loss: 0.7698 - val_dense_out_1_acc: 0.8881 - val_dense_out_2_acc: 0.8976 - val_dense_out_3_acc: 0.8976 - val_dense_out_4_acc: 0.9214 - val_dense_out_5_acc: 0.9190 - val_dense_out_6_acc: 0.8643\n",
      "Epoch 94/100\n",
      "3495/3495 [==============================] - 25s 7ms/step - loss: 0.1523 - dense_out_1_loss: 0.0444 - dense_out_2_loss: 0.0247 - dense_out_3_loss: 0.0157 - dense_out_4_loss: 0.0146 - dense_out_5_loss: 0.0205 - dense_out_6_loss: 0.0323 - dense_out_1_acc: 0.9863 - dense_out_2_acc: 0.9937 - dense_out_3_acc: 0.9946 - dense_out_4_acc: 0.9951 - dense_out_5_acc: 0.9931 - dense_out_6_acc: 0.9926 - val_loss: 2.8674 - val_dense_out_1_loss: 0.5016 - val_dense_out_2_loss: 0.4324 - val_dense_out_3_loss: 0.5167 - val_dense_out_4_loss: 0.4154 - val_dense_out_5_loss: 0.2768 - val_dense_out_6_loss: 0.7245 - val_dense_out_1_acc: 0.9048 - val_dense_out_2_acc: 0.9048 - val_dense_out_3_acc: 0.8976 - val_dense_out_4_acc: 0.9286 - val_dense_out_5_acc: 0.9286 - val_dense_out_6_acc: 0.8738\n",
      "Epoch 95/100\n",
      "3495/3495 [==============================] - 24s 7ms/step - loss: 0.1062 - dense_out_1_loss: 0.0232 - dense_out_2_loss: 0.0186 - dense_out_3_loss: 0.0140 - dense_out_4_loss: 0.0154 - dense_out_5_loss: 0.0152 - dense_out_6_loss: 0.0197 - dense_out_1_acc: 0.9923 - dense_out_2_acc: 0.9943 - dense_out_3_acc: 0.9960 - dense_out_4_acc: 0.9954 - dense_out_5_acc: 0.9954 - dense_out_6_acc: 0.9940 - val_loss: 2.9195 - val_dense_out_1_loss: 0.5051 - val_dense_out_2_loss: 0.4377 - val_dense_out_3_loss: 0.4990 - val_dense_out_4_loss: 0.4172 - val_dense_out_5_loss: 0.3390 - val_dense_out_6_loss: 0.7215 - val_dense_out_1_acc: 0.8929 - val_dense_out_2_acc: 0.9000 - val_dense_out_3_acc: 0.9143 - val_dense_out_4_acc: 0.9333 - val_dense_out_5_acc: 0.9286 - val_dense_out_6_acc: 0.8810\n",
      "Epoch 96/100\n",
      "3495/3495 [==============================] - 25s 7ms/step - loss: 0.1255 - dense_out_1_loss: 0.0239 - dense_out_2_loss: 0.0229 - dense_out_3_loss: 0.0197 - dense_out_4_loss: 0.0179 - dense_out_5_loss: 0.0153 - dense_out_6_loss: 0.0258 - dense_out_1_acc: 0.9937 - dense_out_2_acc: 0.9926 - dense_out_3_acc: 0.9940 - dense_out_4_acc: 0.9954 - dense_out_5_acc: 0.9957 - dense_out_6_acc: 0.9934 - val_loss: 3.2052 - val_dense_out_1_loss: 0.5482 - val_dense_out_2_loss: 0.4975 - val_dense_out_3_loss: 0.5366 - val_dense_out_4_loss: 0.4854 - val_dense_out_5_loss: 0.4377 - val_dense_out_6_loss: 0.6999 - val_dense_out_1_acc: 0.8929 - val_dense_out_2_acc: 0.9048 - val_dense_out_3_acc: 0.8976 - val_dense_out_4_acc: 0.9214 - val_dense_out_5_acc: 0.9238 - val_dense_out_6_acc: 0.8810\n",
      "Epoch 97/100\n",
      "3495/3495 [==============================] - 25s 7ms/step - loss: 0.1310 - dense_out_1_loss: 0.0279 - dense_out_2_loss: 0.0237 - dense_out_3_loss: 0.0232 - dense_out_4_loss: 0.0145 - dense_out_5_loss: 0.0163 - dense_out_6_loss: 0.0254 - dense_out_1_acc: 0.9911 - dense_out_2_acc: 0.9931 - dense_out_3_acc: 0.9928 - dense_out_4_acc: 0.9951 - dense_out_5_acc: 0.9951 - dense_out_6_acc: 0.9926 - val_loss: 2.9601 - val_dense_out_1_loss: 0.5193 - val_dense_out_2_loss: 0.4351 - val_dense_out_3_loss: 0.5566 - val_dense_out_4_loss: 0.4451 - val_dense_out_5_loss: 0.3334 - val_dense_out_6_loss: 0.6707 - val_dense_out_1_acc: 0.8881 - val_dense_out_2_acc: 0.9048 - val_dense_out_3_acc: 0.8929 - val_dense_out_4_acc: 0.9286 - val_dense_out_5_acc: 0.9310 - val_dense_out_6_acc: 0.8810\n",
      "Epoch 98/100\n",
      "3495/3495 [==============================] - 25s 7ms/step - loss: 0.1174 - dense_out_1_loss: 0.0234 - dense_out_2_loss: 0.0183 - dense_out_3_loss: 0.0165 - dense_out_4_loss: 0.0102 - dense_out_5_loss: 0.0256 - dense_out_6_loss: 0.0234 - dense_out_1_acc: 0.9943 - dense_out_2_acc: 0.9943 - dense_out_3_acc: 0.9957 - dense_out_4_acc: 0.9969 - dense_out_5_acc: 0.9926 - dense_out_6_acc: 0.9934 - val_loss: 2.9961 - val_dense_out_1_loss: 0.5190 - val_dense_out_2_loss: 0.4256 - val_dense_out_3_loss: 0.5307 - val_dense_out_4_loss: 0.4560 - val_dense_out_5_loss: 0.3767 - val_dense_out_6_loss: 0.6880 - val_dense_out_1_acc: 0.8929 - val_dense_out_2_acc: 0.9167 - val_dense_out_3_acc: 0.8881 - val_dense_out_4_acc: 0.9286 - val_dense_out_5_acc: 0.9357 - val_dense_out_6_acc: 0.8810\n",
      "Epoch 99/100\n",
      "3495/3495 [==============================] - 25s 7ms/step - loss: 0.1143 - dense_out_1_loss: 0.0240 - dense_out_2_loss: 0.0205 - dense_out_3_loss: 0.0177 - dense_out_4_loss: 0.0120 - dense_out_5_loss: 0.0202 - dense_out_6_loss: 0.0200 - dense_out_1_acc: 0.9923 - dense_out_2_acc: 0.9934 - dense_out_3_acc: 0.9948 - dense_out_4_acc: 0.9957 - dense_out_5_acc: 0.9923 - dense_out_6_acc: 0.9926 - val_loss: 2.9934 - val_dense_out_1_loss: 0.4885 - val_dense_out_2_loss: 0.4409 - val_dense_out_3_loss: 0.5356 - val_dense_out_4_loss: 0.4632 - val_dense_out_5_loss: 0.3688 - val_dense_out_6_loss: 0.6963 - val_dense_out_1_acc: 0.8952 - val_dense_out_2_acc: 0.9048 - val_dense_out_3_acc: 0.9024 - val_dense_out_4_acc: 0.9286 - val_dense_out_5_acc: 0.9310 - val_dense_out_6_acc: 0.8881\n",
      "Epoch 100/100\n",
      "3495/3495 [==============================] - 25s 7ms/step - loss: 0.1182 - dense_out_1_loss: 0.0268 - dense_out_2_loss: 0.0212 - dense_out_3_loss: 0.0163 - dense_out_4_loss: 0.0192 - dense_out_5_loss: 0.0132 - dense_out_6_loss: 0.0215 - dense_out_1_acc: 0.9940 - dense_out_2_acc: 0.9946 - dense_out_3_acc: 0.9957 - dense_out_4_acc: 0.9940 - dense_out_5_acc: 0.9957 - dense_out_6_acc: 0.9931 - val_loss: 3.0968 - val_dense_out_1_loss: 0.5533 - val_dense_out_2_loss: 0.4207 - val_dense_out_3_loss: 0.5669 - val_dense_out_4_loss: 0.4628 - val_dense_out_5_loss: 0.3888 - val_dense_out_6_loss: 0.7043 - val_dense_out_1_acc: 0.8952 - val_dense_out_2_acc: 0.9071 - val_dense_out_3_acc: 0.9000 - val_dense_out_4_acc: 0.9357 - val_dense_out_5_acc: 0.9286 - val_dense_out_6_acc: 0.8905\n"
     ]
    }
   ],
   "source": [
    "model.compile(loss=keras.losses.categorical_crossentropy,\n",
    "                  optimizer='adam',\n",
    "                  metrics=['accuracy'])\n",
    "t = int(time.time())\n",
    "\n",
    "# checkpoint\n",
    "chk_path = os.path.join(model_dir, 'best_{}_{}'.format(NAME,t))\n",
    "checkpoint = ModelCheckpoint(chk_path, monitor='val_acc', verbose=1, save_best_only=True, mode='max')\n",
    "tensorboard = TensorBoard(log_dir=\"logs/{}_{}\".format(NAME,t))\n",
    "callbacks_list = [checkpoint, tensorboard]\n",
    "\n",
    "history = model.fit(X_train, [y_train_0, y_train_1, y_train_2, y_train_3, y_train_4, y_train_5],\n",
    "            batch_size=batch_size,\n",
    "            epochs=epochs,\n",
    "            verbose=1,\n",
    "            shuffle=True,\n",
    "            validation_data=(X_test, [y_test_0, y_test_1, y_test_2, y_test_3, y_test_4, y_test_5]),\n",
    "            callbacks=callbacks_list)\n",
    "\n",
    "#Saving the model\n",
    "model.save(os.path.join(model_dir, 'final_{}_{}'.format(NAME,t)))"
   ]
  },
  {
   "cell_type": "code",
   "execution_count": null,
   "metadata": {},
   "outputs": [],
   "source": []
  },
  {
   "cell_type": "code",
   "execution_count": null,
   "metadata": {},
   "outputs": [],
   "source": []
  },
  {
   "cell_type": "code",
   "execution_count": null,
   "metadata": {},
   "outputs": [],
   "source": []
  },
  {
   "cell_type": "code",
   "execution_count": null,
   "metadata": {},
   "outputs": [],
   "source": []
  },
  {
   "cell_type": "code",
   "execution_count": null,
   "metadata": {},
   "outputs": [],
   "source": []
  },
  {
   "cell_type": "code",
   "execution_count": null,
   "metadata": {},
   "outputs": [],
   "source": []
  },
  {
   "cell_type": "code",
   "execution_count": null,
   "metadata": {},
   "outputs": [],
   "source": []
  },
  {
   "cell_type": "code",
   "execution_count": null,
   "metadata": {},
   "outputs": [],
   "source": []
  },
  {
   "cell_type": "code",
   "execution_count": null,
   "metadata": {},
   "outputs": [],
   "source": []
  },
  {
   "cell_type": "code",
   "execution_count": null,
   "metadata": {},
   "outputs": [],
   "source": []
  },
  {
   "cell_type": "code",
   "execution_count": null,
   "metadata": {},
   "outputs": [],
   "source": []
  },
  {
   "cell_type": "code",
   "execution_count": null,
   "metadata": {},
   "outputs": [],
   "source": []
  },
  {
   "cell_type": "code",
   "execution_count": null,
   "metadata": {},
   "outputs": [],
   "source": []
  },
  {
   "cell_type": "code",
   "execution_count": null,
   "metadata": {},
   "outputs": [],
   "source": []
  }
 ],
 "metadata": {
  "kernelspec": {
   "display_name": "Python 3",
   "language": "python",
   "name": "python3"
  },
  "language_info": {
   "codemirror_mode": {
    "name": "ipython",
    "version": 3
   },
   "file_extension": ".py",
   "mimetype": "text/x-python",
   "name": "python",
   "nbconvert_exporter": "python",
   "pygments_lexer": "ipython3",
   "version": "3.5.5"
  }
 },
 "nbformat": 4,
 "nbformat_minor": 2
}
