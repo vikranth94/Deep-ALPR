{
 "cells": [
  {
   "cell_type": "code",
   "execution_count": 1,
   "metadata": {},
   "outputs": [
    {
     "name": "stderr",
     "output_type": "stream",
     "text": [
      "Using TensorFlow backend.\n"
     ]
    }
   ],
   "source": [
    "import numpy as np\n",
    "import os\n",
    "from  natsort import natsorted\n",
    "import imageio\n",
    "import re\n",
    "import time\n",
    "import keras\n",
    "from keras.models import Sequential\n",
    "from keras.preprocessing.image import ImageDataGenerator\n",
    "from keras.layers import Dense, Activation, Flatten, Dropout, BatchNormalization, Input, GRU, Reshape\n",
    "from keras.layers import Conv2D, MaxPooling2D, Bidirectional, Permute, LSTM\n",
    "from keras.callbacks import ModelCheckpoint, TensorBoard\n",
    "from keras.layers.merge import add, concatenate\n",
    "from keras import backend as K\n",
    "from keras.models import load_model, Model\n",
    "from sklearn.metrics import confusion_matrix\n",
    "from sklearn.metrics import f1_score, accuracy_score\n",
    "import matplotlib.pyplot as plt\n",
    "import itertools"
   ]
  },
  {
   "cell_type": "code",
   "execution_count": 2,
   "metadata": {},
   "outputs": [],
   "source": [
    "NAME = 'ALPR_CNN'\n",
    "data_dir = 'Data'\n",
    "data_dir_2 = 'Data/dataset_1'\n",
    "model_dir = 'Models'"
   ]
  },
  {
   "cell_type": "code",
   "execution_count": 3,
   "metadata": {},
   "outputs": [],
   "source": [
    "def prepare_dataset(data_dir, folder_name):\n",
    "    try:\n",
    "        print('Loading numpy')\n",
    "        X = np.load(os.path.join(data_dir,'X_{}.npy'.format(folder_name)))\n",
    "        y = np.load(os.path.join(data_dir,'y_{}.npy'.format(folder_name)))\n",
    "\n",
    "    except:\n",
    "        print('Loading images')\n",
    "        image_list = []\n",
    "        labels = []\n",
    "        pictures_dir = os.path.join(data_dir, folder_name)\n",
    "        names = [ d for d in os.listdir( pictures_dir ) if d.endswith( '.jpg') ]\n",
    "        names = natsorted(names)\n",
    "        for image in names:\n",
    "            image_list.append(imageio.imread(os.path.join(pictures_dir, image)))\n",
    "            label = re.split('[._]', image)\n",
    "            labels.append(label[0][2:])\n",
    "            print(label[0][2:])\n",
    "        X = np.stack(image_list, axis=0)\n",
    "        y = np.array(labels)\n",
    "        np.save(os.path.join(data_dir,'X_{}'.format(folder_name)),X)\n",
    "        np.save(os.path.join(data_dir,'y_{}'.format(folder_name)),y)\n",
    "    return X,y\n",
    "\n",
    "\n",
    "def prepare_dataset_2(data_dir, folder_name):\n",
    "    try:\n",
    "        print('Loading numpy')\n",
    "        X = np.load(os.path.join(data_dir,'X_{}.npy'.format(folder_name)))\n",
    "        y = np.load(os.path.join(data_dir,'y_{}.npy'.format(folder_name)))\n",
    "\n",
    "    except:\n",
    "        print('Loading images')\n",
    "        image_list = []\n",
    "        labels = []\n",
    "        pictures_dir = os.path.join(data_dir, folder_name)\n",
    "        names = [ d for d in os.listdir( pictures_dir ) if d.endswith( '.jpg') ]\n",
    "        names = natsorted(names)\n",
    "        for image in names:\n",
    "            image_list.append(imageio.imread(os.path.join(pictures_dir, image)))\n",
    "            label = re.split('[._]', image)\n",
    "            labels.append(label[1])\n",
    "            print(label[1])\n",
    "        X = np.stack(image_list, axis=0)\n",
    "        y = np.array(labels)\n",
    "        np.save(os.path.join(data_dir,'X_{}'.format(folder_name)),X)\n",
    "        np.save(os.path.join(data_dir,'y_{}'.format(folder_name)),y)\n",
    "    return X,y"
   ]
  },
  {
   "cell_type": "code",
   "execution_count": 4,
   "metadata": {},
   "outputs": [
    {
     "name": "stdout",
     "output_type": "stream",
     "text": [
      "Loading numpy\n",
      "(3921, 100, 160, 3)\n",
      "(3921,)\n"
     ]
    }
   ],
   "source": [
    "X1,y1 = prepare_dataset(data_dir, 'resized')\n",
    "print(X1.shape)\n",
    "print(y1.shape)"
   ]
  },
  {
   "cell_type": "code",
   "execution_count": 5,
   "metadata": {},
   "outputs": [
    {
     "name": "stdout",
     "output_type": "stream",
     "text": [
      "Loading numpy\n",
      "(300, 100, 160, 3)\n",
      "(300,)\n"
     ]
    }
   ],
   "source": [
    "X2,y2 = prepare_dataset_2(data_dir_2, 'Resized')\n",
    "print(X2.shape)\n",
    "print(y2.shape)"
   ]
  },
  {
   "cell_type": "code",
   "execution_count": 6,
   "metadata": {},
   "outputs": [
    {
     "name": "stdout",
     "output_type": "stream",
     "text": [
      "(4221, 100, 160, 3)\n",
      "(4221,)\n"
     ]
    }
   ],
   "source": [
    "X = np.concatenate((X1,X2), axis=0)\n",
    "y = np.concatenate((y1,y2), axis=0)\n",
    "print(X.shape)\n",
    "print(y.shape)"
   ]
  },
  {
   "cell_type": "code",
   "execution_count": 7,
   "metadata": {},
   "outputs": [
    {
     "name": "stdout",
     "output_type": "stream",
     "text": [
      "Loading numpy\n",
      "(1749, 100, 160, 3)\n",
      "(1749,)\n"
     ]
    }
   ],
   "source": [
    "X_test,y_test = prepare_dataset_2(data_dir_2, 'Resized_test')\n",
    "print(X_test.shape)\n",
    "print(y_test.shape)"
   ]
  },
  {
   "cell_type": "code",
   "execution_count": 8,
   "metadata": {},
   "outputs": [],
   "source": [
    "np.random.seed(42)\n",
    "indices = np.arange(X.shape[0])\n",
    "np.random.shuffle(indices)\n",
    "\n",
    "X = X[indices]\n",
    "y = y[indices]"
   ]
  },
  {
   "cell_type": "code",
   "execution_count": 9,
   "metadata": {},
   "outputs": [],
   "source": [
    "z = 3800\n",
    "X_train = X[:z]\n",
    "X_val = X[z:]\n",
    "y_train = y[:z]\n",
    "y_val = y[z:]"
   ]
  },
  {
   "cell_type": "code",
   "execution_count": 10,
   "metadata": {},
   "outputs": [],
   "source": [
    "regex = r'^[A-Z0-9 ]+$'\n",
    "alphabet = u'ABCDEFGHIJKLMNOPQRSTUVWXYZ0123456789 '"
   ]
  },
  {
   "cell_type": "code",
   "execution_count": 11,
   "metadata": {},
   "outputs": [],
   "source": [
    "# Translation of characters to unique integer values\n",
    "def text_to_labels(text):\n",
    "    ret = []\n",
    "    for char in text:\n",
    "        ret.append(alphabet.find(char))\n",
    "    return ret\n",
    "\n",
    "\n",
    "# Reverse translation of numerical classes back to characters\n",
    "def labels_to_text(labels):\n",
    "    ret = []\n",
    "    for c in labels:\n",
    "        if c == len(alphabet):  # CTC Blank\n",
    "            ret.append(\"\")\n",
    "        else:\n",
    "            ret.append(alphabet[c])\n",
    "    return \"\".join(ret)\n",
    "\n",
    "\n",
    "# only a-z and space..probably not to difficult\n",
    "# to expand to uppercase and symbols\n",
    "\n",
    "def is_valid_str(in_str):\n",
    "    search = re.compile(regex, re.UNICODE).search\n",
    "    return bool(search(in_str))"
   ]
  },
  {
   "cell_type": "code",
   "execution_count": 28,
   "metadata": {},
   "outputs": [],
   "source": [
    "#Removing 7 label plates\n",
    "mylen = np.vectorize(len)\n",
    "\n",
    "count = mylen(y_train)\n",
    "X_train = np.delete(X_train, np.where(count>6)[0], axis=0 )\n",
    "y_train = np.delete(y_train, np.where(count>6)[0], axis=0 )\n",
    "\n",
    "count = mylen(y_val)\n",
    "X_val = np.delete(X_val, np.where(count>6)[0], axis=0 )\n",
    "y_val = np.delete(y_val, np.where(count>6)[0], axis=0 )\n",
    "\n",
    "count = mylen(y_test)\n",
    "X_test = np.delete(X_test, np.where(count!=6)[0], axis=0 )\n",
    "y_test = np.delete(y_test, np.where(count!=6)[0], axis=0 )"
   ]
  },
  {
   "cell_type": "code",
   "execution_count": 13,
   "metadata": {},
   "outputs": [
    {
     "name": "stdout",
     "output_type": "stream",
     "text": [
      "(3796, 100, 160, 3)\n",
      "(3796,)\n",
      "(419, 100, 160, 3)\n",
      "(419,)\n",
      "(1748, 100, 160, 3)\n",
      "(1748,)\n"
     ]
    }
   ],
   "source": [
    "print(X_train.shape)\n",
    "print(y_train.shape)\n",
    "print(X_val.shape)\n",
    "print(y_val.shape)\n",
    "print(X_test.shape)\n",
    "print(y_test.shape)"
   ]
  },
  {
   "cell_type": "code",
   "execution_count": 14,
   "metadata": {},
   "outputs": [],
   "source": [
    "def code_labels(labels):\n",
    "    y_coded = []\n",
    "    for l in labels:\n",
    "        y_coded.append(text_to_labels(l))\n",
    "    return np.array(y_coded)"
   ]
  },
  {
   "cell_type": "code",
   "execution_count": 29,
   "metadata": {},
   "outputs": [
    {
     "name": "stdout",
     "output_type": "stream",
     "text": [
      "(3796, 6)\n",
      "(419, 6)\n",
      "(1740, 6)\n"
     ]
    }
   ],
   "source": [
    "y_train_coded = code_labels(y_train)\n",
    "y_val_coded = code_labels(y_val)\n",
    "y_test_coded = code_labels(y_test)\n",
    "print(y_train_coded.shape)\n",
    "print(y_val_coded.shape)\n",
    "print(y_test_coded.shape)"
   ]
  },
  {
   "cell_type": "code",
   "execution_count": 31,
   "metadata": {},
   "outputs": [],
   "source": [
    "num_classes = 36\n",
    "#Labels to binary\n",
    "y_train_0 = keras.utils.to_categorical(y_train_coded[:,0],num_classes)\n",
    "y_train_1 = keras.utils.to_categorical(y_train_coded[:,1],num_classes)\n",
    "y_train_2 = keras.utils.to_categorical(y_train_coded[:,2],num_classes)\n",
    "y_train_3 = keras.utils.to_categorical(y_train_coded[:,3],num_classes)\n",
    "y_train_4 = keras.utils.to_categorical(y_train_coded[:,4],num_classes)\n",
    "y_train_5 = keras.utils.to_categorical(y_train_coded[:,5],num_classes)\n",
    "\n",
    "y_val_0 = keras.utils.to_categorical(y_val_coded[:,0],num_classes)\n",
    "y_val_1 = keras.utils.to_categorical(y_val_coded[:,1],num_classes)\n",
    "y_val_2 = keras.utils.to_categorical(y_val_coded[:,2],num_classes)\n",
    "y_val_3 = keras.utils.to_categorical(y_val_coded[:,3],num_classes)\n",
    "y_val_4 = keras.utils.to_categorical(y_val_coded[:,4],num_classes)\n",
    "y_val_5 = keras.utils.to_categorical(y_val_coded[:,5],num_classes)\n",
    "\n",
    "y_test_0 = keras.utils.to_categorical(y_test_coded[:,0],num_classes)\n",
    "y_test_1 = keras.utils.to_categorical(y_test_coded[:,1],num_classes)\n",
    "y_test_2 = keras.utils.to_categorical(y_test_coded[:,2],num_classes)\n",
    "y_test_3 = keras.utils.to_categorical(y_test_coded[:,3],num_classes)\n",
    "y_test_4 = keras.utils.to_categorical(y_test_coded[:,4],num_classes)\n",
    "y_test_5 = keras.utils.to_categorical(y_test_coded[:,5],num_classes)\n"
   ]
  },
  {
   "cell_type": "code",
   "execution_count": 30,
   "metadata": {},
   "outputs": [
    {
     "data": {
      "text/plain": [
       "Counter({3: 1, 4: 5, 5: 2, 6: 1740})"
      ]
     },
     "execution_count": 30,
     "metadata": {},
     "output_type": "execute_result"
    }
   ],
   "source": [
    "from collections import Counter\n",
    "Counter(count)"
   ]
  },
  {
   "cell_type": "markdown",
   "metadata": {},
   "source": [
    "## Keras Model"
   ]
  },
  {
   "cell_type": "code",
   "execution_count": 29,
   "metadata": {},
   "outputs": [],
   "source": [
    "img_w = 100\n",
    "# Input Parameters\n",
    "img_h = 160\n",
    "# Network parameters\n",
    "conv_filters = 64\n",
    "kernel_size = (3, 3)\n",
    "pool_size = 2\n",
    "time_dense_size = 32\n",
    "rnn_size = 64\n",
    "minibatch_size = 128\n",
    "unique_tokens = 37\n",
    "\n",
    "if K.image_data_format() == 'channels_first':\n",
    "    input_shape = (3, img_w, img_h)\n",
    "else:\n",
    "    input_shape = (img_w, img_h, 3)\n"
   ]
  },
  {
   "cell_type": "raw",
   "metadata": {},
   "source": [
    "act = 'relu'\n",
    "input_data = Input(name='the_input', shape=input_shape, dtype='float32')\n",
    "inner = Conv2D(conv_filters, kernel_size, padding='same',\n",
    "               activation=act, kernel_initializer='he_normal',\n",
    "               name='conv1')(input_data)\n",
    "inner = MaxPooling2D(pool_size=(pool_size, pool_size), name='max1')(inner)\n",
    "inner = Conv2D(conv_filters, kernel_size, padding='same',\n",
    "               activation=act, kernel_initializer='he_normal',\n",
    "               name='conv2')(inner)\n",
    "inner = MaxPooling2D(pool_size=(pool_size, pool_size), name='max2')(inner)\n",
    "\n",
    "conv_to_rnn_dims = (img_w // (pool_size ** 2), (img_h // (pool_size ** 2)) * conv_filters)\n",
    "inner = Reshape(target_shape=conv_to_rnn_dims, name='reshape')(inner)\n",
    "\n",
    "# cuts down input size going into RNN:\n",
    "inner = Dense(time_dense_size, activation=act, name='dense1')(inner)\n",
    "\n",
    "# Two layers of bidirectional GRUs\n",
    "# GRU seems to work as well, if not better than LSTM:\n",
    "gru_1 = GRU(rnn_size, return_sequences=True, kernel_initializer='he_normal', name='gru1')(inner)\n",
    "gru_1b = GRU(rnn_size, return_sequences=True, go_backwards=True, kernel_initializer='he_normal', name='gru1_b')(inner)\n",
    "gru1_merged = add([gru_1, gru_1b])\n",
    "gru_2 = GRU(rnn_size, return_sequences=True, kernel_initializer='he_normal', name='gru2')(gru1_merged)\n",
    "gru_2b = GRU(rnn_size, return_sequences=True, go_backwards=True, kernel_initializer='he_normal', name='gru2_b')(gru1_merged)\n",
    "\n",
    "# transforms RNN output to character activations:\n",
    "inner = Dense(unique_tokens, kernel_initializer='he_normal',\n",
    "              name='dense2')(concatenate([gru_2, gru_2b]))\n",
    "y_pred = Activation('softmax', name='softmax')(inner)\n",
    "Model(inputs=input_data, outputs=y_pred).summary()"
   ]
  },
  {
   "cell_type": "code",
   "execution_count": null,
   "metadata": {},
   "outputs": [],
   "source": []
  },
  {
   "cell_type": "code",
   "execution_count": null,
   "metadata": {},
   "outputs": [],
   "source": []
  },
  {
   "cell_type": "code",
   "execution_count": null,
   "metadata": {},
   "outputs": [],
   "source": []
  },
  {
   "cell_type": "code",
   "execution_count": 32,
   "metadata": {},
   "outputs": [],
   "source": [
    "num_feat_map = 64\n",
    "p = 0.3"
   ]
  },
  {
   "cell_type": "code",
   "execution_count": 33,
   "metadata": {
    "scrolled": true
   },
   "outputs": [
    {
     "name": "stdout",
     "output_type": "stream",
     "text": [
      "__________________________________________________________________________________________________\n",
      "Layer (type)                    Output Shape         Param #     Connected to                     \n",
      "==================================================================================================\n",
      "the_input (InputLayer)          (None, 100, 160, 3)  0                                            \n",
      "__________________________________________________________________________________________________\n",
      "Conv_1 (Conv2D)                 (None, 100, 160, 32) 896         the_input[0][0]                  \n",
      "__________________________________________________________________________________________________\n",
      "Max_pool_1 (MaxPooling2D)       (None, 50, 80, 32)   0           Conv_1[0][0]                     \n",
      "__________________________________________________________________________________________________\n",
      "Bn_1 (BatchNormalization)       (None, 50, 80, 32)   128         Max_pool_1[0][0]                 \n",
      "__________________________________________________________________________________________________\n",
      "Drop_1 (Dropout)                (None, 50, 80, 32)   0           Bn_1[0][0]                       \n",
      "__________________________________________________________________________________________________\n",
      "Conv_2 (Conv2D)                 (None, 50, 80, 64)   18496       Drop_1[0][0]                     \n",
      "__________________________________________________________________________________________________\n",
      "Bn_2 (BatchNormalization)       (None, 50, 80, 64)   256         Conv_2[0][0]                     \n",
      "__________________________________________________________________________________________________\n",
      "Drop_2 (Dropout)                (None, 50, 80, 64)   0           Bn_2[0][0]                       \n",
      "__________________________________________________________________________________________________\n",
      "Conv_3 (Conv2D)                 (None, 50, 80, 128)  73856       Drop_2[0][0]                     \n",
      "__________________________________________________________________________________________________\n",
      "Max_pool_3 (MaxPooling2D)       (None, 25, 40, 128)  0           Conv_3[0][0]                     \n",
      "__________________________________________________________________________________________________\n",
      "Bn_3 (BatchNormalization)       (None, 25, 40, 128)  512         Max_pool_3[0][0]                 \n",
      "__________________________________________________________________________________________________\n",
      "Drop_3 (Dropout)                (None, 25, 40, 128)  0           Bn_3[0][0]                       \n",
      "__________________________________________________________________________________________________\n",
      "Conv_4 (Conv2D)                 (None, 25, 40, 128)  147584      Drop_3[0][0]                     \n",
      "__________________________________________________________________________________________________\n",
      "Bn_4 (BatchNormalization)       (None, 25, 40, 128)  512         Conv_4[0][0]                     \n",
      "__________________________________________________________________________________________________\n",
      "Drop_4 (Dropout)                (None, 25, 40, 128)  0           Bn_4[0][0]                       \n",
      "__________________________________________________________________________________________________\n",
      "Conv_5 (Conv2D)                 (None, 25, 40, 64)   73792       Drop_4[0][0]                     \n",
      "__________________________________________________________________________________________________\n",
      "Max_pool_5 (MaxPooling2D)       (None, 12, 20, 64)   0           Conv_5[0][0]                     \n",
      "__________________________________________________________________________________________________\n",
      "Bn_5 (BatchNormalization)       (None, 12, 20, 64)   256         Max_pool_5[0][0]                 \n",
      "__________________________________________________________________________________________________\n",
      "Drop_5 (Dropout)                (None, 12, 20, 64)   0           Bn_5[0][0]                       \n",
      "__________________________________________________________________________________________________\n",
      "Conv_6 (Conv2D)                 (None, 12, 20, 32)   18464       Drop_5[0][0]                     \n",
      "__________________________________________________________________________________________________\n",
      "Bn_6 (BatchNormalization)       (None, 12, 20, 32)   128         Conv_6[0][0]                     \n",
      "__________________________________________________________________________________________________\n",
      "Drop_6 (Dropout)                (None, 12, 20, 32)   0           Bn_6[0][0]                       \n",
      "__________________________________________________________________________________________________\n",
      "Conv_7 (Conv2D)                 (None, 12, 20, 16)   4624        Drop_6[0][0]                     \n",
      "__________________________________________________________________________________________________\n",
      "Bn_7 (BatchNormalization)       (None, 12, 20, 16)   64          Conv_7[0][0]                     \n",
      "__________________________________________________________________________________________________\n",
      "Drop_7 (Dropout)                (None, 12, 20, 16)   0           Bn_7[0][0]                       \n",
      "__________________________________________________________________________________________________\n",
      "flatten_1 (Flatten)             (None, 3840)         0           Drop_7[0][0]                     \n",
      "__________________________________________________________________________________________________\n",
      "dense_1 (Dense)                 (None, 128)          491648      flatten_1[0][0]                  \n",
      "__________________________________________________________________________________________________\n",
      "Bn_8 (BatchNormalization)       (None, 128)          512         dense_1[0][0]                    \n",
      "__________________________________________________________________________________________________\n",
      "Drop_8 (Dropout)                (None, 128)          0           Bn_8[0][0]                       \n",
      "__________________________________________________________________________________________________\n",
      "dense_out_1 (Dense)             (None, 36)           4644        Drop_8[0][0]                     \n",
      "__________________________________________________________________________________________________\n",
      "dense_out_2 (Dense)             (None, 36)           4644        Drop_8[0][0]                     \n",
      "__________________________________________________________________________________________________\n",
      "dense_out_3 (Dense)             (None, 36)           4644        Drop_8[0][0]                     \n",
      "__________________________________________________________________________________________________\n",
      "dense_out_4 (Dense)             (None, 36)           4644        Drop_8[0][0]                     \n",
      "__________________________________________________________________________________________________\n",
      "dense_out_5 (Dense)             (None, 36)           4644        Drop_8[0][0]                     \n",
      "__________________________________________________________________________________________________\n",
      "dense_out_6 (Dense)             (None, 36)           4644        Drop_8[0][0]                     \n",
      "==================================================================================================\n",
      "Total params: 859,592\n",
      "Trainable params: 858,408\n",
      "Non-trainable params: 1,184\n",
      "__________________________________________________________________________________________________\n"
     ]
    }
   ],
   "source": [
    "input_data = Input(name='the_input', shape=input_shape, dtype='float32')\n",
    "x = Conv2D(32, kernel_size=(3, 3),\n",
    "               activation='relu',\n",
    "               input_shape=input_shape,\n",
    "               padding='same', name='Conv_1')(input_data)\n",
    "x = MaxPooling2D(pool_size=(2, 2), name='Max_pool_1')(x)\n",
    "x = BatchNormalization(name='Bn_1')(x)\n",
    "x = Dropout(p, name='Drop_1')(x)\n",
    "x = Conv2D(64, kernel_size=(3, 3), activation='relu', padding='same', name='Conv_2')(x)\n",
    "#x = MaxPooling2D(pool_size=(2, 2), name='Max_pool_2')(x)\n",
    "x = BatchNormalization(name='Bn_2')(x)\n",
    "x = Dropout(p, name='Drop_2')(x)\n",
    "x = Conv2D(128, kernel_size=(3, 3), activation='relu', padding='same', name='Conv_3')(x)\n",
    "x = MaxPooling2D(pool_size=(2, 2), name='Max_pool_3')(x)\n",
    "x = BatchNormalization(name='Bn_3')(x)\n",
    "x = Dropout(p, name='Drop_3')(x)\n",
    "x = Conv2D(128, kernel_size=(3, 3), activation='relu', padding='same', name='Conv_4')(x)\n",
    "#x = MaxPooling2D(pool_size=(2, 2), name='Max_pool_4')(x)\n",
    "x = BatchNormalization(name='Bn_4')(x)\n",
    "x = Dropout(p, name='Drop_4')(x)\n",
    "x = Conv2D(64, kernel_size=(3, 3), activation='relu', padding='same', name='Conv_5')(x)\n",
    "x = MaxPooling2D(pool_size=(2, 2), name='Max_pool_5')(x)\n",
    "x = BatchNormalization(name='Bn_5')(x)\n",
    "x = Dropout(p, name='Drop_5')(x)\n",
    "x = Conv2D(32, kernel_size=(3, 3), activation='relu', padding='same', name='Conv_6')(x)\n",
    "#x = MaxPooling2D(pool_size=(2, 2), name='Max_pool_6')(x)\n",
    "x = BatchNormalization(name='Bn_6')(x)\n",
    "x = Dropout(p, name='Drop_6')(x)\n",
    "x = Conv2D(16, kernel_size=(3, 3), activation='relu', padding='same', name='Conv_7')(x)\n",
    "#x = MaxPooling2D(pool_size=(2, 2), name='Max_pool_7')(x)\n",
    "x = BatchNormalization(name='Bn_7')(x)\n",
    "x = Dropout(p, name='Drop_7')(x)\n",
    "# model.add(Conv2D(num_feat_map, kernel_size=(3, 3), activation='relu', padding='same', name='Conv_3'))\n",
    "# model.add(BatchNormalization(name='Bn_3'))\n",
    "# model.add(MaxPooling2D(pool_size=(2, 2), name='Max_pool_3'))\n",
    "# model.add(Dropout(p, name='Drop_3'))\n",
    "# x = Permute((2, 1, 3), name='Permute_1')(x)  # for swap-dimension\n",
    "# x = Reshape((-1, num_feat_map * (img_w // (pool_size ** 2))), name='Reshape_1')(x)\n",
    "# x = Dense(time_dense_size, activation='relu', name='dense1')(x)\n",
    "# x = Bidirectional(LSTM(32, return_sequences=True, stateful=False, name='Lstm_1'))(x)\n",
    "# x = BatchNormalization(name='Bn_4')(x)\n",
    "# x = Bidirectional(LSTM(32, return_sequences=True, stateful=False, name='Lstm_1'))(x)\n",
    "# x = BatchNormalization(name='Bn_5')(x)\n",
    "# x = Dropout(p, name='Drop_4')(x)\n",
    "#x = Dense(128, activation='relu', name='dense_2')(x)\n",
    "x = Flatten()(x)\n",
    "x = Dense(128, activation='relu', name='dense_1')(x)\n",
    "x = BatchNormalization(name='Bn_8')(x)\n",
    "x = Dropout(p, name='Drop_8')(x)\n",
    "\n",
    "#output\n",
    "d1 = Dense(num_classes, activation='softmax', name='dense_out_1')(x)\n",
    "d2 = Dense(num_classes, activation='softmax', name='dense_out_2' )(x)\n",
    "d3 = Dense(num_classes, activation='softmax', name='dense_out_3')(x)\n",
    "d4 = Dense(num_classes, activation='softmax', name='dense_out_4')(x)\n",
    "d5 = Dense(num_classes, activation='softmax', name='dense_out_5')(x)\n",
    "d6 = Dense(num_classes, activation='softmax', name='dense_out_6')(x)\n",
    "model = Model(input_data, [d1,d2,d3,d4,d5,d6])\n",
    "\n",
    "\n",
    "model.summary()"
   ]
  },
  {
   "cell_type": "code",
   "execution_count": 34,
   "metadata": {},
   "outputs": [],
   "source": [
    "if not os.path.exists(model_dir):\n",
    "    os.makedirs(model_dir)\n",
    "\n",
    "batch_size = 50\n",
    "epochs = 100\n"
   ]
  },
  {
   "cell_type": "code",
   "execution_count": 36,
   "metadata": {},
   "outputs": [
    {
     "name": "stdout",
     "output_type": "stream",
     "text": [
      "Train on 3796 samples, validate on 419 samples\n",
      "Epoch 1/100\n",
      "3796/3796 [==============================] - 20s 5ms/step - loss: 19.4001 - dense_out_1_loss: 3.4323 - dense_out_2_loss: 3.4264 - dense_out_3_loss: 3.2138 - dense_out_4_loss: 2.9641 - dense_out_5_loss: 3.1304 - dense_out_6_loss: 3.2331 - dense_out_1_acc: 0.1955 - dense_out_2_acc: 0.1891 - dense_out_3_acc: 0.2366 - dense_out_4_acc: 0.2924 - dense_out_5_acc: 0.2677 - dense_out_6_acc: 0.2479 - val_loss: 22.9489 - val_dense_out_1_loss: 3.8299 - val_dense_out_2_loss: 4.0741 - val_dense_out_3_loss: 3.6449 - val_dense_out_4_loss: 3.8155 - val_dense_out_5_loss: 3.3229 - val_dense_out_6_loss: 4.2616 - val_dense_out_1_acc: 0.2625 - val_dense_out_2_acc: 0.2029 - val_dense_out_3_acc: 0.3246 - val_dense_out_4_acc: 0.3866 - val_dense_out_5_acc: 0.3628 - val_dense_out_6_acc: 0.3150\n",
      "Epoch 2/100\n"
     ]
    },
    {
     "name": "stderr",
     "output_type": "stream",
     "text": [
      "c:\\programdata\\anaconda3\\envs\\tensorflow\\lib\\site-packages\\keras\\callbacks.py:432: RuntimeWarning: Can save best model only with val_acc available, skipping.\n",
      "  'skipping.' % (self.monitor), RuntimeWarning)\n"
     ]
    },
    {
     "name": "stdout",
     "output_type": "stream",
     "text": [
      "3796/3796 [==============================] - 12s 3ms/step - loss: 12.7273 - dense_out_1_loss: 2.4788 - dense_out_2_loss: 2.5656 - dense_out_3_loss: 2.0915 - dense_out_4_loss: 1.6339 - dense_out_5_loss: 1.8408 - dense_out_6_loss: 2.1167 - dense_out_1_acc: 0.3854 - dense_out_2_acc: 0.3514 - dense_out_3_acc: 0.4747 - dense_out_4_acc: 0.5558 - dense_out_5_acc: 0.5337 - dense_out_6_acc: 0.4615 - val_loss: 10.9314 - val_dense_out_1_loss: 2.0356 - val_dense_out_2_loss: 2.1550 - val_dense_out_3_loss: 1.7859 - val_dense_out_4_loss: 1.5619 - val_dense_out_5_loss: 1.5531 - val_dense_out_6_loss: 1.8399 - val_dense_out_1_acc: 0.4940 - val_dense_out_2_acc: 0.4415 - val_dense_out_3_acc: 0.5609 - val_dense_out_4_acc: 0.6205 - val_dense_out_5_acc: 0.5943 - val_dense_out_6_acc: 0.5346\n",
      "Epoch 3/100\n",
      "3796/3796 [==============================] - 12s 3ms/step - loss: 9.6371 - dense_out_1_loss: 1.8551 - dense_out_2_loss: 2.0148 - dense_out_3_loss: 1.6269 - dense_out_4_loss: 1.1821 - dense_out_5_loss: 1.3756 - dense_out_6_loss: 1.5826 - dense_out_1_acc: 0.5163 - dense_out_2_acc: 0.4768 - dense_out_3_acc: 0.5782 - dense_out_4_acc: 0.6834 - dense_out_5_acc: 0.6420 - dense_out_6_acc: 0.5975 - val_loss: 8.0252 - val_dense_out_1_loss: 1.5570 - val_dense_out_2_loss: 1.6843 - val_dense_out_3_loss: 1.3653 - val_dense_out_4_loss: 1.0270 - val_dense_out_5_loss: 1.0708 - val_dense_out_6_loss: 1.3208 - val_dense_out_1_acc: 0.5776 - val_dense_out_2_acc: 0.5609 - val_dense_out_3_acc: 0.6348 - val_dense_out_4_acc: 0.7279 - val_dense_out_5_acc: 0.7375 - val_dense_out_6_acc: 0.6683\n",
      "Epoch 4/100\n",
      "3796/3796 [==============================] - 12s 3ms/step - loss: 7.8599 - dense_out_1_loss: 1.5035 - dense_out_2_loss: 1.6368 - dense_out_3_loss: 1.3251 - dense_out_4_loss: 0.9285 - dense_out_5_loss: 1.1438 - dense_out_6_loss: 1.3222 - dense_out_1_acc: 0.5954 - dense_out_2_acc: 0.5645 - dense_out_3_acc: 0.6438 - dense_out_4_acc: 0.7508 - dense_out_5_acc: 0.7010 - dense_out_6_acc: 0.6607 - val_loss: 6.6884 - val_dense_out_1_loss: 1.3395 - val_dense_out_2_loss: 1.4295 - val_dense_out_3_loss: 1.1502 - val_dense_out_4_loss: 0.8351 - val_dense_out_5_loss: 0.8857 - val_dense_out_6_loss: 1.0482 - val_dense_out_1_acc: 0.6396 - val_dense_out_2_acc: 0.6062 - val_dense_out_3_acc: 0.7041 - val_dense_out_4_acc: 0.7757 - val_dense_out_5_acc: 0.7852 - val_dense_out_6_acc: 0.7184\n",
      "Epoch 5/100\n",
      "3796/3796 [==============================] - 12s 3ms/step - loss: 6.5993 - dense_out_1_loss: 1.2706 - dense_out_2_loss: 1.3979 - dense_out_3_loss: 1.1204 - dense_out_4_loss: 0.7899 - dense_out_5_loss: 0.9358 - dense_out_6_loss: 1.0847 - dense_out_1_acc: 0.6589 - dense_out_2_acc: 0.6317 - dense_out_3_acc: 0.6986 - dense_out_4_acc: 0.7842 - dense_out_5_acc: 0.7511 - dense_out_6_acc: 0.7129 - val_loss: 5.7843 - val_dense_out_1_loss: 1.1753 - val_dense_out_2_loss: 1.2799 - val_dense_out_3_loss: 0.9829 - val_dense_out_4_loss: 0.6860 - val_dense_out_5_loss: 0.7414 - val_dense_out_6_loss: 0.9189 - val_dense_out_1_acc: 0.6945 - val_dense_out_2_acc: 0.6587 - val_dense_out_3_acc: 0.7518 - val_dense_out_4_acc: 0.8329 - val_dense_out_5_acc: 0.8115 - val_dense_out_6_acc: 0.7470\n",
      "Epoch 6/100\n",
      "3796/3796 [==============================] - 12s 3ms/step - loss: 5.7685 - dense_out_1_loss: 1.1128 - dense_out_2_loss: 1.2011 - dense_out_3_loss: 0.9766 - dense_out_4_loss: 0.6758 - dense_out_5_loss: 0.8290 - dense_out_6_loss: 0.9731 - dense_out_1_acc: 0.6952 - dense_out_2_acc: 0.6770 - dense_out_3_acc: 0.7329 - dense_out_4_acc: 0.8151 - dense_out_5_acc: 0.7792 - dense_out_6_acc: 0.7426 - val_loss: 4.9327 - val_dense_out_1_loss: 0.9897 - val_dense_out_2_loss: 1.0722 - val_dense_out_3_loss: 0.8252 - val_dense_out_4_loss: 0.5811 - val_dense_out_5_loss: 0.6710 - val_dense_out_6_loss: 0.7935 - val_dense_out_1_acc: 0.7446 - val_dense_out_2_acc: 0.7232 - val_dense_out_3_acc: 0.7852 - val_dense_out_4_acc: 0.8711 - val_dense_out_5_acc: 0.8138 - val_dense_out_6_acc: 0.7804\n",
      "Epoch 7/100\n",
      "3796/3796 [==============================] - 12s 3ms/step - loss: 4.9335 - dense_out_1_loss: 0.9528 - dense_out_2_loss: 1.0278 - dense_out_3_loss: 0.8327 - dense_out_4_loss: 0.5710 - dense_out_5_loss: 0.7085 - dense_out_6_loss: 0.8407 - dense_out_1_acc: 0.7418 - dense_out_2_acc: 0.7242 - dense_out_3_acc: 0.7682 - dense_out_4_acc: 0.8491 - dense_out_5_acc: 0.8135 - dense_out_6_acc: 0.7734 - val_loss: 4.6422 - val_dense_out_1_loss: 0.9051 - val_dense_out_2_loss: 1.0072 - val_dense_out_3_loss: 0.7538 - val_dense_out_4_loss: 0.5692 - val_dense_out_5_loss: 0.6447 - val_dense_out_6_loss: 0.7621 - val_dense_out_1_acc: 0.7566 - val_dense_out_2_acc: 0.7422 - val_dense_out_3_acc: 0.8043 - val_dense_out_4_acc: 0.8473 - val_dense_out_5_acc: 0.8377 - val_dense_out_6_acc: 0.7780\n",
      "Epoch 8/100\n",
      "3796/3796 [==============================] - 12s 3ms/step - loss: 4.4259 - dense_out_1_loss: 0.8677 - dense_out_2_loss: 0.9178 - dense_out_3_loss: 0.7185 - dense_out_4_loss: 0.5155 - dense_out_5_loss: 0.6418 - dense_out_6_loss: 0.7646 - dense_out_1_acc: 0.7547 - dense_out_2_acc: 0.7648 - dense_out_3_acc: 0.8048 - dense_out_4_acc: 0.8541 - dense_out_5_acc: 0.8311 - dense_out_6_acc: 0.7887 - val_loss: 4.0516 - val_dense_out_1_loss: 0.8204 - val_dense_out_2_loss: 0.8780 - val_dense_out_3_loss: 0.6546 - val_dense_out_4_loss: 0.4840 - val_dense_out_5_loss: 0.5461 - val_dense_out_6_loss: 0.6684 - val_dense_out_1_acc: 0.7804 - val_dense_out_2_acc: 0.7757 - val_dense_out_3_acc: 0.8138 - val_dense_out_4_acc: 0.8878 - val_dense_out_5_acc: 0.8568 - val_dense_out_6_acc: 0.8043\n",
      "Epoch 9/100\n",
      "3796/3796 [==============================] - 12s 3ms/step - loss: 3.8942 - dense_out_1_loss: 0.7639 - dense_out_2_loss: 0.8052 - dense_out_3_loss: 0.6436 - dense_out_4_loss: 0.4511 - dense_out_5_loss: 0.5615 - dense_out_6_loss: 0.6691 - dense_out_1_acc: 0.7850 - dense_out_2_acc: 0.7890 - dense_out_3_acc: 0.8238 - dense_out_4_acc: 0.8807 - dense_out_5_acc: 0.8467 - dense_out_6_acc: 0.8172 - val_loss: 3.8057 - val_dense_out_1_loss: 0.7814 - val_dense_out_2_loss: 0.8201 - val_dense_out_3_loss: 0.6067 - val_dense_out_4_loss: 0.4677 - val_dense_out_5_loss: 0.5110 - val_dense_out_6_loss: 0.6188 - val_dense_out_1_acc: 0.7876 - val_dense_out_2_acc: 0.7876 - val_dense_out_3_acc: 0.8401 - val_dense_out_4_acc: 0.8902 - val_dense_out_5_acc: 0.8711 - val_dense_out_6_acc: 0.8329\n",
      "Epoch 10/100\n",
      "3796/3796 [==============================] - 12s 3ms/step - loss: 3.4343 - dense_out_1_loss: 0.6851 - dense_out_2_loss: 0.7007 - dense_out_3_loss: 0.5562 - dense_out_4_loss: 0.3988 - dense_out_5_loss: 0.4946 - dense_out_6_loss: 0.5990 - dense_out_1_acc: 0.8082 - dense_out_2_acc: 0.8132 - dense_out_3_acc: 0.8530 - dense_out_4_acc: 0.8917 - dense_out_5_acc: 0.8656 - dense_out_6_acc: 0.8306 - val_loss: 3.3815 - val_dense_out_1_loss: 0.6774 - val_dense_out_2_loss: 0.7386 - val_dense_out_3_loss: 0.5219 - val_dense_out_4_loss: 0.4316 - val_dense_out_5_loss: 0.4584 - val_dense_out_6_loss: 0.5535 - val_dense_out_1_acc: 0.8210 - val_dense_out_2_acc: 0.8115 - val_dense_out_3_acc: 0.8616 - val_dense_out_4_acc: 0.8926 - val_dense_out_5_acc: 0.8783 - val_dense_out_6_acc: 0.8305\n",
      "Epoch 11/100\n",
      "3796/3796 [==============================] - 12s 3ms/step - loss: 3.1496 - dense_out_1_loss: 0.6502 - dense_out_2_loss: 0.6399 - dense_out_3_loss: 0.5174 - dense_out_4_loss: 0.3684 - dense_out_5_loss: 0.4359 - dense_out_6_loss: 0.5378 - dense_out_1_acc: 0.8195 - dense_out_2_acc: 0.8348 - dense_out_3_acc: 0.8527 - dense_out_4_acc: 0.9017 - dense_out_5_acc: 0.8767 - dense_out_6_acc: 0.8433 - val_loss: 3.2830 - val_dense_out_1_loss: 0.6532 - val_dense_out_2_loss: 0.7245 - val_dense_out_3_loss: 0.4982 - val_dense_out_4_loss: 0.4324 - val_dense_out_5_loss: 0.4260 - val_dense_out_6_loss: 0.5487 - val_dense_out_1_acc: 0.8138 - val_dense_out_2_acc: 0.8043 - val_dense_out_3_acc: 0.8711 - val_dense_out_4_acc: 0.8974 - val_dense_out_5_acc: 0.8854 - val_dense_out_6_acc: 0.8377\n",
      "Epoch 12/100\n"
     ]
    },
    {
     "name": "stdout",
     "output_type": "stream",
     "text": [
      "3796/3796 [==============================] - 12s 3ms/step - loss: 2.8521 - dense_out_1_loss: 0.5646 - dense_out_2_loss: 0.5824 - dense_out_3_loss: 0.4529 - dense_out_4_loss: 0.3278 - dense_out_5_loss: 0.4120 - dense_out_6_loss: 0.5124 - dense_out_1_acc: 0.8427 - dense_out_2_acc: 0.8401 - dense_out_3_acc: 0.8680 - dense_out_4_acc: 0.9086 - dense_out_5_acc: 0.8846 - dense_out_6_acc: 0.8546 - val_loss: 3.0498 - val_dense_out_1_loss: 0.6015 - val_dense_out_2_loss: 0.6728 - val_dense_out_3_loss: 0.4598 - val_dense_out_4_loss: 0.3769 - val_dense_out_5_loss: 0.4194 - val_dense_out_6_loss: 0.5195 - val_dense_out_1_acc: 0.8234 - val_dense_out_2_acc: 0.8043 - val_dense_out_3_acc: 0.8616 - val_dense_out_4_acc: 0.9117 - val_dense_out_5_acc: 0.8878 - val_dense_out_6_acc: 0.8568\n",
      "Epoch 13/100\n",
      "3796/3796 [==============================] - 12s 3ms/step - loss: 2.5537 - dense_out_1_loss: 0.5051 - dense_out_2_loss: 0.5259 - dense_out_3_loss: 0.4101 - dense_out_4_loss: 0.2787 - dense_out_5_loss: 0.3776 - dense_out_6_loss: 0.4564 - dense_out_1_acc: 0.8614 - dense_out_2_acc: 0.8559 - dense_out_3_acc: 0.8859 - dense_out_4_acc: 0.9231 - dense_out_5_acc: 0.8896 - dense_out_6_acc: 0.8722 - val_loss: 2.9171 - val_dense_out_1_loss: 0.5726 - val_dense_out_2_loss: 0.6250 - val_dense_out_3_loss: 0.4432 - val_dense_out_4_loss: 0.3721 - val_dense_out_5_loss: 0.4139 - val_dense_out_6_loss: 0.4902 - val_dense_out_1_acc: 0.8496 - val_dense_out_2_acc: 0.8258 - val_dense_out_3_acc: 0.8735 - val_dense_out_4_acc: 0.9212 - val_dense_out_5_acc: 0.8998 - val_dense_out_6_acc: 0.8544\n",
      "Epoch 14/100\n",
      "3796/3796 [==============================] - 12s 3ms/step - loss: 2.3616 - dense_out_1_loss: 0.4797 - dense_out_2_loss: 0.4890 - dense_out_3_loss: 0.3594 - dense_out_4_loss: 0.2825 - dense_out_5_loss: 0.3421 - dense_out_6_loss: 0.4090 - dense_out_1_acc: 0.8646 - dense_out_2_acc: 0.8654 - dense_out_3_acc: 0.8970 - dense_out_4_acc: 0.9191 - dense_out_5_acc: 0.9091 - dense_out_6_acc: 0.8801 - val_loss: 2.8279 - val_dense_out_1_loss: 0.5922 - val_dense_out_2_loss: 0.6132 - val_dense_out_3_loss: 0.4196 - val_dense_out_4_loss: 0.3557 - val_dense_out_5_loss: 0.3897 - val_dense_out_6_loss: 0.4575 - val_dense_out_1_acc: 0.8282 - val_dense_out_2_acc: 0.8353 - val_dense_out_3_acc: 0.8878 - val_dense_out_4_acc: 0.9236 - val_dense_out_5_acc: 0.8878 - val_dense_out_6_acc: 0.8663\n",
      "Epoch 15/100\n",
      "3796/3796 [==============================] - 12s 3ms/step - loss: 2.1539 - dense_out_1_loss: 0.4327 - dense_out_2_loss: 0.4427 - dense_out_3_loss: 0.3343 - dense_out_4_loss: 0.2636 - dense_out_5_loss: 0.2970 - dense_out_6_loss: 0.3837 - dense_out_1_acc: 0.8838 - dense_out_2_acc: 0.8804 - dense_out_3_acc: 0.9094 - dense_out_4_acc: 0.9226 - dense_out_5_acc: 0.9128 - dense_out_6_acc: 0.8917 - val_loss: 2.6795 - val_dense_out_1_loss: 0.5636 - val_dense_out_2_loss: 0.6086 - val_dense_out_3_loss: 0.3880 - val_dense_out_4_loss: 0.3377 - val_dense_out_5_loss: 0.3558 - val_dense_out_6_loss: 0.4259 - val_dense_out_1_acc: 0.8401 - val_dense_out_2_acc: 0.8234 - val_dense_out_3_acc: 0.9021 - val_dense_out_4_acc: 0.9212 - val_dense_out_5_acc: 0.9045 - val_dense_out_6_acc: 0.8783\n",
      "Epoch 16/100\n",
      "3796/3796 [==============================] - 12s 3ms/step - loss: 1.9985 - dense_out_1_loss: 0.4050 - dense_out_2_loss: 0.4182 - dense_out_3_loss: 0.3065 - dense_out_4_loss: 0.2325 - dense_out_5_loss: 0.2757 - dense_out_6_loss: 0.3606 - dense_out_1_acc: 0.8828 - dense_out_2_acc: 0.8872 - dense_out_3_acc: 0.9104 - dense_out_4_acc: 0.9334 - dense_out_5_acc: 0.9207 - dense_out_6_acc: 0.8957 - val_loss: 2.5047 - val_dense_out_1_loss: 0.5029 - val_dense_out_2_loss: 0.5699 - val_dense_out_3_loss: 0.3702 - val_dense_out_4_loss: 0.3252 - val_dense_out_5_loss: 0.3291 - val_dense_out_6_loss: 0.4075 - val_dense_out_1_acc: 0.8544 - val_dense_out_2_acc: 0.8329 - val_dense_out_3_acc: 0.9021 - val_dense_out_4_acc: 0.9403 - val_dense_out_5_acc: 0.9117 - val_dense_out_6_acc: 0.8807\n",
      "Epoch 17/100\n",
      "3796/3796 [==============================] - 12s 3ms/step - loss: 1.8862 - dense_out_1_loss: 0.3688 - dense_out_2_loss: 0.4050 - dense_out_3_loss: 0.2954 - dense_out_4_loss: 0.2150 - dense_out_5_loss: 0.2721 - dense_out_6_loss: 0.3299 - dense_out_1_acc: 0.8999 - dense_out_2_acc: 0.8854 - dense_out_3_acc: 0.9107 - dense_out_4_acc: 0.9378 - dense_out_5_acc: 0.9160 - dense_out_6_acc: 0.9031 - val_loss: 2.5166 - val_dense_out_1_loss: 0.5058 - val_dense_out_2_loss: 0.5657 - val_dense_out_3_loss: 0.3696 - val_dense_out_4_loss: 0.3383 - val_dense_out_5_loss: 0.3177 - val_dense_out_6_loss: 0.4194 - val_dense_out_1_acc: 0.8425 - val_dense_out_2_acc: 0.8282 - val_dense_out_3_acc: 0.9117 - val_dense_out_4_acc: 0.9379 - val_dense_out_5_acc: 0.9236 - val_dense_out_6_acc: 0.8735\n",
      "Epoch 18/100\n",
      "3796/3796 [==============================] - 12s 3ms/step - loss: 1.7928 - dense_out_1_loss: 0.3667 - dense_out_2_loss: 0.3774 - dense_out_3_loss: 0.2807 - dense_out_4_loss: 0.2099 - dense_out_5_loss: 0.2504 - dense_out_6_loss: 0.3077 - dense_out_1_acc: 0.8907 - dense_out_2_acc: 0.8875 - dense_out_3_acc: 0.9210 - dense_out_4_acc: 0.9407 - dense_out_5_acc: 0.9281 - dense_out_6_acc: 0.9094 - val_loss: 2.3200 - val_dense_out_1_loss: 0.4574 - val_dense_out_2_loss: 0.5032 - val_dense_out_3_loss: 0.3538 - val_dense_out_4_loss: 0.3243 - val_dense_out_5_loss: 0.2960 - val_dense_out_6_loss: 0.3853 - val_dense_out_1_acc: 0.8759 - val_dense_out_2_acc: 0.8687 - val_dense_out_3_acc: 0.9165 - val_dense_out_4_acc: 0.9379 - val_dense_out_5_acc: 0.9308 - val_dense_out_6_acc: 0.8878\n",
      "Epoch 19/100\n",
      "3796/3796 [==============================] - 12s 3ms/step - loss: 1.6348 - dense_out_1_loss: 0.3274 - dense_out_2_loss: 0.3252 - dense_out_3_loss: 0.2530 - dense_out_4_loss: 0.1992 - dense_out_5_loss: 0.2330 - dense_out_6_loss: 0.2970 - dense_out_1_acc: 0.9060 - dense_out_2_acc: 0.9120 - dense_out_3_acc: 0.9294 - dense_out_4_acc: 0.9426 - dense_out_5_acc: 0.9328 - dense_out_6_acc: 0.9154 - val_loss: 2.2933 - val_dense_out_1_loss: 0.4802 - val_dense_out_2_loss: 0.5245 - val_dense_out_3_loss: 0.3268 - val_dense_out_4_loss: 0.3218 - val_dense_out_5_loss: 0.2685 - val_dense_out_6_loss: 0.3715 - val_dense_out_1_acc: 0.8616 - val_dense_out_2_acc: 0.8401 - val_dense_out_3_acc: 0.9236 - val_dense_out_4_acc: 0.9356 - val_dense_out_5_acc: 0.9236 - val_dense_out_6_acc: 0.8974\n",
      "Epoch 20/100\n",
      "3796/3796 [==============================] - 12s 3ms/step - loss: 1.5621 - dense_out_1_loss: 0.3129 - dense_out_2_loss: 0.3187 - dense_out_3_loss: 0.2397 - dense_out_4_loss: 0.1946 - dense_out_5_loss: 0.2192 - dense_out_6_loss: 0.2770 - dense_out_1_acc: 0.9091 - dense_out_2_acc: 0.9086 - dense_out_3_acc: 0.9286 - dense_out_4_acc: 0.9413 - dense_out_5_acc: 0.9368 - dense_out_6_acc: 0.9175 - val_loss: 2.2884 - val_dense_out_1_loss: 0.4650 - val_dense_out_2_loss: 0.5043 - val_dense_out_3_loss: 0.3563 - val_dense_out_4_loss: 0.3094 - val_dense_out_5_loss: 0.2784 - val_dense_out_6_loss: 0.3751 - val_dense_out_1_acc: 0.8663 - val_dense_out_2_acc: 0.8473 - val_dense_out_3_acc: 0.9069 - val_dense_out_4_acc: 0.9379 - val_dense_out_5_acc: 0.9356 - val_dense_out_6_acc: 0.8783\n",
      "Epoch 21/100\n",
      "3796/3796 [==============================] - 13s 3ms/step - loss: 1.4300 - dense_out_1_loss: 0.2794 - dense_out_2_loss: 0.2951 - dense_out_3_loss: 0.2204 - dense_out_4_loss: 0.1668 - dense_out_5_loss: 0.2141 - dense_out_6_loss: 0.2541 - dense_out_1_acc: 0.9204 - dense_out_2_acc: 0.9141 - dense_out_3_acc: 0.9368 - dense_out_4_acc: 0.9502 - dense_out_5_acc: 0.9402 - dense_out_6_acc: 0.9247 - val_loss: 2.1957 - val_dense_out_1_loss: 0.4513 - val_dense_out_2_loss: 0.4747 - val_dense_out_3_loss: 0.3385 - val_dense_out_4_loss: 0.3189 - val_dense_out_5_loss: 0.2665 - val_dense_out_6_loss: 0.3458 - val_dense_out_1_acc: 0.8687 - val_dense_out_2_acc: 0.8568 - val_dense_out_3_acc: 0.9093 - val_dense_out_4_acc: 0.9236 - val_dense_out_5_acc: 0.9260 - val_dense_out_6_acc: 0.9093\n",
      "Epoch 22/100\n"
     ]
    },
    {
     "name": "stdout",
     "output_type": "stream",
     "text": [
      "3796/3796 [==============================] - 13s 3ms/step - loss: 1.3124 - dense_out_1_loss: 0.2678 - dense_out_2_loss: 0.2639 - dense_out_3_loss: 0.2052 - dense_out_4_loss: 0.1548 - dense_out_5_loss: 0.1895 - dense_out_6_loss: 0.2313 - dense_out_1_acc: 0.9210 - dense_out_2_acc: 0.9233 - dense_out_3_acc: 0.9455 - dense_out_4_acc: 0.9552 - dense_out_5_acc: 0.9402 - dense_out_6_acc: 0.9312 - val_loss: 2.2402 - val_dense_out_1_loss: 0.4340 - val_dense_out_2_loss: 0.4858 - val_dense_out_3_loss: 0.3369 - val_dense_out_4_loss: 0.3185 - val_dense_out_5_loss: 0.2980 - val_dense_out_6_loss: 0.3670 - val_dense_out_1_acc: 0.8711 - val_dense_out_2_acc: 0.8640 - val_dense_out_3_acc: 0.9165 - val_dense_out_4_acc: 0.9451 - val_dense_out_5_acc: 0.9189 - val_dense_out_6_acc: 0.9021\n",
      "Epoch 23/100\n",
      "3796/3796 [==============================] - 12s 3ms/step - loss: 1.2818 - dense_out_1_loss: 0.2534 - dense_out_2_loss: 0.2644 - dense_out_3_loss: 0.2010 - dense_out_4_loss: 0.1508 - dense_out_5_loss: 0.1874 - dense_out_6_loss: 0.2247 - dense_out_1_acc: 0.9276 - dense_out_2_acc: 0.9186 - dense_out_3_acc: 0.9447 - dense_out_4_acc: 0.9539 - dense_out_5_acc: 0.9439 - dense_out_6_acc: 0.9362 - val_loss: 2.1504 - val_dense_out_1_loss: 0.4056 - val_dense_out_2_loss: 0.4667 - val_dense_out_3_loss: 0.3322 - val_dense_out_4_loss: 0.3068 - val_dense_out_5_loss: 0.2902 - val_dense_out_6_loss: 0.3488 - val_dense_out_1_acc: 0.8878 - val_dense_out_2_acc: 0.8831 - val_dense_out_3_acc: 0.9189 - val_dense_out_4_acc: 0.9451 - val_dense_out_5_acc: 0.9189 - val_dense_out_6_acc: 0.9069\n",
      "Epoch 24/100\n",
      "3796/3796 [==============================] - 12s 3ms/step - loss: 1.2649 - dense_out_1_loss: 0.2519 - dense_out_2_loss: 0.2617 - dense_out_3_loss: 0.1958 - dense_out_4_loss: 0.1581 - dense_out_5_loss: 0.1789 - dense_out_6_loss: 0.2185 - dense_out_1_acc: 0.9276 - dense_out_2_acc: 0.9226 - dense_out_3_acc: 0.9444 - dense_out_4_acc: 0.9513 - dense_out_5_acc: 0.9476 - dense_out_6_acc: 0.9334 - val_loss: 2.2375 - val_dense_out_1_loss: 0.4304 - val_dense_out_2_loss: 0.4762 - val_dense_out_3_loss: 0.3744 - val_dense_out_4_loss: 0.3056 - val_dense_out_5_loss: 0.2874 - val_dense_out_6_loss: 0.3636 - val_dense_out_1_acc: 0.8783 - val_dense_out_2_acc: 0.8687 - val_dense_out_3_acc: 0.9093 - val_dense_out_4_acc: 0.9403 - val_dense_out_5_acc: 0.9356 - val_dense_out_6_acc: 0.8998\n",
      "Epoch 25/100\n",
      "3796/3796 [==============================] - 12s 3ms/step - loss: 1.1606 - dense_out_1_loss: 0.2260 - dense_out_2_loss: 0.2345 - dense_out_3_loss: 0.1767 - dense_out_4_loss: 0.1317 - dense_out_5_loss: 0.1735 - dense_out_6_loss: 0.2182 - dense_out_1_acc: 0.9386 - dense_out_2_acc: 0.9286 - dense_out_3_acc: 0.9502 - dense_out_4_acc: 0.9623 - dense_out_5_acc: 0.9502 - dense_out_6_acc: 0.9315 - val_loss: 2.0630 - val_dense_out_1_loss: 0.4018 - val_dense_out_2_loss: 0.4421 - val_dense_out_3_loss: 0.3153 - val_dense_out_4_loss: 0.3000 - val_dense_out_5_loss: 0.2491 - val_dense_out_6_loss: 0.3548 - val_dense_out_1_acc: 0.8926 - val_dense_out_2_acc: 0.8759 - val_dense_out_3_acc: 0.9236 - val_dense_out_4_acc: 0.9379 - val_dense_out_5_acc: 0.9499 - val_dense_out_6_acc: 0.9045\n",
      "Epoch 26/100\n",
      "3796/3796 [==============================] - 12s 3ms/step - loss: 1.1207 - dense_out_1_loss: 0.2216 - dense_out_2_loss: 0.2398 - dense_out_3_loss: 0.1721 - dense_out_4_loss: 0.1274 - dense_out_5_loss: 0.1691 - dense_out_6_loss: 0.1906 - dense_out_1_acc: 0.9344 - dense_out_2_acc: 0.9294 - dense_out_3_acc: 0.9481 - dense_out_4_acc: 0.9629 - dense_out_5_acc: 0.9484 - dense_out_6_acc: 0.9407 - val_loss: 2.0042 - val_dense_out_1_loss: 0.3675 - val_dense_out_2_loss: 0.4341 - val_dense_out_3_loss: 0.3323 - val_dense_out_4_loss: 0.3085 - val_dense_out_5_loss: 0.2360 - val_dense_out_6_loss: 0.3258 - val_dense_out_1_acc: 0.8902 - val_dense_out_2_acc: 0.8831 - val_dense_out_3_acc: 0.9165 - val_dense_out_4_acc: 0.9356 - val_dense_out_5_acc: 0.9308 - val_dense_out_6_acc: 0.9093\n",
      "Epoch 27/100\n",
      "3796/3796 [==============================] - 12s 3ms/step - loss: 1.0626 - dense_out_1_loss: 0.2212 - dense_out_2_loss: 0.2084 - dense_out_3_loss: 0.1755 - dense_out_4_loss: 0.1261 - dense_out_5_loss: 0.1390 - dense_out_6_loss: 0.1923 - dense_out_1_acc: 0.9357 - dense_out_2_acc: 0.9410 - dense_out_3_acc: 0.9465 - dense_out_4_acc: 0.9634 - dense_out_5_acc: 0.9623 - dense_out_6_acc: 0.9407 - val_loss: 1.9816 - val_dense_out_1_loss: 0.3600 - val_dense_out_2_loss: 0.4280 - val_dense_out_3_loss: 0.3225 - val_dense_out_4_loss: 0.2811 - val_dense_out_5_loss: 0.2517 - val_dense_out_6_loss: 0.3384 - val_dense_out_1_acc: 0.8926 - val_dense_out_2_acc: 0.8711 - val_dense_out_3_acc: 0.9212 - val_dense_out_4_acc: 0.9451 - val_dense_out_5_acc: 0.9403 - val_dense_out_6_acc: 0.9093\n",
      "Epoch 28/100\n",
      "3796/3796 [==============================] - 12s 3ms/step - loss: 0.9930 - dense_out_1_loss: 0.2020 - dense_out_2_loss: 0.1942 - dense_out_3_loss: 0.1620 - dense_out_4_loss: 0.1220 - dense_out_5_loss: 0.1450 - dense_out_6_loss: 0.1680 - dense_out_1_acc: 0.9378 - dense_out_2_acc: 0.9478 - dense_out_3_acc: 0.9523 - dense_out_4_acc: 0.9610 - dense_out_5_acc: 0.9542 - dense_out_6_acc: 0.9518 - val_loss: 1.8975 - val_dense_out_1_loss: 0.3628 - val_dense_out_2_loss: 0.4062 - val_dense_out_3_loss: 0.3012 - val_dense_out_4_loss: 0.2884 - val_dense_out_5_loss: 0.2166 - val_dense_out_6_loss: 0.3224 - val_dense_out_1_acc: 0.8878 - val_dense_out_2_acc: 0.8807 - val_dense_out_3_acc: 0.9260 - val_dense_out_4_acc: 0.9379 - val_dense_out_5_acc: 0.9499 - val_dense_out_6_acc: 0.9117\n",
      "Epoch 29/100\n",
      "3796/3796 [==============================] - 12s 3ms/step - loss: 0.9604 - dense_out_1_loss: 0.1962 - dense_out_2_loss: 0.2002 - dense_out_3_loss: 0.1424 - dense_out_4_loss: 0.1211 - dense_out_5_loss: 0.1386 - dense_out_6_loss: 0.1619 - dense_out_1_acc: 0.9436 - dense_out_2_acc: 0.9410 - dense_out_3_acc: 0.9592 - dense_out_4_acc: 0.9626 - dense_out_5_acc: 0.9576 - dense_out_6_acc: 0.9484 - val_loss: 1.9696 - val_dense_out_1_loss: 0.3817 - val_dense_out_2_loss: 0.4276 - val_dense_out_3_loss: 0.3050 - val_dense_out_4_loss: 0.2956 - val_dense_out_5_loss: 0.2466 - val_dense_out_6_loss: 0.3131 - val_dense_out_1_acc: 0.8926 - val_dense_out_2_acc: 0.8926 - val_dense_out_3_acc: 0.9284 - val_dense_out_4_acc: 0.9451 - val_dense_out_5_acc: 0.9403 - val_dense_out_6_acc: 0.9165\n",
      "Epoch 30/100\n",
      "3796/3796 [==============================] - 12s 3ms/step - loss: 0.9176 - dense_out_1_loss: 0.1818 - dense_out_2_loss: 0.1952 - dense_out_3_loss: 0.1317 - dense_out_4_loss: 0.1163 - dense_out_5_loss: 0.1292 - dense_out_6_loss: 0.1634 - dense_out_1_acc: 0.9481 - dense_out_2_acc: 0.9415 - dense_out_3_acc: 0.9629 - dense_out_4_acc: 0.9613 - dense_out_5_acc: 0.9613 - dense_out_6_acc: 0.9547 - val_loss: 1.9080 - val_dense_out_1_loss: 0.3524 - val_dense_out_2_loss: 0.3839 - val_dense_out_3_loss: 0.3283 - val_dense_out_4_loss: 0.2848 - val_dense_out_5_loss: 0.2444 - val_dense_out_6_loss: 0.3142 - val_dense_out_1_acc: 0.8998 - val_dense_out_2_acc: 0.8974 - val_dense_out_3_acc: 0.9141 - val_dense_out_4_acc: 0.9523 - val_dense_out_5_acc: 0.9403 - val_dense_out_6_acc: 0.9117\n",
      "Epoch 31/100\n",
      "3796/3796 [==============================] - 12s 3ms/step - loss: 0.9446 - dense_out_1_loss: 0.1767 - dense_out_2_loss: 0.2082 - dense_out_3_loss: 0.1428 - dense_out_4_loss: 0.1121 - dense_out_5_loss: 0.1322 - dense_out_6_loss: 0.1727 - dense_out_1_acc: 0.9457 - dense_out_2_acc: 0.9326 - dense_out_3_acc: 0.9594 - dense_out_4_acc: 0.9671 - dense_out_5_acc: 0.9581 - dense_out_6_acc: 0.9463 - val_loss: 1.9250 - val_dense_out_1_loss: 0.3709 - val_dense_out_2_loss: 0.4215 - val_dense_out_3_loss: 0.3028 - val_dense_out_4_loss: 0.2903 - val_dense_out_5_loss: 0.2488 - val_dense_out_6_loss: 0.2906 - val_dense_out_1_acc: 0.8950 - val_dense_out_2_acc: 0.8878 - val_dense_out_3_acc: 0.9403 - val_dense_out_4_acc: 0.9427 - val_dense_out_5_acc: 0.9451 - val_dense_out_6_acc: 0.9189\n",
      "Epoch 32/100\n"
     ]
    },
    {
     "name": "stdout",
     "output_type": "stream",
     "text": [
      "3796/3796 [==============================] - 12s 3ms/step - loss: 0.8767 - dense_out_1_loss: 0.1763 - dense_out_2_loss: 0.1770 - dense_out_3_loss: 0.1363 - dense_out_4_loss: 0.1061 - dense_out_5_loss: 0.1285 - dense_out_6_loss: 0.1525 - dense_out_1_acc: 0.9463 - dense_out_2_acc: 0.9442 - dense_out_3_acc: 0.9576 - dense_out_4_acc: 0.9692 - dense_out_5_acc: 0.9605 - dense_out_6_acc: 0.9563 - val_loss: 1.9136 - val_dense_out_1_loss: 0.3751 - val_dense_out_2_loss: 0.3823 - val_dense_out_3_loss: 0.3149 - val_dense_out_4_loss: 0.2906 - val_dense_out_5_loss: 0.2460 - val_dense_out_6_loss: 0.3048 - val_dense_out_1_acc: 0.8974 - val_dense_out_2_acc: 0.8950 - val_dense_out_3_acc: 0.9308 - val_dense_out_4_acc: 0.9523 - val_dense_out_5_acc: 0.9451 - val_dense_out_6_acc: 0.9141\n",
      "Epoch 33/100\n",
      "3796/3796 [==============================] - 12s 3ms/step - loss: 0.8115 - dense_out_1_loss: 0.1462 - dense_out_2_loss: 0.1701 - dense_out_3_loss: 0.1443 - dense_out_4_loss: 0.1003 - dense_out_5_loss: 0.1060 - dense_out_6_loss: 0.1448 - dense_out_1_acc: 0.9586 - dense_out_2_acc: 0.9463 - dense_out_3_acc: 0.9589 - dense_out_4_acc: 0.9708 - dense_out_5_acc: 0.9671 - dense_out_6_acc: 0.9539 - val_loss: 1.9521 - val_dense_out_1_loss: 0.3695 - val_dense_out_2_loss: 0.4126 - val_dense_out_3_loss: 0.3048 - val_dense_out_4_loss: 0.3136 - val_dense_out_5_loss: 0.2518 - val_dense_out_6_loss: 0.2998 - val_dense_out_1_acc: 0.8807 - val_dense_out_2_acc: 0.8926 - val_dense_out_3_acc: 0.9379 - val_dense_out_4_acc: 0.9379 - val_dense_out_5_acc: 0.9332 - val_dense_out_6_acc: 0.9165\n",
      "Epoch 34/100\n",
      "3796/3796 [==============================] - 12s 3ms/step - loss: 0.8179 - dense_out_1_loss: 0.1605 - dense_out_2_loss: 0.1742 - dense_out_3_loss: 0.1307 - dense_out_4_loss: 0.0944 - dense_out_5_loss: 0.1149 - dense_out_6_loss: 0.1433 - dense_out_1_acc: 0.9528 - dense_out_2_acc: 0.9452 - dense_out_3_acc: 0.9631 - dense_out_4_acc: 0.9721 - dense_out_5_acc: 0.9655 - dense_out_6_acc: 0.9576 - val_loss: 1.9136 - val_dense_out_1_loss: 0.3867 - val_dense_out_2_loss: 0.4049 - val_dense_out_3_loss: 0.3126 - val_dense_out_4_loss: 0.2936 - val_dense_out_5_loss: 0.2125 - val_dense_out_6_loss: 0.3034 - val_dense_out_1_acc: 0.8998 - val_dense_out_2_acc: 0.8974 - val_dense_out_3_acc: 0.9212 - val_dense_out_4_acc: 0.9403 - val_dense_out_5_acc: 0.9547 - val_dense_out_6_acc: 0.9165\n",
      "Epoch 35/100\n",
      "3796/3796 [==============================] - 12s 3ms/step - loss: 0.7998 - dense_out_1_loss: 0.1581 - dense_out_2_loss: 0.1615 - dense_out_3_loss: 0.1315 - dense_out_4_loss: 0.0924 - dense_out_5_loss: 0.1183 - dense_out_6_loss: 0.1380 - dense_out_1_acc: 0.9515 - dense_out_2_acc: 0.9505 - dense_out_3_acc: 0.9610 - dense_out_4_acc: 0.9729 - dense_out_5_acc: 0.9663 - dense_out_6_acc: 0.9579 - val_loss: 1.8659 - val_dense_out_1_loss: 0.3653 - val_dense_out_2_loss: 0.3800 - val_dense_out_3_loss: 0.3030 - val_dense_out_4_loss: 0.2827 - val_dense_out_5_loss: 0.2232 - val_dense_out_6_loss: 0.3117 - val_dense_out_1_acc: 0.8926 - val_dense_out_2_acc: 0.8998 - val_dense_out_3_acc: 0.9236 - val_dense_out_4_acc: 0.9475 - val_dense_out_5_acc: 0.9451 - val_dense_out_6_acc: 0.9212\n",
      "Epoch 36/100\n",
      "3796/3796 [==============================] - 12s 3ms/step - loss: 0.7530 - dense_out_1_loss: 0.1351 - dense_out_2_loss: 0.1462 - dense_out_3_loss: 0.1304 - dense_out_4_loss: 0.0890 - dense_out_5_loss: 0.1055 - dense_out_6_loss: 0.1469 - dense_out_1_acc: 0.9600 - dense_out_2_acc: 0.9586 - dense_out_3_acc: 0.9597 - dense_out_4_acc: 0.9700 - dense_out_5_acc: 0.9650 - dense_out_6_acc: 0.9584 - val_loss: 1.8666 - val_dense_out_1_loss: 0.3502 - val_dense_out_2_loss: 0.3704 - val_dense_out_3_loss: 0.3082 - val_dense_out_4_loss: 0.2974 - val_dense_out_5_loss: 0.2321 - val_dense_out_6_loss: 0.3083 - val_dense_out_1_acc: 0.9069 - val_dense_out_2_acc: 0.8950 - val_dense_out_3_acc: 0.9379 - val_dense_out_4_acc: 0.9475 - val_dense_out_5_acc: 0.9451 - val_dense_out_6_acc: 0.9212\n",
      "Epoch 37/100\n",
      "3796/3796 [==============================] - 12s 3ms/step - loss: 0.7517 - dense_out_1_loss: 0.1539 - dense_out_2_loss: 0.1459 - dense_out_3_loss: 0.1091 - dense_out_4_loss: 0.0968 - dense_out_5_loss: 0.0985 - dense_out_6_loss: 0.1476 - dense_out_1_acc: 0.9555 - dense_out_2_acc: 0.9579 - dense_out_3_acc: 0.9673 - dense_out_4_acc: 0.9713 - dense_out_5_acc: 0.9721 - dense_out_6_acc: 0.9534 - val_loss: 1.8556 - val_dense_out_1_loss: 0.3426 - val_dense_out_2_loss: 0.3973 - val_dense_out_3_loss: 0.2899 - val_dense_out_4_loss: 0.2979 - val_dense_out_5_loss: 0.2287 - val_dense_out_6_loss: 0.2992 - val_dense_out_1_acc: 0.8974 - val_dense_out_2_acc: 0.8878 - val_dense_out_3_acc: 0.9284 - val_dense_out_4_acc: 0.9427 - val_dense_out_5_acc: 0.9547 - val_dense_out_6_acc: 0.9189\n",
      "Epoch 38/100\n",
      "3796/3796 [==============================] - 12s 3ms/step - loss: 0.6917 - dense_out_1_loss: 0.1355 - dense_out_2_loss: 0.1330 - dense_out_3_loss: 0.1122 - dense_out_4_loss: 0.0908 - dense_out_5_loss: 0.1026 - dense_out_6_loss: 0.1175 - dense_out_1_acc: 0.9573 - dense_out_2_acc: 0.9586 - dense_out_3_acc: 0.9692 - dense_out_4_acc: 0.9721 - dense_out_5_acc: 0.9673 - dense_out_6_acc: 0.9618 - val_loss: 1.8764 - val_dense_out_1_loss: 0.3687 - val_dense_out_2_loss: 0.3699 - val_dense_out_3_loss: 0.2887 - val_dense_out_4_loss: 0.3008 - val_dense_out_5_loss: 0.2351 - val_dense_out_6_loss: 0.3131 - val_dense_out_1_acc: 0.8926 - val_dense_out_2_acc: 0.9021 - val_dense_out_3_acc: 0.9356 - val_dense_out_4_acc: 0.9451 - val_dense_out_5_acc: 0.9451 - val_dense_out_6_acc: 0.9117\n",
      "Epoch 39/100\n",
      "3796/3796 [==============================] - 12s 3ms/step - loss: 0.7237 - dense_out_1_loss: 0.1407 - dense_out_2_loss: 0.1312 - dense_out_3_loss: 0.1156 - dense_out_4_loss: 0.0892 - dense_out_5_loss: 0.1129 - dense_out_6_loss: 0.1341 - dense_out_1_acc: 0.9615 - dense_out_2_acc: 0.9631 - dense_out_3_acc: 0.9668 - dense_out_4_acc: 0.9723 - dense_out_5_acc: 0.9636 - dense_out_6_acc: 0.9586 - val_loss: 1.8725 - val_dense_out_1_loss: 0.3405 - val_dense_out_2_loss: 0.3955 - val_dense_out_3_loss: 0.2784 - val_dense_out_4_loss: 0.3069 - val_dense_out_5_loss: 0.2341 - val_dense_out_6_loss: 0.3170 - val_dense_out_1_acc: 0.9069 - val_dense_out_2_acc: 0.8998 - val_dense_out_3_acc: 0.9451 - val_dense_out_4_acc: 0.9451 - val_dense_out_5_acc: 0.9403 - val_dense_out_6_acc: 0.9093\n",
      "Epoch 40/100\n",
      "3796/3796 [==============================] - 12s 3ms/step - loss: 0.7337 - dense_out_1_loss: 0.1532 - dense_out_2_loss: 0.1420 - dense_out_3_loss: 0.1139 - dense_out_4_loss: 0.0894 - dense_out_5_loss: 0.0952 - dense_out_6_loss: 0.1399 - dense_out_1_acc: 0.9539 - dense_out_2_acc: 0.9600 - dense_out_3_acc: 0.9655 - dense_out_4_acc: 0.9702 - dense_out_5_acc: 0.9715 - dense_out_6_acc: 0.9528 - val_loss: 1.8584 - val_dense_out_1_loss: 0.3574 - val_dense_out_2_loss: 0.3864 - val_dense_out_3_loss: 0.2618 - val_dense_out_4_loss: 0.3413 - val_dense_out_5_loss: 0.2247 - val_dense_out_6_loss: 0.2867 - val_dense_out_1_acc: 0.8974 - val_dense_out_2_acc: 0.8974 - val_dense_out_3_acc: 0.9451 - val_dense_out_4_acc: 0.9356 - val_dense_out_5_acc: 0.9499 - val_dense_out_6_acc: 0.9212\n",
      "Epoch 41/100\n",
      "3796/3796 [==============================] - 12s 3ms/step - loss: 0.7279 - dense_out_1_loss: 0.1459 - dense_out_2_loss: 0.1387 - dense_out_3_loss: 0.1201 - dense_out_4_loss: 0.0779 - dense_out_5_loss: 0.1051 - dense_out_6_loss: 0.1402 - dense_out_1_acc: 0.9547 - dense_out_2_acc: 0.9552 - dense_out_3_acc: 0.9639 - dense_out_4_acc: 0.9739 - dense_out_5_acc: 0.9679 - dense_out_6_acc: 0.9539 - val_loss: 1.8840 - val_dense_out_1_loss: 0.3529 - val_dense_out_2_loss: 0.3665 - val_dense_out_3_loss: 0.2886 - val_dense_out_4_loss: 0.3222 - val_dense_out_5_loss: 0.2517 - val_dense_out_6_loss: 0.3021 - val_dense_out_1_acc: 0.9021 - val_dense_out_2_acc: 0.9069 - val_dense_out_3_acc: 0.9356 - val_dense_out_4_acc: 0.9379 - val_dense_out_5_acc: 0.9403 - val_dense_out_6_acc: 0.9093\n",
      "Epoch 42/100\n"
     ]
    },
    {
     "name": "stdout",
     "output_type": "stream",
     "text": [
      "3796/3796 [==============================] - 12s 3ms/step - loss: 0.6927 - dense_out_1_loss: 0.1431 - dense_out_2_loss: 0.1369 - dense_out_3_loss: 0.1080 - dense_out_4_loss: 0.0819 - dense_out_5_loss: 0.0940 - dense_out_6_loss: 0.1288 - dense_out_1_acc: 0.9560 - dense_out_2_acc: 0.9592 - dense_out_3_acc: 0.9658 - dense_out_4_acc: 0.9734 - dense_out_5_acc: 0.9684 - dense_out_6_acc: 0.9613 - val_loss: 1.8621 - val_dense_out_1_loss: 0.3473 - val_dense_out_2_loss: 0.3957 - val_dense_out_3_loss: 0.2923 - val_dense_out_4_loss: 0.3070 - val_dense_out_5_loss: 0.2253 - val_dense_out_6_loss: 0.2945 - val_dense_out_1_acc: 0.8998 - val_dense_out_2_acc: 0.8950 - val_dense_out_3_acc: 0.9427 - val_dense_out_4_acc: 0.9451 - val_dense_out_5_acc: 0.9403 - val_dense_out_6_acc: 0.9189\n",
      "Epoch 43/100\n",
      "3796/3796 [==============================] - 12s 3ms/step - loss: 0.6629 - dense_out_1_loss: 0.1268 - dense_out_2_loss: 0.1375 - dense_out_3_loss: 0.1074 - dense_out_4_loss: 0.0818 - dense_out_5_loss: 0.0995 - dense_out_6_loss: 0.1099 - dense_out_1_acc: 0.9634 - dense_out_2_acc: 0.9597 - dense_out_3_acc: 0.9687 - dense_out_4_acc: 0.9742 - dense_out_5_acc: 0.9744 - dense_out_6_acc: 0.9658 - val_loss: 1.8877 - val_dense_out_1_loss: 0.3547 - val_dense_out_2_loss: 0.3973 - val_dense_out_3_loss: 0.2992 - val_dense_out_4_loss: 0.2899 - val_dense_out_5_loss: 0.2269 - val_dense_out_6_loss: 0.3196 - val_dense_out_1_acc: 0.8926 - val_dense_out_2_acc: 0.8902 - val_dense_out_3_acc: 0.9379 - val_dense_out_4_acc: 0.9475 - val_dense_out_5_acc: 0.9379 - val_dense_out_6_acc: 0.9189\n",
      "Epoch 44/100\n",
      "3796/3796 [==============================] - 12s 3ms/step - loss: 0.6203 - dense_out_1_loss: 0.1193 - dense_out_2_loss: 0.1240 - dense_out_3_loss: 0.1120 - dense_out_4_loss: 0.0631 - dense_out_5_loss: 0.0955 - dense_out_6_loss: 0.1064 - dense_out_1_acc: 0.9639 - dense_out_2_acc: 0.9639 - dense_out_3_acc: 0.9665 - dense_out_4_acc: 0.9810 - dense_out_5_acc: 0.9702 - dense_out_6_acc: 0.9687 - val_loss: 1.8688 - val_dense_out_1_loss: 0.3416 - val_dense_out_2_loss: 0.3759 - val_dense_out_3_loss: 0.2858 - val_dense_out_4_loss: 0.3328 - val_dense_out_5_loss: 0.2395 - val_dense_out_6_loss: 0.2933 - val_dense_out_1_acc: 0.9021 - val_dense_out_2_acc: 0.9069 - val_dense_out_3_acc: 0.9403 - val_dense_out_4_acc: 0.9332 - val_dense_out_5_acc: 0.9427 - val_dense_out_6_acc: 0.9189\n",
      "Epoch 45/100\n",
      "3796/3796 [==============================] - 12s 3ms/step - loss: 0.6209 - dense_out_1_loss: 0.1186 - dense_out_2_loss: 0.1246 - dense_out_3_loss: 0.1003 - dense_out_4_loss: 0.0769 - dense_out_5_loss: 0.0935 - dense_out_6_loss: 0.1070 - dense_out_1_acc: 0.9647 - dense_out_2_acc: 0.9623 - dense_out_3_acc: 0.9713 - dense_out_4_acc: 0.9752 - dense_out_5_acc: 0.9721 - dense_out_6_acc: 0.9668 - val_loss: 1.8467 - val_dense_out_1_loss: 0.3580 - val_dense_out_2_loss: 0.4086 - val_dense_out_3_loss: 0.2824 - val_dense_out_4_loss: 0.3158 - val_dense_out_5_loss: 0.2053 - val_dense_out_6_loss: 0.2766 - val_dense_out_1_acc: 0.8950 - val_dense_out_2_acc: 0.8950 - val_dense_out_3_acc: 0.9379 - val_dense_out_4_acc: 0.9451 - val_dense_out_5_acc: 0.9547 - val_dense_out_6_acc: 0.9260\n",
      "Epoch 46/100\n",
      "3796/3796 [==============================] - 12s 3ms/step - loss: 0.6278 - dense_out_1_loss: 0.1243 - dense_out_2_loss: 0.1247 - dense_out_3_loss: 0.1049 - dense_out_4_loss: 0.0799 - dense_out_5_loss: 0.0876 - dense_out_6_loss: 0.1064 - dense_out_1_acc: 0.9644 - dense_out_2_acc: 0.9613 - dense_out_3_acc: 0.9668 - dense_out_4_acc: 0.9747 - dense_out_5_acc: 0.9758 - dense_out_6_acc: 0.9689 - val_loss: 1.8125 - val_dense_out_1_loss: 0.3734 - val_dense_out_2_loss: 0.3780 - val_dense_out_3_loss: 0.2737 - val_dense_out_4_loss: 0.2822 - val_dense_out_5_loss: 0.2337 - val_dense_out_6_loss: 0.2715 - val_dense_out_1_acc: 0.8950 - val_dense_out_2_acc: 0.9069 - val_dense_out_3_acc: 0.9403 - val_dense_out_4_acc: 0.9475 - val_dense_out_5_acc: 0.9523 - val_dense_out_6_acc: 0.9236\n",
      "Epoch 47/100\n",
      "3796/3796 [==============================] - 12s 3ms/step - loss: 0.5928 - dense_out_1_loss: 0.1140 - dense_out_2_loss: 0.1113 - dense_out_3_loss: 0.0977 - dense_out_4_loss: 0.0721 - dense_out_5_loss: 0.0877 - dense_out_6_loss: 0.1100 - dense_out_1_acc: 0.9660 - dense_out_2_acc: 0.9647 - dense_out_3_acc: 0.9694 - dense_out_4_acc: 0.9787 - dense_out_5_acc: 0.9710 - dense_out_6_acc: 0.9642 - val_loss: 1.8681 - val_dense_out_1_loss: 0.3610 - val_dense_out_2_loss: 0.3894 - val_dense_out_3_loss: 0.2953 - val_dense_out_4_loss: 0.3062 - val_dense_out_5_loss: 0.2335 - val_dense_out_6_loss: 0.2827 - val_dense_out_1_acc: 0.8878 - val_dense_out_2_acc: 0.9045 - val_dense_out_3_acc: 0.9356 - val_dense_out_4_acc: 0.9475 - val_dense_out_5_acc: 0.9547 - val_dense_out_6_acc: 0.9260\n",
      "Epoch 48/100\n",
      "3796/3796 [==============================] - 12s 3ms/step - loss: 0.6213 - dense_out_1_loss: 0.1251 - dense_out_2_loss: 0.1162 - dense_out_3_loss: 0.0860 - dense_out_4_loss: 0.0843 - dense_out_5_loss: 0.0941 - dense_out_6_loss: 0.1155 - dense_out_1_acc: 0.9642 - dense_out_2_acc: 0.9660 - dense_out_3_acc: 0.9750 - dense_out_4_acc: 0.9721 - dense_out_5_acc: 0.9705 - dense_out_6_acc: 0.9594 - val_loss: 1.8381 - val_dense_out_1_loss: 0.3818 - val_dense_out_2_loss: 0.3808 - val_dense_out_3_loss: 0.2835 - val_dense_out_4_loss: 0.3079 - val_dense_out_5_loss: 0.2190 - val_dense_out_6_loss: 0.2651 - val_dense_out_1_acc: 0.8926 - val_dense_out_2_acc: 0.8974 - val_dense_out_3_acc: 0.9427 - val_dense_out_4_acc: 0.9451 - val_dense_out_5_acc: 0.9499 - val_dense_out_6_acc: 0.9236\n",
      "Epoch 49/100\n",
      "3796/3796 [==============================] - 12s 3ms/step - loss: 0.5879 - dense_out_1_loss: 0.1213 - dense_out_2_loss: 0.1185 - dense_out_3_loss: 0.0912 - dense_out_4_loss: 0.0625 - dense_out_5_loss: 0.0904 - dense_out_6_loss: 0.1039 - dense_out_1_acc: 0.9594 - dense_out_2_acc: 0.9634 - dense_out_3_acc: 0.9689 - dense_out_4_acc: 0.9805 - dense_out_5_acc: 0.9708 - dense_out_6_acc: 0.9689 - val_loss: 1.8126 - val_dense_out_1_loss: 0.3490 - val_dense_out_2_loss: 0.3532 - val_dense_out_3_loss: 0.2863 - val_dense_out_4_loss: 0.3207 - val_dense_out_5_loss: 0.2150 - val_dense_out_6_loss: 0.2884 - val_dense_out_1_acc: 0.9045 - val_dense_out_2_acc: 0.9045 - val_dense_out_3_acc: 0.9356 - val_dense_out_4_acc: 0.9523 - val_dense_out_5_acc: 0.9499 - val_dense_out_6_acc: 0.9212\n",
      "Epoch 50/100\n",
      "3796/3796 [==============================] - 12s 3ms/step - loss: 0.5929 - dense_out_1_loss: 0.0997 - dense_out_2_loss: 0.1287 - dense_out_3_loss: 0.0956 - dense_out_4_loss: 0.0758 - dense_out_5_loss: 0.0908 - dense_out_6_loss: 0.1023 - dense_out_1_acc: 0.9734 - dense_out_2_acc: 0.9584 - dense_out_3_acc: 0.9684 - dense_out_4_acc: 0.9758 - dense_out_5_acc: 0.9729 - dense_out_6_acc: 0.9684 - val_loss: 1.8210 - val_dense_out_1_loss: 0.3470 - val_dense_out_2_loss: 0.3708 - val_dense_out_3_loss: 0.3231 - val_dense_out_4_loss: 0.2982 - val_dense_out_5_loss: 0.2094 - val_dense_out_6_loss: 0.2726 - val_dense_out_1_acc: 0.8950 - val_dense_out_2_acc: 0.9021 - val_dense_out_3_acc: 0.9308 - val_dense_out_4_acc: 0.9475 - val_dense_out_5_acc: 0.9475 - val_dense_out_6_acc: 0.9189\n",
      "Epoch 51/100\n",
      "3796/3796 [==============================] - 12s 3ms/step - loss: 0.5486 - dense_out_1_loss: 0.1144 - dense_out_2_loss: 0.1038 - dense_out_3_loss: 0.0819 - dense_out_4_loss: 0.0644 - dense_out_5_loss: 0.0766 - dense_out_6_loss: 0.1075 - dense_out_1_acc: 0.9660 - dense_out_2_acc: 0.9679 - dense_out_3_acc: 0.9760 - dense_out_4_acc: 0.9787 - dense_out_5_acc: 0.9742 - dense_out_6_acc: 0.9684 - val_loss: 1.8391 - val_dense_out_1_loss: 0.3315 - val_dense_out_2_loss: 0.3807 - val_dense_out_3_loss: 0.3283 - val_dense_out_4_loss: 0.3198 - val_dense_out_5_loss: 0.2006 - val_dense_out_6_loss: 0.2782 - val_dense_out_1_acc: 0.9069 - val_dense_out_2_acc: 0.8974 - val_dense_out_3_acc: 0.9356 - val_dense_out_4_acc: 0.9499 - val_dense_out_5_acc: 0.9499 - val_dense_out_6_acc: 0.9212\n",
      "Epoch 52/100\n"
     ]
    },
    {
     "name": "stdout",
     "output_type": "stream",
     "text": [
      "3796/3796 [==============================] - 13s 3ms/step - loss: 0.5925 - dense_out_1_loss: 0.1156 - dense_out_2_loss: 0.1195 - dense_out_3_loss: 0.0905 - dense_out_4_loss: 0.0740 - dense_out_5_loss: 0.0879 - dense_out_6_loss: 0.1050 - dense_out_1_acc: 0.9660 - dense_out_2_acc: 0.9655 - dense_out_3_acc: 0.9718 - dense_out_4_acc: 0.9752 - dense_out_5_acc: 0.9747 - dense_out_6_acc: 0.9673 - val_loss: 1.8272 - val_dense_out_1_loss: 0.3230 - val_dense_out_2_loss: 0.3650 - val_dense_out_3_loss: 0.3070 - val_dense_out_4_loss: 0.3202 - val_dense_out_5_loss: 0.2330 - val_dense_out_6_loss: 0.2789 - val_dense_out_1_acc: 0.9093 - val_dense_out_2_acc: 0.9093 - val_dense_out_3_acc: 0.9403 - val_dense_out_4_acc: 0.9451 - val_dense_out_5_acc: 0.9523 - val_dense_out_6_acc: 0.9212\n",
      "Epoch 53/100\n",
      "3796/3796 [==============================] - 12s 3ms/step - loss: 0.5828 - dense_out_1_loss: 0.1149 - dense_out_2_loss: 0.1212 - dense_out_3_loss: 0.0896 - dense_out_4_loss: 0.0649 - dense_out_5_loss: 0.0888 - dense_out_6_loss: 0.1034 - dense_out_1_acc: 0.9618 - dense_out_2_acc: 0.9636 - dense_out_3_acc: 0.9710 - dense_out_4_acc: 0.9808 - dense_out_5_acc: 0.9737 - dense_out_6_acc: 0.9644 - val_loss: 1.8134 - val_dense_out_1_loss: 0.3162 - val_dense_out_2_loss: 0.3949 - val_dense_out_3_loss: 0.2974 - val_dense_out_4_loss: 0.3192 - val_dense_out_5_loss: 0.1991 - val_dense_out_6_loss: 0.2866 - val_dense_out_1_acc: 0.9141 - val_dense_out_2_acc: 0.9045 - val_dense_out_3_acc: 0.9403 - val_dense_out_4_acc: 0.9427 - val_dense_out_5_acc: 0.9451 - val_dense_out_6_acc: 0.9236\n",
      "Epoch 54/100\n",
      "3796/3796 [==============================] - 12s 3ms/step - loss: 0.5429 - dense_out_1_loss: 0.1111 - dense_out_2_loss: 0.1127 - dense_out_3_loss: 0.0777 - dense_out_4_loss: 0.0670 - dense_out_5_loss: 0.0715 - dense_out_6_loss: 0.1030 - dense_out_1_acc: 0.9634 - dense_out_2_acc: 0.9647 - dense_out_3_acc: 0.9760 - dense_out_4_acc: 0.9797 - dense_out_5_acc: 0.9742 - dense_out_6_acc: 0.9700 - val_loss: 1.7730 - val_dense_out_1_loss: 0.3126 - val_dense_out_2_loss: 0.3601 - val_dense_out_3_loss: 0.2975 - val_dense_out_4_loss: 0.3229 - val_dense_out_5_loss: 0.2083 - val_dense_out_6_loss: 0.2716 - val_dense_out_1_acc: 0.8998 - val_dense_out_2_acc: 0.9141 - val_dense_out_3_acc: 0.9356 - val_dense_out_4_acc: 0.9427 - val_dense_out_5_acc: 0.9475 - val_dense_out_6_acc: 0.9260\n",
      "Epoch 55/100\n",
      "3796/3796 [==============================] - 12s 3ms/step - loss: 0.5590 - dense_out_1_loss: 0.0949 - dense_out_2_loss: 0.1153 - dense_out_3_loss: 0.0859 - dense_out_4_loss: 0.0816 - dense_out_5_loss: 0.0797 - dense_out_6_loss: 0.1016 - dense_out_1_acc: 0.9697 - dense_out_2_acc: 0.9636 - dense_out_3_acc: 0.9729 - dense_out_4_acc: 0.9739 - dense_out_5_acc: 0.9742 - dense_out_6_acc: 0.9671 - val_loss: 1.7865 - val_dense_out_1_loss: 0.3324 - val_dense_out_2_loss: 0.3452 - val_dense_out_3_loss: 0.3117 - val_dense_out_4_loss: 0.3034 - val_dense_out_5_loss: 0.2205 - val_dense_out_6_loss: 0.2734 - val_dense_out_1_acc: 0.9141 - val_dense_out_2_acc: 0.8998 - val_dense_out_3_acc: 0.9356 - val_dense_out_4_acc: 0.9475 - val_dense_out_5_acc: 0.9499 - val_dense_out_6_acc: 0.9260\n",
      "Epoch 56/100\n",
      "3796/3796 [==============================] - 12s 3ms/step - loss: 0.5406 - dense_out_1_loss: 0.1040 - dense_out_2_loss: 0.0956 - dense_out_3_loss: 0.0844 - dense_out_4_loss: 0.0793 - dense_out_5_loss: 0.0795 - dense_out_6_loss: 0.0979 - dense_out_1_acc: 0.9687 - dense_out_2_acc: 0.9694 - dense_out_3_acc: 0.9723 - dense_out_4_acc: 0.9747 - dense_out_5_acc: 0.9734 - dense_out_6_acc: 0.9673 - val_loss: 1.8504 - val_dense_out_1_loss: 0.3227 - val_dense_out_2_loss: 0.3760 - val_dense_out_3_loss: 0.3066 - val_dense_out_4_loss: 0.3164 - val_dense_out_5_loss: 0.2406 - val_dense_out_6_loss: 0.2880 - val_dense_out_1_acc: 0.9117 - val_dense_out_2_acc: 0.9021 - val_dense_out_3_acc: 0.9403 - val_dense_out_4_acc: 0.9427 - val_dense_out_5_acc: 0.9379 - val_dense_out_6_acc: 0.9212\n",
      "Epoch 57/100\n",
      "3796/3796 [==============================] - 13s 3ms/step - loss: 0.5297 - dense_out_1_loss: 0.1072 - dense_out_2_loss: 0.1052 - dense_out_3_loss: 0.0879 - dense_out_4_loss: 0.0595 - dense_out_5_loss: 0.0752 - dense_out_6_loss: 0.0947 - dense_out_1_acc: 0.9684 - dense_out_2_acc: 0.9644 - dense_out_3_acc: 0.9718 - dense_out_4_acc: 0.9805 - dense_out_5_acc: 0.9771 - dense_out_6_acc: 0.9694 - val_loss: 1.7735 - val_dense_out_1_loss: 0.3412 - val_dense_out_2_loss: 0.3375 - val_dense_out_3_loss: 0.2779 - val_dense_out_4_loss: 0.3052 - val_dense_out_5_loss: 0.2306 - val_dense_out_6_loss: 0.2812 - val_dense_out_1_acc: 0.9117 - val_dense_out_2_acc: 0.9093 - val_dense_out_3_acc: 0.9356 - val_dense_out_4_acc: 0.9451 - val_dense_out_5_acc: 0.9427 - val_dense_out_6_acc: 0.9260\n",
      "Epoch 58/100\n",
      "3796/3796 [==============================] - 12s 3ms/step - loss: 0.5519 - dense_out_1_loss: 0.1106 - dense_out_2_loss: 0.1081 - dense_out_3_loss: 0.0893 - dense_out_4_loss: 0.0778 - dense_out_5_loss: 0.0659 - dense_out_6_loss: 0.1001 - dense_out_1_acc: 0.9676 - dense_out_2_acc: 0.9687 - dense_out_3_acc: 0.9718 - dense_out_4_acc: 0.9752 - dense_out_5_acc: 0.9818 - dense_out_6_acc: 0.9679 - val_loss: 1.7094 - val_dense_out_1_loss: 0.3270 - val_dense_out_2_loss: 0.3490 - val_dense_out_3_loss: 0.2624 - val_dense_out_4_loss: 0.3080 - val_dense_out_5_loss: 0.2014 - val_dense_out_6_loss: 0.2615 - val_dense_out_1_acc: 0.9093 - val_dense_out_2_acc: 0.9069 - val_dense_out_3_acc: 0.9427 - val_dense_out_4_acc: 0.9427 - val_dense_out_5_acc: 0.9547 - val_dense_out_6_acc: 0.9260\n",
      "Epoch 59/100\n",
      "3796/3796 [==============================] - 12s 3ms/step - loss: 0.5213 - dense_out_1_loss: 0.1055 - dense_out_2_loss: 0.0950 - dense_out_3_loss: 0.0846 - dense_out_4_loss: 0.0594 - dense_out_5_loss: 0.0764 - dense_out_6_loss: 0.1004 - dense_out_1_acc: 0.9697 - dense_out_2_acc: 0.9694 - dense_out_3_acc: 0.9750 - dense_out_4_acc: 0.9839 - dense_out_5_acc: 0.9795 - dense_out_6_acc: 0.9679 - val_loss: 1.7026 - val_dense_out_1_loss: 0.3245 - val_dense_out_2_loss: 0.3605 - val_dense_out_3_loss: 0.2663 - val_dense_out_4_loss: 0.2991 - val_dense_out_5_loss: 0.2055 - val_dense_out_6_loss: 0.2467 - val_dense_out_1_acc: 0.9021 - val_dense_out_2_acc: 0.9141 - val_dense_out_3_acc: 0.9427 - val_dense_out_4_acc: 0.9475 - val_dense_out_5_acc: 0.9547 - val_dense_out_6_acc: 0.9236\n",
      "Epoch 60/100\n",
      "3796/3796 [==============================] - 12s 3ms/step - loss: 0.5270 - dense_out_1_loss: 0.0942 - dense_out_2_loss: 0.1105 - dense_out_3_loss: 0.0799 - dense_out_4_loss: 0.0693 - dense_out_5_loss: 0.0693 - dense_out_6_loss: 0.1038 - dense_out_1_acc: 0.9684 - dense_out_2_acc: 0.9679 - dense_out_3_acc: 0.9734 - dense_out_4_acc: 0.9789 - dense_out_5_acc: 0.9800 - dense_out_6_acc: 0.9665 - val_loss: 1.7546 - val_dense_out_1_loss: 0.3341 - val_dense_out_2_loss: 0.3618 - val_dense_out_3_loss: 0.3029 - val_dense_out_4_loss: 0.3299 - val_dense_out_5_loss: 0.1957 - val_dense_out_6_loss: 0.2302 - val_dense_out_1_acc: 0.9093 - val_dense_out_2_acc: 0.9141 - val_dense_out_3_acc: 0.9403 - val_dense_out_4_acc: 0.9451 - val_dense_out_5_acc: 0.9570 - val_dense_out_6_acc: 0.9236\n",
      "Epoch 61/100\n",
      "3796/3796 [==============================] - 12s 3ms/step - loss: 0.5155 - dense_out_1_loss: 0.1029 - dense_out_2_loss: 0.1156 - dense_out_3_loss: 0.0744 - dense_out_4_loss: 0.0611 - dense_out_5_loss: 0.0787 - dense_out_6_loss: 0.0827 - dense_out_1_acc: 0.9663 - dense_out_2_acc: 0.9623 - dense_out_3_acc: 0.9721 - dense_out_4_acc: 0.9800 - dense_out_5_acc: 0.9768 - dense_out_6_acc: 0.9734 - val_loss: 1.8526 - val_dense_out_1_loss: 0.3425 - val_dense_out_2_loss: 0.3982 - val_dense_out_3_loss: 0.3093 - val_dense_out_4_loss: 0.3237 - val_dense_out_5_loss: 0.2166 - val_dense_out_6_loss: 0.2623 - val_dense_out_1_acc: 0.8974 - val_dense_out_2_acc: 0.8974 - val_dense_out_3_acc: 0.9356 - val_dense_out_4_acc: 0.9475 - val_dense_out_5_acc: 0.9547 - val_dense_out_6_acc: 0.9308\n",
      "Epoch 62/100\n"
     ]
    },
    {
     "name": "stdout",
     "output_type": "stream",
     "text": [
      "3796/3796 [==============================] - 12s 3ms/step - loss: 0.4383 - dense_out_1_loss: 0.0816 - dense_out_2_loss: 0.0770 - dense_out_3_loss: 0.0795 - dense_out_4_loss: 0.0514 - dense_out_5_loss: 0.0644 - dense_out_6_loss: 0.0843 - dense_out_1_acc: 0.9737 - dense_out_2_acc: 0.9760 - dense_out_3_acc: 0.9739 - dense_out_4_acc: 0.9829 - dense_out_5_acc: 0.9797 - dense_out_6_acc: 0.9758 - val_loss: 1.8360 - val_dense_out_1_loss: 0.3318 - val_dense_out_2_loss: 0.3583 - val_dense_out_3_loss: 0.3116 - val_dense_out_4_loss: 0.3319 - val_dense_out_5_loss: 0.2080 - val_dense_out_6_loss: 0.2944 - val_dense_out_1_acc: 0.9069 - val_dense_out_2_acc: 0.9141 - val_dense_out_3_acc: 0.9332 - val_dense_out_4_acc: 0.9451 - val_dense_out_5_acc: 0.9570 - val_dense_out_6_acc: 0.9236\n",
      "Epoch 63/100\n",
      "3796/3796 [==============================] - 12s 3ms/step - loss: 0.4630 - dense_out_1_loss: 0.0866 - dense_out_2_loss: 0.0903 - dense_out_3_loss: 0.0797 - dense_out_4_loss: 0.0541 - dense_out_5_loss: 0.0643 - dense_out_6_loss: 0.0881 - dense_out_1_acc: 0.9710 - dense_out_2_acc: 0.9697 - dense_out_3_acc: 0.9731 - dense_out_4_acc: 0.9831 - dense_out_5_acc: 0.9768 - dense_out_6_acc: 0.9713 - val_loss: 1.8236 - val_dense_out_1_loss: 0.3483 - val_dense_out_2_loss: 0.3707 - val_dense_out_3_loss: 0.2958 - val_dense_out_4_loss: 0.3194 - val_dense_out_5_loss: 0.2162 - val_dense_out_6_loss: 0.2731 - val_dense_out_1_acc: 0.9069 - val_dense_out_2_acc: 0.9141 - val_dense_out_3_acc: 0.9379 - val_dense_out_4_acc: 0.9427 - val_dense_out_5_acc: 0.9475 - val_dense_out_6_acc: 0.9284\n",
      "Epoch 64/100\n",
      "3796/3796 [==============================] - 12s 3ms/step - loss: 0.4658 - dense_out_1_loss: 0.0908 - dense_out_2_loss: 0.0874 - dense_out_3_loss: 0.0846 - dense_out_4_loss: 0.0535 - dense_out_5_loss: 0.0630 - dense_out_6_loss: 0.0864 - dense_out_1_acc: 0.9715 - dense_out_2_acc: 0.9723 - dense_out_3_acc: 0.9758 - dense_out_4_acc: 0.9842 - dense_out_5_acc: 0.9816 - dense_out_6_acc: 0.9723 - val_loss: 1.8033 - val_dense_out_1_loss: 0.3276 - val_dense_out_2_loss: 0.3568 - val_dense_out_3_loss: 0.3002 - val_dense_out_4_loss: 0.3206 - val_dense_out_5_loss: 0.2158 - val_dense_out_6_loss: 0.2824 - val_dense_out_1_acc: 0.9117 - val_dense_out_2_acc: 0.9189 - val_dense_out_3_acc: 0.9403 - val_dense_out_4_acc: 0.9427 - val_dense_out_5_acc: 0.9547 - val_dense_out_6_acc: 0.9284\n",
      "Epoch 65/100\n",
      "3796/3796 [==============================] - 12s 3ms/step - loss: 0.4733 - dense_out_1_loss: 0.1048 - dense_out_2_loss: 0.0943 - dense_out_3_loss: 0.0719 - dense_out_4_loss: 0.0504 - dense_out_5_loss: 0.0714 - dense_out_6_loss: 0.0806 - dense_out_1_acc: 0.9705 - dense_out_2_acc: 0.9718 - dense_out_3_acc: 0.9795 - dense_out_4_acc: 0.9850 - dense_out_5_acc: 0.9792 - dense_out_6_acc: 0.9726 - val_loss: 1.7611 - val_dense_out_1_loss: 0.3605 - val_dense_out_2_loss: 0.3515 - val_dense_out_3_loss: 0.2741 - val_dense_out_4_loss: 0.3116 - val_dense_out_5_loss: 0.2123 - val_dense_out_6_loss: 0.2511 - val_dense_out_1_acc: 0.9093 - val_dense_out_2_acc: 0.9165 - val_dense_out_3_acc: 0.9475 - val_dense_out_4_acc: 0.9403 - val_dense_out_5_acc: 0.9547 - val_dense_out_6_acc: 0.9379\n",
      "Epoch 66/100\n",
      "3796/3796 [==============================] - 12s 3ms/step - loss: 0.4904 - dense_out_1_loss: 0.0882 - dense_out_2_loss: 0.1024 - dense_out_3_loss: 0.0798 - dense_out_4_loss: 0.0578 - dense_out_5_loss: 0.0761 - dense_out_6_loss: 0.0860 - dense_out_1_acc: 0.9723 - dense_out_2_acc: 0.9694 - dense_out_3_acc: 0.9726 - dense_out_4_acc: 0.9821 - dense_out_5_acc: 0.9768 - dense_out_6_acc: 0.9726 - val_loss: 1.8794 - val_dense_out_1_loss: 0.3638 - val_dense_out_2_loss: 0.4105 - val_dense_out_3_loss: 0.2942 - val_dense_out_4_loss: 0.3257 - val_dense_out_5_loss: 0.2399 - val_dense_out_6_loss: 0.2453 - val_dense_out_1_acc: 0.8878 - val_dense_out_2_acc: 0.9045 - val_dense_out_3_acc: 0.9332 - val_dense_out_4_acc: 0.9475 - val_dense_out_5_acc: 0.9356 - val_dense_out_6_acc: 0.9284\n",
      "Epoch 67/100\n",
      "3796/3796 [==============================] - 12s 3ms/step - loss: 0.4549 - dense_out_1_loss: 0.0902 - dense_out_2_loss: 0.0862 - dense_out_3_loss: 0.0712 - dense_out_4_loss: 0.0624 - dense_out_5_loss: 0.0599 - dense_out_6_loss: 0.0851 - dense_out_1_acc: 0.9700 - dense_out_2_acc: 0.9689 - dense_out_3_acc: 0.9781 - dense_out_4_acc: 0.9813 - dense_out_5_acc: 0.9808 - dense_out_6_acc: 0.9726 - val_loss: 1.7660 - val_dense_out_1_loss: 0.3306 - val_dense_out_2_loss: 0.3713 - val_dense_out_3_loss: 0.2899 - val_dense_out_4_loss: 0.3228 - val_dense_out_5_loss: 0.2002 - val_dense_out_6_loss: 0.2512 - val_dense_out_1_acc: 0.9141 - val_dense_out_2_acc: 0.9165 - val_dense_out_3_acc: 0.9356 - val_dense_out_4_acc: 0.9499 - val_dense_out_5_acc: 0.9523 - val_dense_out_6_acc: 0.9356\n",
      "Epoch 68/100\n",
      "3796/3796 [==============================] - 12s 3ms/step - loss: 0.4582 - dense_out_1_loss: 0.0963 - dense_out_2_loss: 0.0822 - dense_out_3_loss: 0.0668 - dense_out_4_loss: 0.0622 - dense_out_5_loss: 0.0752 - dense_out_6_loss: 0.0756 - dense_out_1_acc: 0.9718 - dense_out_2_acc: 0.9747 - dense_out_3_acc: 0.9795 - dense_out_4_acc: 0.9792 - dense_out_5_acc: 0.9758 - dense_out_6_acc: 0.9768 - val_loss: 1.7633 - val_dense_out_1_loss: 0.3066 - val_dense_out_2_loss: 0.3451 - val_dense_out_3_loss: 0.3131 - val_dense_out_4_loss: 0.3535 - val_dense_out_5_loss: 0.2111 - val_dense_out_6_loss: 0.2339 - val_dense_out_1_acc: 0.9189 - val_dense_out_2_acc: 0.9117 - val_dense_out_3_acc: 0.9379 - val_dense_out_4_acc: 0.9475 - val_dense_out_5_acc: 0.9451 - val_dense_out_6_acc: 0.9427\n",
      "Epoch 69/100\n",
      "3796/3796 [==============================] - 12s 3ms/step - loss: 0.4706 - dense_out_1_loss: 0.0891 - dense_out_2_loss: 0.0916 - dense_out_3_loss: 0.0685 - dense_out_4_loss: 0.0683 - dense_out_5_loss: 0.0671 - dense_out_6_loss: 0.0859 - dense_out_1_acc: 0.9718 - dense_out_2_acc: 0.9715 - dense_out_3_acc: 0.9795 - dense_out_4_acc: 0.9781 - dense_out_5_acc: 0.9816 - dense_out_6_acc: 0.9729 - val_loss: 1.7601 - val_dense_out_1_loss: 0.3011 - val_dense_out_2_loss: 0.3602 - val_dense_out_3_loss: 0.3025 - val_dense_out_4_loss: 0.3482 - val_dense_out_5_loss: 0.2156 - val_dense_out_6_loss: 0.2326 - val_dense_out_1_acc: 0.9117 - val_dense_out_2_acc: 0.9069 - val_dense_out_3_acc: 0.9332 - val_dense_out_4_acc: 0.9427 - val_dense_out_5_acc: 0.9570 - val_dense_out_6_acc: 0.9356\n",
      "Epoch 70/100\n",
      "3796/3796 [==============================] - 12s 3ms/step - loss: 0.4511 - dense_out_1_loss: 0.0899 - dense_out_2_loss: 0.0769 - dense_out_3_loss: 0.0754 - dense_out_4_loss: 0.0528 - dense_out_5_loss: 0.0744 - dense_out_6_loss: 0.0817 - dense_out_1_acc: 0.9723 - dense_out_2_acc: 0.9776 - dense_out_3_acc: 0.9758 - dense_out_4_acc: 0.9826 - dense_out_5_acc: 0.9731 - dense_out_6_acc: 0.9763 - val_loss: 1.7888 - val_dense_out_1_loss: 0.3067 - val_dense_out_2_loss: 0.3906 - val_dense_out_3_loss: 0.2854 - val_dense_out_4_loss: 0.3518 - val_dense_out_5_loss: 0.2060 - val_dense_out_6_loss: 0.2484 - val_dense_out_1_acc: 0.9069 - val_dense_out_2_acc: 0.9189 - val_dense_out_3_acc: 0.9379 - val_dense_out_4_acc: 0.9499 - val_dense_out_5_acc: 0.9547 - val_dense_out_6_acc: 0.9332\n",
      "Epoch 71/100\n",
      "3796/3796 [==============================] - 12s 3ms/step - loss: 0.4293 - dense_out_1_loss: 0.0849 - dense_out_2_loss: 0.0847 - dense_out_3_loss: 0.0748 - dense_out_4_loss: 0.0459 - dense_out_5_loss: 0.0618 - dense_out_6_loss: 0.0772 - dense_out_1_acc: 0.9713 - dense_out_2_acc: 0.9723 - dense_out_3_acc: 0.9752 - dense_out_4_acc: 0.9847 - dense_out_5_acc: 0.9829 - dense_out_6_acc: 0.9763 - val_loss: 1.7636 - val_dense_out_1_loss: 0.3227 - val_dense_out_2_loss: 0.3933 - val_dense_out_3_loss: 0.2871 - val_dense_out_4_loss: 0.3209 - val_dense_out_5_loss: 0.1952 - val_dense_out_6_loss: 0.2444 - val_dense_out_1_acc: 0.9069 - val_dense_out_2_acc: 0.9069 - val_dense_out_3_acc: 0.9403 - val_dense_out_4_acc: 0.9499 - val_dense_out_5_acc: 0.9547 - val_dense_out_6_acc: 0.9427\n",
      "Epoch 72/100\n"
     ]
    },
    {
     "name": "stdout",
     "output_type": "stream",
     "text": [
      "3796/3796 [==============================] - 12s 3ms/step - loss: 0.4513 - dense_out_1_loss: 0.0901 - dense_out_2_loss: 0.0856 - dense_out_3_loss: 0.0769 - dense_out_4_loss: 0.0504 - dense_out_5_loss: 0.0687 - dense_out_6_loss: 0.0796 - dense_out_1_acc: 0.9721 - dense_out_2_acc: 0.9694 - dense_out_3_acc: 0.9744 - dense_out_4_acc: 0.9850 - dense_out_5_acc: 0.9800 - dense_out_6_acc: 0.9744 - val_loss: 1.7943 - val_dense_out_1_loss: 0.3262 - val_dense_out_2_loss: 0.3829 - val_dense_out_3_loss: 0.2979 - val_dense_out_4_loss: 0.3236 - val_dense_out_5_loss: 0.2184 - val_dense_out_6_loss: 0.2453 - val_dense_out_1_acc: 0.9117 - val_dense_out_2_acc: 0.9045 - val_dense_out_3_acc: 0.9308 - val_dense_out_4_acc: 0.9499 - val_dense_out_5_acc: 0.9523 - val_dense_out_6_acc: 0.9427\n",
      "Epoch 73/100\n",
      "3796/3796 [==============================] - 13s 3ms/step - loss: 0.4192 - dense_out_1_loss: 0.0764 - dense_out_2_loss: 0.0813 - dense_out_3_loss: 0.0708 - dense_out_4_loss: 0.0542 - dense_out_5_loss: 0.0618 - dense_out_6_loss: 0.0746 - dense_out_1_acc: 0.9755 - dense_out_2_acc: 0.9752 - dense_out_3_acc: 0.9789 - dense_out_4_acc: 0.9800 - dense_out_5_acc: 0.9810 - dense_out_6_acc: 0.9763 - val_loss: 1.7296 - val_dense_out_1_loss: 0.3182 - val_dense_out_2_loss: 0.3245 - val_dense_out_3_loss: 0.2826 - val_dense_out_4_loss: 0.3396 - val_dense_out_5_loss: 0.2256 - val_dense_out_6_loss: 0.2390 - val_dense_out_1_acc: 0.9045 - val_dense_out_2_acc: 0.9236 - val_dense_out_3_acc: 0.9427 - val_dense_out_4_acc: 0.9475 - val_dense_out_5_acc: 0.9499 - val_dense_out_6_acc: 0.9499\n",
      "Epoch 74/100\n",
      "3796/3796 [==============================] - 12s 3ms/step - loss: 0.4215 - dense_out_1_loss: 0.0800 - dense_out_2_loss: 0.0827 - dense_out_3_loss: 0.0632 - dense_out_4_loss: 0.0572 - dense_out_5_loss: 0.0628 - dense_out_6_loss: 0.0756 - dense_out_1_acc: 0.9752 - dense_out_2_acc: 0.9723 - dense_out_3_acc: 0.9787 - dense_out_4_acc: 0.9821 - dense_out_5_acc: 0.9787 - dense_out_6_acc: 0.9779 - val_loss: 1.7394 - val_dense_out_1_loss: 0.3094 - val_dense_out_2_loss: 0.3668 - val_dense_out_3_loss: 0.2625 - val_dense_out_4_loss: 0.3234 - val_dense_out_5_loss: 0.2267 - val_dense_out_6_loss: 0.2506 - val_dense_out_1_acc: 0.9141 - val_dense_out_2_acc: 0.9117 - val_dense_out_3_acc: 0.9379 - val_dense_out_4_acc: 0.9451 - val_dense_out_5_acc: 0.9475 - val_dense_out_6_acc: 0.9379\n",
      "Epoch 75/100\n",
      "3796/3796 [==============================] - 13s 3ms/step - loss: 0.4116 - dense_out_1_loss: 0.0804 - dense_out_2_loss: 0.0827 - dense_out_3_loss: 0.0663 - dense_out_4_loss: 0.0489 - dense_out_5_loss: 0.0582 - dense_out_6_loss: 0.0751 - dense_out_1_acc: 0.9731 - dense_out_2_acc: 0.9721 - dense_out_3_acc: 0.9787 - dense_out_4_acc: 0.9839 - dense_out_5_acc: 0.9823 - dense_out_6_acc: 0.9766 - val_loss: 1.7313 - val_dense_out_1_loss: 0.3388 - val_dense_out_2_loss: 0.3213 - val_dense_out_3_loss: 0.3057 - val_dense_out_4_loss: 0.3138 - val_dense_out_5_loss: 0.2125 - val_dense_out_6_loss: 0.2391 - val_dense_out_1_acc: 0.9093 - val_dense_out_2_acc: 0.9165 - val_dense_out_3_acc: 0.9308 - val_dense_out_4_acc: 0.9523 - val_dense_out_5_acc: 0.9523 - val_dense_out_6_acc: 0.9475\n",
      "Epoch 76/100\n",
      "3796/3796 [==============================] - 12s 3ms/step - loss: 0.4339 - dense_out_1_loss: 0.0779 - dense_out_2_loss: 0.0883 - dense_out_3_loss: 0.0710 - dense_out_4_loss: 0.0575 - dense_out_5_loss: 0.0606 - dense_out_6_loss: 0.0786 - dense_out_1_acc: 0.9734 - dense_out_2_acc: 0.9755 - dense_out_3_acc: 0.9784 - dense_out_4_acc: 0.9813 - dense_out_5_acc: 0.9816 - dense_out_6_acc: 0.9752 - val_loss: 1.6988 - val_dense_out_1_loss: 0.3268 - val_dense_out_2_loss: 0.3279 - val_dense_out_3_loss: 0.2689 - val_dense_out_4_loss: 0.2985 - val_dense_out_5_loss: 0.2427 - val_dense_out_6_loss: 0.2340 - val_dense_out_1_acc: 0.8998 - val_dense_out_2_acc: 0.9212 - val_dense_out_3_acc: 0.9475 - val_dense_out_4_acc: 0.9499 - val_dense_out_5_acc: 0.9475 - val_dense_out_6_acc: 0.9523\n",
      "Epoch 77/100\n",
      "3796/3796 [==============================] - 12s 3ms/step - loss: 0.4322 - dense_out_1_loss: 0.0887 - dense_out_2_loss: 0.0828 - dense_out_3_loss: 0.0634 - dense_out_4_loss: 0.0590 - dense_out_5_loss: 0.0595 - dense_out_6_loss: 0.0787 - dense_out_1_acc: 0.9715 - dense_out_2_acc: 0.9752 - dense_out_3_acc: 0.9810 - dense_out_4_acc: 0.9816 - dense_out_5_acc: 0.9818 - dense_out_6_acc: 0.9734 - val_loss: 1.7786 - val_dense_out_1_loss: 0.3602 - val_dense_out_2_loss: 0.3436 - val_dense_out_3_loss: 0.2764 - val_dense_out_4_loss: 0.3170 - val_dense_out_5_loss: 0.2516 - val_dense_out_6_loss: 0.2298 - val_dense_out_1_acc: 0.8974 - val_dense_out_2_acc: 0.9141 - val_dense_out_3_acc: 0.9332 - val_dense_out_4_acc: 0.9475 - val_dense_out_5_acc: 0.9379 - val_dense_out_6_acc: 0.9451\n",
      "Epoch 78/100\n",
      "3796/3796 [==============================] - 13s 3ms/step - loss: 0.4116 - dense_out_1_loss: 0.0816 - dense_out_2_loss: 0.0767 - dense_out_3_loss: 0.0714 - dense_out_4_loss: 0.0464 - dense_out_5_loss: 0.0650 - dense_out_6_loss: 0.0706 - dense_out_1_acc: 0.9726 - dense_out_2_acc: 0.9768 - dense_out_3_acc: 0.9752 - dense_out_4_acc: 0.9858 - dense_out_5_acc: 0.9789 - dense_out_6_acc: 0.9781 - val_loss: 1.7813 - val_dense_out_1_loss: 0.3449 - val_dense_out_2_loss: 0.3825 - val_dense_out_3_loss: 0.2773 - val_dense_out_4_loss: 0.3181 - val_dense_out_5_loss: 0.2240 - val_dense_out_6_loss: 0.2344 - val_dense_out_1_acc: 0.8926 - val_dense_out_2_acc: 0.9069 - val_dense_out_3_acc: 0.9379 - val_dense_out_4_acc: 0.9475 - val_dense_out_5_acc: 0.9499 - val_dense_out_6_acc: 0.9427\n",
      "Epoch 79/100\n",
      "3796/3796 [==============================] - 12s 3ms/step - loss: 0.4212 - dense_out_1_loss: 0.0733 - dense_out_2_loss: 0.0867 - dense_out_3_loss: 0.0739 - dense_out_4_loss: 0.0503 - dense_out_5_loss: 0.0629 - dense_out_6_loss: 0.0741 - dense_out_1_acc: 0.9763 - dense_out_2_acc: 0.9715 - dense_out_3_acc: 0.9779 - dense_out_4_acc: 0.9847 - dense_out_5_acc: 0.9808 - dense_out_6_acc: 0.9781 - val_loss: 1.7616 - val_dense_out_1_loss: 0.3385 - val_dense_out_2_loss: 0.3493 - val_dense_out_3_loss: 0.2743 - val_dense_out_4_loss: 0.3480 - val_dense_out_5_loss: 0.2230 - val_dense_out_6_loss: 0.2285 - val_dense_out_1_acc: 0.9117 - val_dense_out_2_acc: 0.9212 - val_dense_out_3_acc: 0.9356 - val_dense_out_4_acc: 0.9451 - val_dense_out_5_acc: 0.9499 - val_dense_out_6_acc: 0.9403\n",
      "Epoch 80/100\n",
      "3796/3796 [==============================] - 12s 3ms/step - loss: 0.3905 - dense_out_1_loss: 0.0728 - dense_out_2_loss: 0.0753 - dense_out_3_loss: 0.0652 - dense_out_4_loss: 0.0466 - dense_out_5_loss: 0.0595 - dense_out_6_loss: 0.0712 - dense_out_1_acc: 0.9768 - dense_out_2_acc: 0.9776 - dense_out_3_acc: 0.9802 - dense_out_4_acc: 0.9842 - dense_out_5_acc: 0.9787 - dense_out_6_acc: 0.9752 - val_loss: 1.8407 - val_dense_out_1_loss: 0.3639 - val_dense_out_2_loss: 0.3891 - val_dense_out_3_loss: 0.2943 - val_dense_out_4_loss: 0.3195 - val_dense_out_5_loss: 0.2237 - val_dense_out_6_loss: 0.2502 - val_dense_out_1_acc: 0.9045 - val_dense_out_2_acc: 0.9189 - val_dense_out_3_acc: 0.9379 - val_dense_out_4_acc: 0.9475 - val_dense_out_5_acc: 0.9427 - val_dense_out_6_acc: 0.9379\n",
      "Epoch 81/100\n",
      "3796/3796 [==============================] - 12s 3ms/step - loss: 0.4054 - dense_out_1_loss: 0.0814 - dense_out_2_loss: 0.0812 - dense_out_3_loss: 0.0667 - dense_out_4_loss: 0.0586 - dense_out_5_loss: 0.0504 - dense_out_6_loss: 0.0672 - dense_out_1_acc: 0.9731 - dense_out_2_acc: 0.9737 - dense_out_3_acc: 0.9797 - dense_out_4_acc: 0.9800 - dense_out_5_acc: 0.9821 - dense_out_6_acc: 0.9776 - val_loss: 1.8385 - val_dense_out_1_loss: 0.3342 - val_dense_out_2_loss: 0.3837 - val_dense_out_3_loss: 0.2746 - val_dense_out_4_loss: 0.3462 - val_dense_out_5_loss: 0.2494 - val_dense_out_6_loss: 0.2504 - val_dense_out_1_acc: 0.9141 - val_dense_out_2_acc: 0.9165 - val_dense_out_3_acc: 0.9356 - val_dense_out_4_acc: 0.9499 - val_dense_out_5_acc: 0.9379 - val_dense_out_6_acc: 0.9475\n",
      "Epoch 82/100\n"
     ]
    },
    {
     "name": "stdout",
     "output_type": "stream",
     "text": [
      "3796/3796 [==============================] - 12s 3ms/step - loss: 0.4039 - dense_out_1_loss: 0.0798 - dense_out_2_loss: 0.0701 - dense_out_3_loss: 0.0700 - dense_out_4_loss: 0.0522 - dense_out_5_loss: 0.0602 - dense_out_6_loss: 0.0716 - dense_out_1_acc: 0.9758 - dense_out_2_acc: 0.9784 - dense_out_3_acc: 0.9776 - dense_out_4_acc: 0.9829 - dense_out_5_acc: 0.9805 - dense_out_6_acc: 0.9781 - val_loss: 1.8599 - val_dense_out_1_loss: 0.3312 - val_dense_out_2_loss: 0.4027 - val_dense_out_3_loss: 0.2845 - val_dense_out_4_loss: 0.3291 - val_dense_out_5_loss: 0.2444 - val_dense_out_6_loss: 0.2680 - val_dense_out_1_acc: 0.9189 - val_dense_out_2_acc: 0.9165 - val_dense_out_3_acc: 0.9284 - val_dense_out_4_acc: 0.9475 - val_dense_out_5_acc: 0.9475 - val_dense_out_6_acc: 0.9403\n",
      "Epoch 83/100\n",
      "3796/3796 [==============================] - 12s 3ms/step - loss: 0.3869 - dense_out_1_loss: 0.0780 - dense_out_2_loss: 0.0733 - dense_out_3_loss: 0.0621 - dense_out_4_loss: 0.0503 - dense_out_5_loss: 0.0485 - dense_out_6_loss: 0.0747 - dense_out_1_acc: 0.9758 - dense_out_2_acc: 0.9779 - dense_out_3_acc: 0.9810 - dense_out_4_acc: 0.9810 - dense_out_5_acc: 0.9860 - dense_out_6_acc: 0.9760 - val_loss: 1.8441 - val_dense_out_1_loss: 0.3410 - val_dense_out_2_loss: 0.3483 - val_dense_out_3_loss: 0.3007 - val_dense_out_4_loss: 0.3364 - val_dense_out_5_loss: 0.2321 - val_dense_out_6_loss: 0.2855 - val_dense_out_1_acc: 0.8998 - val_dense_out_2_acc: 0.9212 - val_dense_out_3_acc: 0.9284 - val_dense_out_4_acc: 0.9523 - val_dense_out_5_acc: 0.9499 - val_dense_out_6_acc: 0.9236\n",
      "Epoch 84/100\n",
      "3796/3796 [==============================] - 13s 3ms/step - loss: 0.3842 - dense_out_1_loss: 0.0747 - dense_out_2_loss: 0.0745 - dense_out_3_loss: 0.0584 - dense_out_4_loss: 0.0476 - dense_out_5_loss: 0.0553 - dense_out_6_loss: 0.0737 - dense_out_1_acc: 0.9758 - dense_out_2_acc: 0.9773 - dense_out_3_acc: 0.9808 - dense_out_4_acc: 0.9850 - dense_out_5_acc: 0.9816 - dense_out_6_acc: 0.9787 - val_loss: 1.7906 - val_dense_out_1_loss: 0.3454 - val_dense_out_2_loss: 0.3362 - val_dense_out_3_loss: 0.2793 - val_dense_out_4_loss: 0.3338 - val_dense_out_5_loss: 0.2449 - val_dense_out_6_loss: 0.2510 - val_dense_out_1_acc: 0.9165 - val_dense_out_2_acc: 0.9212 - val_dense_out_3_acc: 0.9379 - val_dense_out_4_acc: 0.9451 - val_dense_out_5_acc: 0.9570 - val_dense_out_6_acc: 0.9379\n",
      "Epoch 85/100\n",
      "3796/3796 [==============================] - 12s 3ms/step - loss: 0.4012 - dense_out_1_loss: 0.0752 - dense_out_2_loss: 0.0702 - dense_out_3_loss: 0.0642 - dense_out_4_loss: 0.0517 - dense_out_5_loss: 0.0584 - dense_out_6_loss: 0.0815 - dense_out_1_acc: 0.9787 - dense_out_2_acc: 0.9771 - dense_out_3_acc: 0.9816 - dense_out_4_acc: 0.9839 - dense_out_5_acc: 0.9816 - dense_out_6_acc: 0.9744 - val_loss: 1.7866 - val_dense_out_1_loss: 0.3535 - val_dense_out_2_loss: 0.3329 - val_dense_out_3_loss: 0.2970 - val_dense_out_4_loss: 0.3307 - val_dense_out_5_loss: 0.2340 - val_dense_out_6_loss: 0.2385 - val_dense_out_1_acc: 0.9069 - val_dense_out_2_acc: 0.9189 - val_dense_out_3_acc: 0.9284 - val_dense_out_4_acc: 0.9523 - val_dense_out_5_acc: 0.9523 - val_dense_out_6_acc: 0.9451\n",
      "Epoch 86/100\n",
      "3796/3796 [==============================] - 12s 3ms/step - loss: 0.4063 - dense_out_1_loss: 0.0824 - dense_out_2_loss: 0.0791 - dense_out_3_loss: 0.0607 - dense_out_4_loss: 0.0547 - dense_out_5_loss: 0.0598 - dense_out_6_loss: 0.0696 - dense_out_1_acc: 0.9734 - dense_out_2_acc: 0.9755 - dense_out_3_acc: 0.9800 - dense_out_4_acc: 0.9823 - dense_out_5_acc: 0.9805 - dense_out_6_acc: 0.9773 - val_loss: 1.7810 - val_dense_out_1_loss: 0.3544 - val_dense_out_2_loss: 0.3412 - val_dense_out_3_loss: 0.2957 - val_dense_out_4_loss: 0.3210 - val_dense_out_5_loss: 0.2290 - val_dense_out_6_loss: 0.2396 - val_dense_out_1_acc: 0.9021 - val_dense_out_2_acc: 0.9212 - val_dense_out_3_acc: 0.9236 - val_dense_out_4_acc: 0.9475 - val_dense_out_5_acc: 0.9427 - val_dense_out_6_acc: 0.9284\n",
      "Epoch 87/100\n",
      "3796/3796 [==============================] - 12s 3ms/step - loss: 0.3487 - dense_out_1_loss: 0.0604 - dense_out_2_loss: 0.0783 - dense_out_3_loss: 0.0600 - dense_out_4_loss: 0.0421 - dense_out_5_loss: 0.0479 - dense_out_6_loss: 0.0599 - dense_out_1_acc: 0.9813 - dense_out_2_acc: 0.9737 - dense_out_3_acc: 0.9823 - dense_out_4_acc: 0.9860 - dense_out_5_acc: 0.9837 - dense_out_6_acc: 0.9800 - val_loss: 1.6632 - val_dense_out_1_loss: 0.3343 - val_dense_out_2_loss: 0.3295 - val_dense_out_3_loss: 0.2580 - val_dense_out_4_loss: 0.3190 - val_dense_out_5_loss: 0.1909 - val_dense_out_6_loss: 0.2316 - val_dense_out_1_acc: 0.9045 - val_dense_out_2_acc: 0.9189 - val_dense_out_3_acc: 0.9379 - val_dense_out_4_acc: 0.9475 - val_dense_out_5_acc: 0.9499 - val_dense_out_6_acc: 0.9427\n",
      "Epoch 88/100\n",
      "3796/3796 [==============================] - 12s 3ms/step - loss: 0.4046 - dense_out_1_loss: 0.0777 - dense_out_2_loss: 0.0752 - dense_out_3_loss: 0.0762 - dense_out_4_loss: 0.0450 - dense_out_5_loss: 0.0558 - dense_out_6_loss: 0.0747 - dense_out_1_acc: 0.9773 - dense_out_2_acc: 0.9755 - dense_out_3_acc: 0.9779 - dense_out_4_acc: 0.9858 - dense_out_5_acc: 0.9802 - dense_out_6_acc: 0.9781 - val_loss: 1.6790 - val_dense_out_1_loss: 0.3392 - val_dense_out_2_loss: 0.3353 - val_dense_out_3_loss: 0.2415 - val_dense_out_4_loss: 0.3211 - val_dense_out_5_loss: 0.2055 - val_dense_out_6_loss: 0.2366 - val_dense_out_1_acc: 0.9069 - val_dense_out_2_acc: 0.9141 - val_dense_out_3_acc: 0.9451 - val_dense_out_4_acc: 0.9451 - val_dense_out_5_acc: 0.9523 - val_dense_out_6_acc: 0.9403\n",
      "Epoch 89/100\n",
      "3796/3796 [==============================] - 12s 3ms/step - loss: 0.4071 - dense_out_1_loss: 0.0787 - dense_out_2_loss: 0.0802 - dense_out_3_loss: 0.0743 - dense_out_4_loss: 0.0420 - dense_out_5_loss: 0.0574 - dense_out_6_loss: 0.0744 - dense_out_1_acc: 0.9729 - dense_out_2_acc: 0.9737 - dense_out_3_acc: 0.9776 - dense_out_4_acc: 0.9845 - dense_out_5_acc: 0.9813 - dense_out_6_acc: 0.9768 - val_loss: 1.7172 - val_dense_out_1_loss: 0.3293 - val_dense_out_2_loss: 0.3554 - val_dense_out_3_loss: 0.2540 - val_dense_out_4_loss: 0.3312 - val_dense_out_5_loss: 0.2364 - val_dense_out_6_loss: 0.2109 - val_dense_out_1_acc: 0.9093 - val_dense_out_2_acc: 0.9212 - val_dense_out_3_acc: 0.9427 - val_dense_out_4_acc: 0.9427 - val_dense_out_5_acc: 0.9523 - val_dense_out_6_acc: 0.9403\n",
      "Epoch 90/100\n",
      "3796/3796 [==============================] - 12s 3ms/step - loss: 0.3609 - dense_out_1_loss: 0.0697 - dense_out_2_loss: 0.0806 - dense_out_3_loss: 0.0571 - dense_out_4_loss: 0.0467 - dense_out_5_loss: 0.0517 - dense_out_6_loss: 0.0551 - dense_out_1_acc: 0.9781 - dense_out_2_acc: 0.9744 - dense_out_3_acc: 0.9810 - dense_out_4_acc: 0.9855 - dense_out_5_acc: 0.9847 - dense_out_6_acc: 0.9800 - val_loss: 1.8025 - val_dense_out_1_loss: 0.3424 - val_dense_out_2_loss: 0.3590 - val_dense_out_3_loss: 0.2864 - val_dense_out_4_loss: 0.3241 - val_dense_out_5_loss: 0.2499 - val_dense_out_6_loss: 0.2407 - val_dense_out_1_acc: 0.9093 - val_dense_out_2_acc: 0.9212 - val_dense_out_3_acc: 0.9379 - val_dense_out_4_acc: 0.9499 - val_dense_out_5_acc: 0.9379 - val_dense_out_6_acc: 0.9427\n",
      "Epoch 91/100\n",
      "3796/3796 [==============================] - 12s 3ms/step - loss: 0.3724 - dense_out_1_loss: 0.0737 - dense_out_2_loss: 0.0733 - dense_out_3_loss: 0.0592 - dense_out_4_loss: 0.0436 - dense_out_5_loss: 0.0520 - dense_out_6_loss: 0.0706 - dense_out_1_acc: 0.9758 - dense_out_2_acc: 0.9763 - dense_out_3_acc: 0.9800 - dense_out_4_acc: 0.9852 - dense_out_5_acc: 0.9866 - dense_out_6_acc: 0.9779 - val_loss: 1.7185 - val_dense_out_1_loss: 0.3454 - val_dense_out_2_loss: 0.3188 - val_dense_out_3_loss: 0.2746 - val_dense_out_4_loss: 0.3180 - val_dense_out_5_loss: 0.2304 - val_dense_out_6_loss: 0.2314 - val_dense_out_1_acc: 0.9045 - val_dense_out_2_acc: 0.9260 - val_dense_out_3_acc: 0.9403 - val_dense_out_4_acc: 0.9475 - val_dense_out_5_acc: 0.9570 - val_dense_out_6_acc: 0.9475\n",
      "Epoch 92/100\n"
     ]
    },
    {
     "name": "stdout",
     "output_type": "stream",
     "text": [
      "3796/3796 [==============================] - 12s 3ms/step - loss: 0.3910 - dense_out_1_loss: 0.0763 - dense_out_2_loss: 0.0716 - dense_out_3_loss: 0.0621 - dense_out_4_loss: 0.0451 - dense_out_5_loss: 0.0634 - dense_out_6_loss: 0.0725 - dense_out_1_acc: 0.9734 - dense_out_2_acc: 0.9779 - dense_out_3_acc: 0.9789 - dense_out_4_acc: 0.9868 - dense_out_5_acc: 0.9802 - dense_out_6_acc: 0.9773 - val_loss: 1.7550 - val_dense_out_1_loss: 0.3554 - val_dense_out_2_loss: 0.3316 - val_dense_out_3_loss: 0.2894 - val_dense_out_4_loss: 0.2936 - val_dense_out_5_loss: 0.2414 - val_dense_out_6_loss: 0.2435 - val_dense_out_1_acc: 0.9021 - val_dense_out_2_acc: 0.9165 - val_dense_out_3_acc: 0.9308 - val_dense_out_4_acc: 0.9403 - val_dense_out_5_acc: 0.9427 - val_dense_out_6_acc: 0.9332\n",
      "Epoch 93/100\n",
      "3796/3796 [==============================] - 12s 3ms/step - loss: 0.3852 - dense_out_1_loss: 0.0821 - dense_out_2_loss: 0.0708 - dense_out_3_loss: 0.0589 - dense_out_4_loss: 0.0426 - dense_out_5_loss: 0.0586 - dense_out_6_loss: 0.0722 - dense_out_1_acc: 0.9744 - dense_out_2_acc: 0.9763 - dense_out_3_acc: 0.9810 - dense_out_4_acc: 0.9876 - dense_out_5_acc: 0.9818 - dense_out_6_acc: 0.9744 - val_loss: 1.6972 - val_dense_out_1_loss: 0.3295 - val_dense_out_2_loss: 0.3247 - val_dense_out_3_loss: 0.2890 - val_dense_out_4_loss: 0.2958 - val_dense_out_5_loss: 0.2221 - val_dense_out_6_loss: 0.2362 - val_dense_out_1_acc: 0.9021 - val_dense_out_2_acc: 0.9308 - val_dense_out_3_acc: 0.9379 - val_dense_out_4_acc: 0.9499 - val_dense_out_5_acc: 0.9547 - val_dense_out_6_acc: 0.9427\n",
      "Epoch 94/100\n",
      "3796/3796 [==============================] - 12s 3ms/step - loss: 0.3709 - dense_out_1_loss: 0.0696 - dense_out_2_loss: 0.0818 - dense_out_3_loss: 0.0585 - dense_out_4_loss: 0.0480 - dense_out_5_loss: 0.0498 - dense_out_6_loss: 0.0633 - dense_out_1_acc: 0.9789 - dense_out_2_acc: 0.9763 - dense_out_3_acc: 0.9837 - dense_out_4_acc: 0.9834 - dense_out_5_acc: 0.9852 - dense_out_6_acc: 0.9776 - val_loss: 1.6862 - val_dense_out_1_loss: 0.3399 - val_dense_out_2_loss: 0.3215 - val_dense_out_3_loss: 0.2602 - val_dense_out_4_loss: 0.3022 - val_dense_out_5_loss: 0.2449 - val_dense_out_6_loss: 0.2174 - val_dense_out_1_acc: 0.9093 - val_dense_out_2_acc: 0.9356 - val_dense_out_3_acc: 0.9403 - val_dense_out_4_acc: 0.9570 - val_dense_out_5_acc: 0.9451 - val_dense_out_6_acc: 0.9403\n",
      "Epoch 95/100\n",
      "3796/3796 [==============================] - 12s 3ms/step - loss: 0.3699 - dense_out_1_loss: 0.0685 - dense_out_2_loss: 0.0709 - dense_out_3_loss: 0.0471 - dense_out_4_loss: 0.0581 - dense_out_5_loss: 0.0670 - dense_out_6_loss: 0.0583 - dense_out_1_acc: 0.9787 - dense_out_2_acc: 0.9792 - dense_out_3_acc: 0.9826 - dense_out_4_acc: 0.9818 - dense_out_5_acc: 0.9802 - dense_out_6_acc: 0.9823 - val_loss: 1.7771 - val_dense_out_1_loss: 0.3493 - val_dense_out_2_loss: 0.3341 - val_dense_out_3_loss: 0.2922 - val_dense_out_4_loss: 0.3132 - val_dense_out_5_loss: 0.2616 - val_dense_out_6_loss: 0.2266 - val_dense_out_1_acc: 0.9045 - val_dense_out_2_acc: 0.9284 - val_dense_out_3_acc: 0.9379 - val_dense_out_4_acc: 0.9451 - val_dense_out_5_acc: 0.9356 - val_dense_out_6_acc: 0.9475\n",
      "Epoch 96/100\n",
      "3796/3796 [==============================] - 12s 3ms/step - loss: 0.3639 - dense_out_1_loss: 0.0650 - dense_out_2_loss: 0.0727 - dense_out_3_loss: 0.0644 - dense_out_4_loss: 0.0418 - dense_out_5_loss: 0.0488 - dense_out_6_loss: 0.0712 - dense_out_1_acc: 0.9797 - dense_out_2_acc: 0.9768 - dense_out_3_acc: 0.9792 - dense_out_4_acc: 0.9860 - dense_out_5_acc: 0.9845 - dense_out_6_acc: 0.9781 - val_loss: 1.7047 - val_dense_out_1_loss: 0.3381 - val_dense_out_2_loss: 0.3079 - val_dense_out_3_loss: 0.2709 - val_dense_out_4_loss: 0.3309 - val_dense_out_5_loss: 0.2561 - val_dense_out_6_loss: 0.2008 - val_dense_out_1_acc: 0.9069 - val_dense_out_2_acc: 0.9332 - val_dense_out_3_acc: 0.9403 - val_dense_out_4_acc: 0.9427 - val_dense_out_5_acc: 0.9475 - val_dense_out_6_acc: 0.9499\n",
      "Epoch 97/100\n",
      "3796/3796 [==============================] - 12s 3ms/step - loss: 0.3673 - dense_out_1_loss: 0.0765 - dense_out_2_loss: 0.0617 - dense_out_3_loss: 0.0622 - dense_out_4_loss: 0.0419 - dense_out_5_loss: 0.0613 - dense_out_6_loss: 0.0637 - dense_out_1_acc: 0.9802 - dense_out_2_acc: 0.9795 - dense_out_3_acc: 0.9821 - dense_out_4_acc: 0.9871 - dense_out_5_acc: 0.9810 - dense_out_6_acc: 0.9808 - val_loss: 1.7649 - val_dense_out_1_loss: 0.3294 - val_dense_out_2_loss: 0.3357 - val_dense_out_3_loss: 0.2933 - val_dense_out_4_loss: 0.3362 - val_dense_out_5_loss: 0.2486 - val_dense_out_6_loss: 0.2217 - val_dense_out_1_acc: 0.9045 - val_dense_out_2_acc: 0.9189 - val_dense_out_3_acc: 0.9379 - val_dense_out_4_acc: 0.9499 - val_dense_out_5_acc: 0.9499 - val_dense_out_6_acc: 0.9403\n",
      "Epoch 98/100\n",
      "3796/3796 [==============================] - 12s 3ms/step - loss: 0.3500 - dense_out_1_loss: 0.0652 - dense_out_2_loss: 0.0712 - dense_out_3_loss: 0.0606 - dense_out_4_loss: 0.0441 - dense_out_5_loss: 0.0504 - dense_out_6_loss: 0.0585 - dense_out_1_acc: 0.9810 - dense_out_2_acc: 0.9771 - dense_out_3_acc: 0.9808 - dense_out_4_acc: 0.9868 - dense_out_5_acc: 0.9826 - dense_out_6_acc: 0.9816 - val_loss: 1.6681 - val_dense_out_1_loss: 0.3132 - val_dense_out_2_loss: 0.3090 - val_dense_out_3_loss: 0.2843 - val_dense_out_4_loss: 0.3320 - val_dense_out_5_loss: 0.2330 - val_dense_out_6_loss: 0.1965 - val_dense_out_1_acc: 0.9165 - val_dense_out_2_acc: 0.9356 - val_dense_out_3_acc: 0.9356 - val_dense_out_4_acc: 0.9427 - val_dense_out_5_acc: 0.9499 - val_dense_out_6_acc: 0.9499\n",
      "Epoch 99/100\n",
      "3796/3796 [==============================] - 12s 3ms/step - loss: 0.3634 - dense_out_1_loss: 0.0725 - dense_out_2_loss: 0.0705 - dense_out_3_loss: 0.0493 - dense_out_4_loss: 0.0517 - dense_out_5_loss: 0.0533 - dense_out_6_loss: 0.0661 - dense_out_1_acc: 0.9773 - dense_out_2_acc: 0.9795 - dense_out_3_acc: 0.9829 - dense_out_4_acc: 0.9823 - dense_out_5_acc: 0.9816 - dense_out_6_acc: 0.9784 - val_loss: 1.7253 - val_dense_out_1_loss: 0.3620 - val_dense_out_2_loss: 0.3284 - val_dense_out_3_loss: 0.2720 - val_dense_out_4_loss: 0.3171 - val_dense_out_5_loss: 0.2392 - val_dense_out_6_loss: 0.2065 - val_dense_out_1_acc: 0.9117 - val_dense_out_2_acc: 0.9284 - val_dense_out_3_acc: 0.9451 - val_dense_out_4_acc: 0.9547 - val_dense_out_5_acc: 0.9451 - val_dense_out_6_acc: 0.9475\n",
      "Epoch 100/100\n",
      "3796/3796 [==============================] - 13s 3ms/step - loss: 0.3633 - dense_out_1_loss: 0.0618 - dense_out_2_loss: 0.0744 - dense_out_3_loss: 0.0594 - dense_out_4_loss: 0.0400 - dense_out_5_loss: 0.0635 - dense_out_6_loss: 0.0642 - dense_out_1_acc: 0.9802 - dense_out_2_acc: 0.9787 - dense_out_3_acc: 0.9773 - dense_out_4_acc: 0.9860 - dense_out_5_acc: 0.9800 - dense_out_6_acc: 0.9810 - val_loss: 1.6961 - val_dense_out_1_loss: 0.3369 - val_dense_out_2_loss: 0.2943 - val_dense_out_3_loss: 0.2723 - val_dense_out_4_loss: 0.3325 - val_dense_out_5_loss: 0.2503 - val_dense_out_6_loss: 0.2099 - val_dense_out_1_acc: 0.9045 - val_dense_out_2_acc: 0.9356 - val_dense_out_3_acc: 0.9451 - val_dense_out_4_acc: 0.9499 - val_dense_out_5_acc: 0.9499 - val_dense_out_6_acc: 0.9523\n"
     ]
    }
   ],
   "source": [
    "model.compile(loss=keras.losses.categorical_crossentropy,\n",
    "                  optimizer='adam',\n",
    "                  metrics=['accuracy'])\n",
    "t = int(time.time())\n",
    "\n",
    "# checkpoint\n",
    "chk_path = os.path.join(model_dir, 'best_{}_{}'.format(NAME,t))\n",
    "checkpoint = ModelCheckpoint(chk_path, monitor='val_acc', verbose=1, save_best_only=True, mode='max')\n",
    "tensorboard = TensorBoard(log_dir=\"logs/{}_{}\".format(NAME,t))\n",
    "callbacks_list = [checkpoint, tensorboard]\n",
    "\n",
    "history = model.fit(X_train, [y_train_0, y_train_1, y_train_2, y_train_3, y_train_4, y_train_5],\n",
    "            batch_size=batch_size,\n",
    "            epochs=epochs,\n",
    "            verbose=1,\n",
    "            shuffle=True,\n",
    "            validation_data=(X_val, [y_val_0, y_val_1, y_val_2, y_val_3, y_val_4, y_val_5]),\n",
    "            callbacks=callbacks_list)\n",
    "\n",
    "#Saving the model\n",
    "model.save(os.path.join(model_dir, 'final_{}_{}'.format(NAME,t)))"
   ]
  },
  {
   "cell_type": "code",
   "execution_count": 4,
   "metadata": {},
   "outputs": [],
   "source": [
    "import tensorflow as tf"
   ]
  },
  {
   "cell_type": "code",
   "execution_count": 62,
   "metadata": {},
   "outputs": [],
   "source": [
    "model = load_model('Models/final_ALPR_CNN_1552982985')"
   ]
  },
  {
   "cell_type": "raw",
   "metadata": {},
   "source": [
    "saver = tf.train.Saver()\n",
    "sess = keras.backend.get_session()\n",
    "save_path\n",
    "keras.backend.get_session()\n",
    "saver.save(sess, 'Models/model')"
   ]
  },
  {
   "cell_type": "code",
   "execution_count": 63,
   "metadata": {},
   "outputs": [],
   "source": [
    "(y_pred_0, y_pred_1, y_pred_2, y_pred_3, y_pred_4, y_pred_5) = model.predict(X_test)"
   ]
  },
  {
   "cell_type": "code",
   "execution_count": 64,
   "metadata": {},
   "outputs": [],
   "source": [
    "y_pred_0 = np.argmax(y_pred_0, axis=1)\n",
    "y_pred_1 = np.argmax(y_pred_1, axis=1)\n",
    "y_pred_2 = np.argmax(y_pred_2, axis=1)\n",
    "y_pred_3 = np.argmax(y_pred_3, axis=1)\n",
    "y_pred_4 = np.argmax(y_pred_4, axis=1)\n",
    "y_pred_5 = np.argmax(y_pred_5, axis=1)"
   ]
  },
  {
   "cell_type": "code",
   "execution_count": 67,
   "metadata": {},
   "outputs": [
    {
     "name": "stdout",
     "output_type": "stream",
     "text": [
      "255\n"
     ]
    }
   ],
   "source": [
    "acc = 0\n",
    "for i,code in enumerate(y_test_coded):\n",
    "    pred = labels_to_text([y_pred_0[i],y_pred_1[i],y_pred_2[i],y_pred_3[i],y_pred_4[i],y_pred_5[i]])\n",
    "    true = labels_to_text(code)\n",
    "    if(pred == true):\n",
    "        acc = acc+1\n",
    "print(acc)"
   ]
  },
  {
   "cell_type": "code",
   "execution_count": null,
   "metadata": {},
   "outputs": [],
   "source": [
    "from sklearn.metrics import confusion_matrix\n",
    "import seaborn as sn\n",
    "import pandas as pd\n",
    "import matplotlib.pyplot as plt\n",
    "\n",
    "cm = confusion_matrix(y_test_coded[:,0],y_pred_0)\n",
    "cm = cm/cm.sum(axis=0)\n",
    "df_cm = pd.DataFrame(cm, index = [i for i in ['Left','Right','Legs','Tongue']],\n",
    "                  columns = [i for i in ['Left','Right','Legs','Tongue']])\n",
    "plt.figure(figsize = (10,7))\n",
    "sn.heatmap(df_cm, annot=True)"
   ]
  },
  {
   "cell_type": "code",
   "execution_count": 68,
   "metadata": {},
   "outputs": [
    {
     "name": "stdout",
     "output_type": "stream",
     "text": [
      "0.5287356321839081\n",
      "0.596551724137931\n",
      "0.8563218390804598\n",
      "0.9011494252873563\n",
      "0.6936781609195403\n",
      "0.6252873563218391\n"
     ]
    }
   ],
   "source": [
    "from sklearn.metrics import accuracy_score\n",
    "\n",
    "accuracy_0 = accuracy_score(y_test_coded[:,0],y_pred_0)\n",
    "accuracy_1 = accuracy_score(y_test_coded[:,1],y_pred_1)\n",
    "accuracy_2 = accuracy_score(y_test_coded[:,2],y_pred_2)\n",
    "accuracy_3 = accuracy_score(y_test_coded[:,3],y_pred_3)\n",
    "accuracy_4 = accuracy_score(y_test_coded[:,4],y_pred_4)\n",
    "accuracy_5 = accuracy_score(y_test_coded[:,5],y_pred_5)\n",
    "print(accuracy_0)\n",
    "print(accuracy_1)\n",
    "print(accuracy_2)\n",
    "print(accuracy_3)\n",
    "print(accuracy_4)\n",
    "print(accuracy_5)"
   ]
  },
  {
   "cell_type": "code",
   "execution_count": null,
   "metadata": {},
   "outputs": [],
   "source": []
  },
  {
   "cell_type": "code",
   "execution_count": null,
   "metadata": {},
   "outputs": [],
   "source": []
  },
  {
   "cell_type": "code",
   "execution_count": null,
   "metadata": {},
   "outputs": [],
   "source": []
  },
  {
   "cell_type": "code",
   "execution_count": null,
   "metadata": {},
   "outputs": [],
   "source": []
  },
  {
   "cell_type": "code",
   "execution_count": null,
   "metadata": {},
   "outputs": [],
   "source": []
  },
  {
   "cell_type": "code",
   "execution_count": null,
   "metadata": {},
   "outputs": [],
   "source": []
  },
  {
   "cell_type": "code",
   "execution_count": null,
   "metadata": {},
   "outputs": [],
   "source": []
  },
  {
   "cell_type": "code",
   "execution_count": null,
   "metadata": {},
   "outputs": [],
   "source": []
  },
  {
   "cell_type": "code",
   "execution_count": null,
   "metadata": {},
   "outputs": [],
   "source": []
  },
  {
   "cell_type": "code",
   "execution_count": null,
   "metadata": {},
   "outputs": [],
   "source": []
  },
  {
   "cell_type": "code",
   "execution_count": null,
   "metadata": {},
   "outputs": [],
   "source": []
  },
  {
   "cell_type": "code",
   "execution_count": null,
   "metadata": {},
   "outputs": [],
   "source": []
  },
  {
   "cell_type": "code",
   "execution_count": null,
   "metadata": {},
   "outputs": [],
   "source": []
  },
  {
   "cell_type": "code",
   "execution_count": null,
   "metadata": {},
   "outputs": [],
   "source": []
  }
 ],
 "metadata": {
  "kernelspec": {
   "display_name": "Python 3",
   "language": "python",
   "name": "python3"
  },
  "language_info": {
   "codemirror_mode": {
    "name": "ipython",
    "version": 3
   },
   "file_extension": ".py",
   "mimetype": "text/x-python",
   "name": "python",
   "nbconvert_exporter": "python",
   "pygments_lexer": "ipython3",
   "version": "3.5.5"
  }
 },
 "nbformat": 4,
 "nbformat_minor": 2
}
